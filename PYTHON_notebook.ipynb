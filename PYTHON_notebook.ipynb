{
 "cells": [
  {
   "cell_type": "raw",
   "id": "e328d596-5f2c-4ea9-bb68-d648a791a2a9",
   "metadata": {},
   "source": [
    "Jupyter notebook python öğrenmek isteyenler için arayüz olarak geliştirilmiş.\n",
    "Kodlama ve öğrenmeye yönelik bir yazılımdır."
   ]
  },
  {
   "cell_type": "code",
   "execution_count": 11,
   "id": "83dac2cf-3b6e-4cad-a2ba-4ddb0d275e55",
   "metadata": {},
   "outputs": [
    {
     "name": "stdin",
     "output_type": "stream",
     "text": [
      "Odev notunu giriniz:  4\n"
     ]
    }
   ],
   "source": [
    "odev = input(\"Odev notunu giriniz: \")\n",
    "vize = input()\n",
    "final = input()"
   ]
  },
  {
   "cell_type": "code",
   "execution_count": 13,
   "id": "2a30c983-8cbd-43f9-8390-c74654a996d2",
   "metadata": {},
   "outputs": [
    {
     "name": "stdout",
     "output_type": "stream",
     "text": [
      "14\n"
     ]
    }
   ],
   "source": [
    "print(sum ({3,2,3,4,5}))"
   ]
  },
  {
   "cell_type": "code",
   "execution_count": null,
   "id": "4b480766-3337-4b85-9ca3-3641b8e6860d",
   "metadata": {},
   "outputs": [],
   "source": []
  },
  {
   "cell_type": "code",
   "execution_count": 21,
   "id": "ec287b3b-5dc3-4ee3-83af-3ff72d5da5dc",
   "metadata": {},
   "outputs": [
    {
     "name": "stdout",
     "output_type": "stream",
     "text": [
      "Total sum: 5\n"
     ]
    }
   ],
   "source": [
    "total = 0\n",
    "for i in range(1,6):\n",
    "    total+=1\n",
    "print(\"Total sum:\", total)"
   ]
  },
  {
   "cell_type": "raw",
   "id": "d45119a0-381d-41e5-87d5-84c5127bb122",
   "metadata": {},
   "source": [
    "Kodları çalıştırmak için ctrl ve enter'a basarsan kod çalışır.\n",
    "shift + enter'a basarsan kodu çalıştırıp alt satıra geçer.\n",
    "\n",
    "Kodu yazdığın satıra yazı yazmak istersen kodun çalışmasına engel olmamak için yazının başına # koyman yeterli. Çalışmasını istemediğin kodun önüne de # koyabilirsin ya da *del* komutunu kullanarak da komutu kullanımdışı bırakabilirsin. \n",
    "\n",
    "Kodları alt alta yazdığında sadece son satırda yazdığın kod çalışır (son giren ilk çıkar). Ama print komutunu kullanarak her satırı ayrıca çalıştırabilirsin.\n",
    "\n",
    "https://docs.python.org/tr/3.13/                                                            \\t"
   ]
  },
  {
   "cell_type": "raw",
   "id": "c3bc04fc-deff-46a9-b9e7-b45805057da0",
   "metadata": {},
   "source": [
    "Sağa Kaydırma (Indent): İlgili satırları seç. Tab tuşuna bas.\n",
    "Sola Kaydırma (Unindent): İlgili satırları seç. Shift + Tab tuşlarına bas.\n",
    "\n",
    "Script, genellikle yorumlanarak (interpreted) çalıştırılır, derlenmez.\n",
    "Program, çoğu zaman derlenerek (compiled) çalıştırılır ve daha karmaşıktır."
   ]
  },
  {
   "cell_type": "markdown",
   "id": "fcbe229b-7363-4351-8b51-0b98c2e7b0c4",
   "metadata": {
    "jp-MarkdownHeadingCollapsed": true
   },
   "source": [
    "# Print"
   ]
  },
  {
   "cell_type": "markdown",
   "id": "dae1efea-df99-4572-8776-cb2951f1afde",
   "metadata": {
    "jp-MarkdownHeadingCollapsed": true
   },
   "source": [
    "## Print komutu başlangıç alıştırmaları"
   ]
  },
  {
   "cell_type": "code",
   "execution_count": 6,
   "id": "1ad3aa04-a2f0-4dc3-bb93-62465a3f95d4",
   "metadata": {},
   "outputs": [
    {
     "name": "stdout",
     "output_type": "stream",
     "text": [
      "Hi!\n"
     ]
    }
   ],
   "source": [
    "print(\"Hi!\")\n",
    "#statik komut"
   ]
  },
  {
   "cell_type": "code",
   "execution_count": 1,
   "id": "51ce7217-3fbf-49c3-b13f-a50a9f290e04",
   "metadata": {},
   "outputs": [
    {
     "name": "stdout",
     "output_type": "stream",
     "text": [
      "Merhaba \n",
      "Python\n",
      "Benim adim \tSongül\n"
     ]
    }
   ],
   "source": [
    "#alt satıra yazmak için entera basmaya gerek yok, \\n  yazıp altta devam edebilirsin, n yerine t yazıp new tab yani yeni sekme oluşturabilirsin. \n",
    "print(\"Merhaba \\nPython\")\n",
    "print(\"Benim adim \\tSongül\")"
   ]
  },
  {
   "cell_type": "code",
   "execution_count": 41,
   "id": "e7137e6f-a6e5-4014-a3ba-e1bb0ce61e43",
   "metadata": {},
   "outputs": [
    {
     "name": "stdout",
     "output_type": "stream",
     "text": [
      "Benim adım Songül, yaşım 22\n"
     ]
    }
   ],
   "source": [
    "print(\"Benim adım{}, yaşım{}\".format(' Songül',' 22'))\n",
    "\n",
    "# dinamik komut olması için .format dan yararlanıyoruz."
   ]
  },
  {
   "cell_type": "code",
   "execution_count": 1,
   "id": "a59be7d4-91d2-463a-832a-631be7865262",
   "metadata": {},
   "outputs": [
    {
     "name": "stdout",
     "output_type": "stream",
     "text": [
      "Benim adım Songul, yaşım 22\n"
     ]
    }
   ],
   "source": [
    "ad = \"Songul\"\n",
    "yas = 22\n",
    "print(f\"Benim adım {ad}, yaşım {yas}\")\n",
    "\n",
    "# f\"\" {degisken}... \"\"  yardımıyla dinamik kod olusturabilirsin. b,Buna f-string denir."
   ]
  },
  {
   "cell_type": "code",
   "execution_count": 49,
   "id": "1efaa563-962f-45c4-8c37-0b6ab31d9793",
   "metadata": {},
   "outputs": [
    {
     "name": "stdout",
     "output_type": "stream",
     "text": [
      "Benim adım Songül, yaşım 22\n"
     ]
    }
   ],
   "source": [
    "print(\"Benim adım{0}, yaşım{1}\".format(' Songül',' 22'))"
   ]
  },
  {
   "cell_type": "code",
   "execution_count": 45,
   "id": "e2df924b-b394-4de0-8ca9-aa0cb60feb3d",
   "metadata": {},
   "outputs": [
    {
     "name": "stdout",
     "output_type": "stream",
     "text": [
      "Benim adım Songül, yaşım 22\n"
     ]
    }
   ],
   "source": [
    "print(\"Benim adım{ad}, yaşım{yaş}\".format(ad =' Songül',yaş =' 22'))"
   ]
  },
  {
   "cell_type": "code",
   "execution_count": 2,
   "id": "e1d08106-2a5c-4ef6-b827-55709d3c1fa3",
   "metadata": {},
   "outputs": [
    {
     "name": "stdout",
     "output_type": "stream",
     "text": [
      "Benim adim Songül\n",
      "Benim adim Songül, yasim 22\n",
      "Benim adim Songül, yasim 22\n",
      "Benim adim 22, yasim Songül\n",
      "Benim adim Songül, yasim 22\n",
      "Benim adim Songül, yasim 22\n"
     ]
    }
   ],
   "source": [
    "print(\"Benim adim {}\".format('Songül'))\n",
    "print(\"Benim adim {}, yasim {}\".format('Songül', 22))\n",
    "\n",
    "print(\"Benim adim {0}, yasim {1}\".format('Songül', 22))\n",
    "print(\"Benim adim {1}, yasim {0}\".format('Songül', 22))\n",
    "\n",
    "print(\"Benim adim {ad}, yasim {yas}\".format(ad='Songül', yas=22))\n",
    "print(\"Benim adim {ad}, yasim {yas}\".format(yas=22, ad='Songül'))"
   ]
  },
  {
   "cell_type": "markdown",
   "id": "e6646948-d7a0-456f-8f98-df22a64ff1f2",
   "metadata": {
    "jp-MarkdownHeadingCollapsed": true
   },
   "source": [
    "## Değişkenlerde kabul edilmeyen isim atama durumları"
   ]
  },
  {
   "cell_type": "raw",
   "id": "14ede218-9d4a-459d-833b-be6fa00455a5",
   "metadata": {},
   "source": [
    "- sayı ile başlaması\n",
    "- boşluk içermesi\n",
    "- \"*(/+-= gibi sembolleri içermesi\n",
    "- rezerve edilmiş isimlerin kullanılması durumlarında değişken çalışmaz."
   ]
  },
  {
   "cell_type": "code",
   "execution_count": 23,
   "id": "daa2f5ac-28b7-4ac3-892c-2da9af778602",
   "metadata": {},
   "outputs": [
    {
     "name": "stdout",
     "output_type": "stream",
     "text": [
      "10\n"
     ]
    }
   ],
   "source": [
    "sayi = 10\n",
    "print(sayi)"
   ]
  },
  {
   "cell_type": "code",
   "execution_count": 4,
   "id": "605e8fcc-f650-4738-8ae4-d72bd71ad03f",
   "metadata": {},
   "outputs": [
    {
     "name": "stdout",
     "output_type": "stream",
     "text": [
      "13\n"
     ]
    }
   ],
   "source": [
    "sayi = 13\n",
    "print(sayi)"
   ]
  },
  {
   "cell_type": "code",
   "execution_count": 6,
   "id": "23a9c525-8dbc-4fcf-8139-dd802e41169c",
   "metadata": {},
   "outputs": [
    {
     "name": "stdout",
     "output_type": "stream",
     "text": [
      "18\n"
     ]
    }
   ],
   "source": [
    "sayi = sayi + 5\n",
    "print(sayi)\n",
    "\n",
    "# Burada bir yukarıdaki komutu (daha doğrusu çalıştırılan son kodu) baz alıyor.\n",
    "# Değişken kendini baz alarak yeni bir kod oluşturabilir."
   ]
  },
  {
   "cell_type": "code",
   "execution_count": 8,
   "id": "2846a6ee-fe50-4a59-851f-1f93369d01cf",
   "metadata": {},
   "outputs": [
    {
     "ename": "SyntaxError",
     "evalue": "invalid syntax (2509589179.py, line 1)",
     "output_type": "error",
     "traceback": [
      "\u001b[1;36m  Cell \u001b[1;32mIn[8], line 1\u001b[1;36m\u001b[0m\n\u001b[1;33m    sayi ilk = 13\u001b[0m\n\u001b[1;37m         ^\u001b[0m\n\u001b[1;31mSyntaxError\u001b[0m\u001b[1;31m:\u001b[0m invalid syntax\n"
     ]
    }
   ],
   "source": [
    "sayi ilk = 13\n",
    "print(sayi ilk)\n",
    "\n",
    "# değişken atarken boşluk bırakılmasını kabul etmediği için hata verir."
   ]
  },
  {
   "cell_type": "code",
   "execution_count": 31,
   "id": "6a0ac8cf-a3e5-4dc4-a764-a14b46b7d99f",
   "metadata": {},
   "outputs": [
    {
     "name": "stdout",
     "output_type": "stream",
     "text": [
      "146\n"
     ]
    }
   ],
   "source": [
    "sayi_ilk = 146\n",
    "print(sayi_ilk)\n",
    "\n",
    "# boşluk bırakmak yerine alt çizgi kullanmayı deneyebilirsin."
   ]
  },
  {
   "cell_type": "code",
   "execution_count": 33,
   "id": "d0bcb85a-4cc9-47a5-95c7-4080aeabf28e",
   "metadata": {},
   "outputs": [
    {
     "ename": "TypeError",
     "evalue": "'str' object is not callable",
     "output_type": "error",
     "traceback": [
      "\u001b[1;31m---------------------------------------------------------------------------\u001b[0m",
      "\u001b[1;31mTypeError\u001b[0m                                 Traceback (most recent call last)",
      "Cell \u001b[1;32mIn[33], line 2\u001b[0m\n\u001b[0;32m      1\u001b[0m \u001b[38;5;28mprint\u001b[39m \u001b[38;5;241m=\u001b[39m \u001b[38;5;124m\"\u001b[39m\u001b[38;5;124mabc\u001b[39m\u001b[38;5;124m\"\u001b[39m\n\u001b[1;32m----> 2\u001b[0m \u001b[38;5;28mprint\u001b[39m(\u001b[38;5;28mprint\u001b[39m)\n",
      "\u001b[1;31mTypeError\u001b[0m: 'str' object is not callable"
     ]
    }
   ],
   "source": [
    "print = \"abc\"\n",
    "print(print)\n",
    "\n",
    "# print fonksiyonu özel olarak python tarafından rezerve edildiği için değişken atamak için kullanılacak kelimelerden biri olamaz."
   ]
  },
  {
   "cell_type": "markdown",
   "id": "ce52507b-2a0a-4111-8340-a074a450e7ef",
   "metadata": {
    "jp-MarkdownHeadingCollapsed": true
   },
   "source": [
    "## Başlık ekleme"
   ]
  },
  {
   "cell_type": "raw",
   "id": "37e7bb1e-d0c1-42c3-896f-cd79b65b7413",
   "metadata": {},
   "source": [
    "Eğer başlık eklemek istersen yukarıda code yazan yeri markdown olarak değiştirmen yeterli\n",
    "\n",
    "jupyter notebookda hazırladığın metni görüntülemek için dosyaya çift tıklaman pek bir işe yaramaz, Anacondayı açıp jupyterden dosyayı bulup görüntülemen daha mantıklı.\n",
    "\n",
    "Eğer ki dosyayı farklı bir uzantıyla açmak istersen:\n",
    "\n",
    "File > Save_and_export_notebook_as\n",
    "yoluyla dosyayı farklı bir uzantıyla kaydedebilirsin."
   ]
  },
  {
   "cell_type": "markdown",
   "id": "a214bebc-0a51-419f-858a-f2961f7ae7d1",
   "metadata": {},
   "source": [
    "# DATA TYPES"
   ]
  },
  {
   "cell_type": "markdown",
   "id": "6500f942-6b9e-40ac-90cd-7a21d08f239a",
   "metadata": {
    "jp-MarkdownHeadingCollapsed": true
   },
   "source": [
    "## Variables"
   ]
  },
  {
   "cell_type": "raw",
   "id": "83336a99-ce74-445f-98d4-f524451ae42f",
   "metadata": {},
   "source": [
    "Tip             Kısaltma   \n",
    ".............................................................\n",
    "Integer     .     int      .   tam sayılar\n",
    "Float       .     float    .   ondalıklı sayılar\n",
    "String      .     str      .   'yazı' \"metin\"\n",
    "Boolean     .     bool     .   True/False \n",
    "List        .     list     .   [] veri listesi\n",
    "Tuple       .     tup      .   () değiştirilemeyen liste\n",
    "Set         .     set      .   {} tekrarsız veriler, küme\n",
    "Dictionary  .     dict     .   {,,:} katalog\n",
    "............................................................."
   ]
  },
  {
   "cell_type": "raw",
   "id": "c0cc22bb-a4c0-48e5-9aa4-786bcf51cdcc",
   "metadata": {},
   "source": [
    " print(type(değişken)) dersen verilen komutun hangi değişkene ait olduğunu öğrenebilirsin.\n",
    "\n",
    "!! Değişkende işlem yapıp silsen de bir sonraki kodlar son yaptığın işleme göre çalışıyor, bunun önüne geçmek için kullanmak istediğin değişkenin olduğu kodu yeniden çalıştır."
   ]
  },
  {
   "cell_type": "raw",
   "id": "3e6602fd-c1e2-48f0-a11c-f1ef137436a9",
   "metadata": {},
   "source": [
    "Listeler : Değiştrilebilir    Sıralı             Kapsayıcı\n",
    "Tuple    : Değiştirilemez     Sıralı             Kapsayıcı\n",
    "Sözlük   : Değiştirilebilir   Sırasız            Kapsayıcı\n",
    "Set      : Değişebilir        Sırasız ve eşsiz   Kapsayıcı"
   ]
  },
  {
   "cell_type": "markdown",
   "id": "7715421a-537d-4c38-97a2-bcc5be4dcc8e",
   "metadata": {
    "jp-MarkdownHeadingCollapsed": true
   },
   "source": [
    "## Basit Aritmetik İşlemler"
   ]
  },
  {
   "cell_type": "raw",
   "id": "feb76716-ecf1-488b-b503-8725835bbb64",
   "metadata": {},
   "source": [
    "Basit hesaplamalar, aritmetik işlemler yapmak için ekstra bir şey yapmana gerek yok.\n",
    "İstediğin işlemi yazıp run etmen yeterli.\n",
    "Ama jupyter'den başka notebook'larda açarken sorun yaşamamak için print yaz hep.\n",
    "!!! Ondalıklı sayılarda virgül yerine nokta kullanılıyor, ona dikkat et."
   ]
  },
  {
   "cell_type": "code",
   "execution_count": 4,
   "id": "6d23c840-9334-465a-96a2-508023b1a152",
   "metadata": {},
   "outputs": [
    {
     "data": {
      "text/plain": [
       "21"
      ]
     },
     "execution_count": 4,
     "metadata": {},
     "output_type": "execute_result"
    }
   ],
   "source": [
    "3*7"
   ]
  },
  {
   "cell_type": "code",
   "execution_count": 8,
   "id": "1f276440-fb28-4070-847b-ffc1fbc9afee",
   "metadata": {},
   "outputs": [
    {
     "data": {
      "text/plain": [
       "1"
      ]
     },
     "execution_count": 8,
     "metadata": {},
     "output_type": "execute_result"
    }
   ],
   "source": [
    "4*5\n",
    "8-7\n",
    "\n",
    "# sadece son işlemi yapar"
   ]
  },
  {
   "cell_type": "code",
   "execution_count": 13,
   "id": "e0771506-ac78-43ec-89de-b879213bb3d0",
   "metadata": {},
   "outputs": [
    {
     "name": "stdout",
     "output_type": "stream",
     "text": [
      "9\n",
      "1\n"
     ]
    }
   ],
   "source": [
    "print(4+5)\n",
    "print(8-7)\n",
    "# Bütün işlemleri çalıştırmak için hepsini printle yazdırman gerekir."
   ]
  },
  {
   "cell_type": "code",
   "execution_count": 11,
   "id": "bd76fbf9-a88e-4fe6-8511-507d5f69ed7e",
   "metadata": {},
   "outputs": [
    {
     "data": {
      "text/plain": [
       "408"
      ]
     },
     "execution_count": 11,
     "metadata": {},
     "output_type": "execute_result"
    }
   ],
   "source": [
    "# bir sayının, başka bir sayıya bölümünden kalanı bulmak için: iki sayı (bölünen ile bölen) arasına % işareti konur.\n",
    "\n",
    "976548%765"
   ]
  },
  {
   "cell_type": "code",
   "execution_count": 3,
   "id": "1ee61c05-6f77-4326-98f1-38e521841155",
   "metadata": {},
   "outputs": [
    {
     "name": "stdout",
     "output_type": "stream",
     "text": [
      "1276.5333333333333\n",
      "1276\n"
     ]
    }
   ],
   "source": [
    "print(976548/765)\n",
    "print(976548//765)\n",
    "# // işareti sayıyı kalansız böler. Diğer bir deyişle bölüm sonucunu virgülden sonraki kısmı olmadan verir."
   ]
  },
  {
   "cell_type": "code",
   "execution_count": 224,
   "id": "595f0229-dec5-40f0-867c-94151bd87a05",
   "metadata": {},
   "outputs": [
    {
     "name": "stdout",
     "output_type": "stream",
     "text": [
      "7\n",
      "25\n"
     ]
    }
   ],
   "source": [
    "print(5^2)\n",
    "print(5**2)\n",
    "# Python'da üs alma ^ ile değil ** ile yapılır."
   ]
  },
  {
   "cell_type": "markdown",
   "id": "fb0995e1-ebaf-4316-b6b2-eb537aa8c4c4",
   "metadata": {
    "jp-MarkdownHeadingCollapsed": true
   },
   "source": [
    "## String"
   ]
  },
  {
   "cell_type": "raw",
   "id": "bd07c34e-1c7e-4bf0-9b55-ec0206f6985a",
   "metadata": {},
   "source": [
    "  P  |  Y  |  T  |  H  |  O  |  N\n",
    "__________________________________\n",
    "  0  |  1  |  2  |  3  |  4  |  5 \n",
    "  0  | -5  | -4  | -3  | -2  | -1\n",
    "\n",
    "\n",
    "String yani yazılar, değişken olarak atanınca her bir karakterin bir indeksi oluyor.\n",
    "Yukarıda olduğu gibi sırayla karakter numarası 1 arttırılarak numaralandırılabilirken son terime -1 denip geriye doğru numaralandırma da yapılabilir. \n",
    "! Unutulmamalıdır ki ilk terim her zaman 0'dır.\n",
    "* Sadece değişken atayıp ya da değişkenle işlem yapıp kodu çalıştırırsan sonuç vermez. Görüntülemek için print kullanarak yazdırman gerek."
   ]
  },
  {
   "cell_type": "code",
   "execution_count": 5,
   "id": "3ac47903-a7d5-4974-bc25-5b34648e4a6e",
   "metadata": {},
   "outputs": [
    {
     "name": "stdout",
     "output_type": "stream",
     "text": [
      "Python\n"
     ]
    }
   ],
   "source": [
    "strvar= \"Python\"\n",
    "print(strvar)\n",
    "# (stringvar = string variable = yazı değişkeni)"
   ]
  },
  {
   "cell_type": "raw",
   "id": "70c99391-823c-422b-866a-15ce2a8a8240",
   "metadata": {},
   "source": [
    "Stringdeki bir karakteri almak için       atadığım değişken[karakter no] \n",
    "Birden fazla karakteri almak için         atadığım değişken[ilk karakter:seçtiğim son karakter]\n",
    "Son karaktere kadar almak için            atadığım değişken[alacağım ilk karakter:] \n",
    "[]   Tek bir eleman alınır.\n",
    "[:]  Başlangıç ve bitiş arasındaki elemanlar alınır. -Bitiş elemanını yazarsan onu dahil etmez-\n",
    "[::] Başlangıç ve bitiş arasındaki elemanlardan sonda yazana göre sıralama yapar ve gruplardan yalnızca ilk elemanları yazdırır."
   ]
  },
  {
   "cell_type": "code",
   "execution_count": 15,
   "id": "7b830ce4-1abe-4563-bac7-0de126eba7ab",
   "metadata": {},
   "outputs": [
    {
     "data": {
      "text/plain": [
       "'t'"
      ]
     },
     "execution_count": 15,
     "metadata": {},
     "output_type": "execute_result"
    }
   ],
   "source": [
    "strvar[2]\n",
    "# 2. indeksi, yani üçüncü harfi, verir."
   ]
  },
  {
   "cell_type": "code",
   "execution_count": 15,
   "id": "bb4e3c62-26f2-4847-9d06-8a47271cb55e",
   "metadata": {},
   "outputs": [
    {
     "data": {
      "text/plain": [
       "'thon'"
      ]
     },
     "execution_count": 15,
     "metadata": {},
     "output_type": "execute_result"
    }
   ],
   "source": [
    "strvar[-4:]\n",
    "# -4ten sonuncuya kadar olanları alır."
   ]
  },
  {
   "cell_type": "code",
   "execution_count": 17,
   "id": "b4d9f661-420c-4d0a-a3a9-6a68e82b2146",
   "metadata": {},
   "outputs": [
    {
     "data": {
      "text/plain": [
       "'Py'"
      ]
     },
     "execution_count": 17,
     "metadata": {},
     "output_type": "execute_result"
    }
   ],
   "source": [
    "strvar[:2]\n",
    "# başlangıçtan 2.ye kadar olanları, (2 hariç) alır."
   ]
  },
  {
   "cell_type": "code",
   "execution_count": 17,
   "id": "fa323926-eca6-46cb-b898-c8b0a6dade38",
   "metadata": {},
   "outputs": [
    {
     "data": {
      "text/plain": [
       "'yth'"
      ]
     },
     "execution_count": 17,
     "metadata": {},
     "output_type": "execute_result"
    }
   ],
   "source": [
    "strvar[1:4]\n",
    "# 1den4e olanları verir ama son haneyi içermez bunu unutma.\n",
    "# ilki inclusive, sonuncu exclusive"
   ]
  },
  {
   "cell_type": "code",
   "execution_count": 7,
   "id": "f4f16ca6-f633-4d20-85da-abe11ecd43dd",
   "metadata": {},
   "outputs": [
    {
     "data": {
      "text/plain": [
       "'Pto'"
      ]
     },
     "execution_count": 7,
     "metadata": {},
     "output_type": "execute_result"
    }
   ],
   "source": [
    "strvar[::2]\n",
    "# baştan sona hepsini çekti, her iki elemandan ilkini yazdı."
   ]
  },
  {
   "cell_type": "code",
   "execution_count": 23,
   "id": "6d31512e-1972-4879-bcda-3ba22429a79a",
   "metadata": {},
   "outputs": [
    {
     "data": {
      "text/plain": [
       "6"
      ]
     },
     "execution_count": 23,
     "metadata": {},
     "output_type": "execute_result"
    }
   ],
   "source": [
    "len(strvar)\n",
    "# stringin uzunluğunu, terim sayısını verdi."
   ]
  },
  {
   "cell_type": "raw",
   "id": "456a9f2d-95b8-402d-92bc-03f9fba5ffbc",
   "metadata": {},
   "source": [
    "Stringlerle aritmetik işlemleri kullanarak yazıları; birleştirebilir, tekrarlayabilir, eksiltebilirsin. \"\" kullanmayı unutma!\n",
    "*  Eğer hata yapıp aynı işlemi tekrar yazmak istersen önceki hatan değişmeden üzerine yeni işlem ekleniyor unutma!!!!\n",
    "** Bunun önüne geçmek için ana kodunu tekrar çalıştır.\n",
    "\n",
    "Metotları görmek için değişkenin sonuna nokta ekle, tab tuşuna bas, opsiyonlar açılacak. Fonksiyonları göreceksin, çıktı almak için sonuna () eklemen gerekir. Bazı opsiyonlar:\n",
    "\n",
    ".upper() = Harfleri büyütür.\n",
    ".lower() = Harfleri küçültür.\n",
    ".split() = Ayırır, (\"x\") yaparsan x'ten ayırır.\n",
    "\n",
    "Verilen opsiyonların nasıl çalıştığını öğrenmek için parantezden sonra shift ve tab tuşlarına aynı anda basarsan komutun kullanım şekillerine dair bilgi verir."
   ]
  },
  {
   "cell_type": "code",
   "execution_count": 9,
   "id": "6cfaea50-6f76-4959-8861-76ad5eeff759",
   "metadata": {},
   "outputs": [
    {
     "name": "stdout",
     "output_type": "stream",
     "text": [
      "Python ogren.\n"
     ]
    }
   ],
   "source": [
    "strvar = \" Python ogren.     \".strip()      # Bastaki ya da sondaki boslukları atar.\n",
    "print(strvar)"
   ]
  },
  {
   "cell_type": "raw",
   "id": "b0461b8d-0646-41a1-b1b7-5ba61bc2e303",
   "metadata": {},
   "source": [
    ".strip(): Baştaki ve sondaki gereksiz boşlukları veya belirtilen karakterleri temizler.\n",
    ".lstrip(): Sadece baştaki karakterleri temizler.\n",
    ".rstrip(): Sadece sondaki karakterleri temizler."
   ]
  },
  {
   "cell_type": "code",
   "execution_count": 31,
   "id": "1b1d2312-36c7-409b-bb52-0ab3c9468795",
   "metadata": {},
   "outputs": [
    {
     "data": {
      "text/plain": [
       "'Python öğren'"
      ]
     },
     "execution_count": 31,
     "metadata": {},
     "output_type": "execute_result"
    }
   ],
   "source": [
    "strvar = strvar + \" öğren\"\n",
    "strvar"
   ]
  },
  {
   "cell_type": "code",
   "execution_count": 37,
   "id": "1376031a-ff5f-4faa-94ee-7c150007d528",
   "metadata": {},
   "outputs": [
    {
     "name": "stdout",
     "output_type": "stream",
     "text": [
      "PYTHON ÖĞREN\n",
      "python öğren\n",
      "['Python', 'öğren']\n",
      "['Pyth', 'n öğren']\n",
      "['Pyth', 'n öğren']\n"
     ]
    }
   ],
   "source": [
    "print(strvar.upper())\n",
    "print(strvar.lower())\n",
    "print(strvar.split())\n",
    "print(strvar.split(\"o\"))\n",
    "print(strvar.split(sep=\"o\", maxsplit=-1))"
   ]
  },
  {
   "cell_type": "markdown",
   "id": "436eebfd-91e3-4aa7-9559-b9bfe2eff0d3",
   "metadata": {
    "jp-MarkdownHeadingCollapsed": true
   },
   "source": [
    "## Boolean"
   ]
  },
  {
   "cell_type": "raw",
   "id": "d5a53054-bb77-4980-8532-69701c1cc0df",
   "metadata": {},
   "source": [
    "True/False değerlerini alır. Başka seçenek yoktur. Bir önermenin yalnızca 0 ve 1 değerlerini alması gibi. Mantıksal önermeler\n",
    "\n",
    "Boolean daha çok if tarzı şartlı sorgulamalar üzerinde anlam ifade eder.\n",
    "== eşit midir?\n",
    "!= eşit değil midir?\n",
    "not ve ! olumsuz soru sorar."
   ]
  },
  {
   "cell_type": "code",
   "execution_count": 27,
   "id": "24fb5c5b-a77d-4d6f-b745-27517aec9adb",
   "metadata": {},
   "outputs": [
    {
     "name": "stdout",
     "output_type": "stream",
     "text": [
      "True\n",
      "False\n",
      "True\n",
      "<class 'str'>\n",
      "<class 'bool'>\n"
     ]
    }
   ],
   "source": [
    "a = True\n",
    "b = False\n",
    "print(a)\n",
    "print(b)\n",
    "c = 'True'\n",
    "print(c)\n",
    "print(type(c))\n",
    "print(type(a))"
   ]
  },
  {
   "cell_type": "code",
   "execution_count": 2,
   "id": "7fbc6fc9-4b0e-464b-97ab-eb3d56b0e937",
   "metadata": {},
   "outputs": [
    {
     "name": "stdout",
     "output_type": "stream",
     "text": [
      "True\n",
      "False\n",
      "True\n",
      "False\n",
      "True\n",
      "False\n"
     ]
    }
   ],
   "source": [
    "yaş1 = 20\n",
    "yaş2 = 18\n",
    "yaş3 = 16\n",
    "\n",
    "print(yaş1>18)\n",
    "print(yaş2>18)\n",
    "print(yaş2>=18)\n",
    "print(yaş3>18)\n",
    "print(yaş2==18)\n",
    "print(yaş2!=18)"
   ]
  },
  {
   "cell_type": "code",
   "execution_count": 4,
   "id": "5950b933-ede2-4453-9f48-85d4713c2cdc",
   "metadata": {},
   "outputs": [
    {
     "name": "stdout",
     "output_type": "stream",
     "text": [
      "False\n"
     ]
    },
    {
     "data": {
      "text/plain": [
       "False"
      ]
     },
     "execution_count": 4,
     "metadata": {},
     "output_type": "execute_result"
    }
   ],
   "source": [
    "print(yaş2!=18)\n",
    "not yaş2 == 18"
   ]
  },
  {
   "cell_type": "code",
   "execution_count": 35,
   "id": "fd2f08f0-8e3b-4613-a451-5650ce12a566",
   "metadata": {},
   "outputs": [
    {
     "data": {
      "text/plain": [
       "True"
      ]
     },
     "execution_count": 35,
     "metadata": {},
     "output_type": "execute_result"
    }
   ],
   "source": [
    "not yaş2 > 18\n",
    "# > ve < sorgulaması yaparken not kullanabiliriz ancak ! kullanımı söz konusu değil.\n",
    "# Eşitlik sorgulaması yaparken ! ve not'ı kullanabiliyoruz."
   ]
  },
  {
   "cell_type": "markdown",
   "id": "a70ca577-57b4-423d-b2c4-d0075c7b7b8c",
   "metadata": {
    "jp-MarkdownHeadingCollapsed": true
   },
   "source": [
    "## List & Set"
   ]
  },
  {
   "cell_type": "raw",
   "id": "c39b7e1e-9099-40a3-9994-0926d8e11f75",
   "metadata": {},
   "source": [
    "[ a  |  b  |  c  |  d  |  e  |  f ]\n",
    "__________________________________\n",
    "  0  |  1  |  2  |  3  |  4  |  5 \n",
    "  0  | -5  | -4  | -3  | -2  | -1"
   ]
  },
  {
   "cell_type": "raw",
   "id": "5bf237f6-213b-40f5-94df-5b1ceb45ecfb",
   "metadata": {},
   "source": [
    "* Bir listeye [\"\"] kullanarak yeni eleman ekleyebilirsin, [ ] kullanarak iki listeyi birleştirebilirsin.\n",
    "\n",
    "*list ve tup kapsayıcıdır(farklı tipte elemanları olabilir.), sıralıdır.\n",
    "\n",
    "* Yine değişkenin sonuna nokta koyup tab'i tuşlayarak farklı metotları görüntüleyebilirsin. Metodu ne şekilde kullanabileceğini görmek için de metodu seçip () koyduktan sonra shift ve tab'i tuşlaman yeterli.\n",
    "\n",
    ".pop() listenin son elemanını çeker, listeyi yeniden yazdırırsan son elemanı yoktur artık. Son elemanını atmak istemezsen .pop() çalıştırdığın kodda bunu bir değişken olarak yazdırıp daha sonra kullanabilirsin.\n",
    "\n",
    "* set(list) listeyi tekrar eden elemanlar olmaksızın yazar. [ ] listi { } setine dönüşür. Set kümedir, kümede tekrar eden eleman olmaz. "
   ]
  },
  {
   "cell_type": "code",
   "execution_count": null,
   "id": "e5668e06-2e9e-4f05-bc03-9b4129cc07be",
   "metadata": {},
   "outputs": [],
   "source": [
    "# .append(\"x\") listeye x elemanını ekler işlem yapmadan.\n",
    "# .pop(n) ile listenin n'e karşılık gelen elemanını çıkarabilirsin.\n",
    "# .sort() listedeki elemanları sıralar.\n",
    "# .reverse() listeyi tersine dizer.\n",
    "# .insert()  bir listeye belirli bir index konumunda eleman eklemek için kullanılır.\n",
    "# .extend() bir listeye başka bir liste veya iterable (tuple, set, string) eklemek için kullanılır.\n",
    "\n",
    "# .difference() ile kümenin farkını ya da - işareti\n",
    "# .intersection() iki küme kesişimi ya da & işareti\n",
    "# .union() iki kümenin birleşimi\n",
    "# .symmetric_difference() ikisinde de olmayanlar\n",
    "# .isdisjoint() iki  kümenin boş olup olmadığının sorgulanması (T/F)\n",
    "# .issubset() bir kümenin başka bir kümenin alt elemanı olup olmadığın sorgulanması"
   ]
  },
  {
   "cell_type": "code",
   "execution_count": 3,
   "id": "157add97-291b-48f2-8e7d-3bb227650b6f",
   "metadata": {},
   "outputs": [
    {
     "name": "stdout",
     "output_type": "stream",
     "text": [
      "['a', 'b', 'c', 'd', 'e', 'a']\n"
     ]
    }
   ],
   "source": [
    "liste = ['a', 'b', 'c', 'd', 'e', 'a']\n",
    "print(liste)"
   ]
  },
  {
   "cell_type": "code",
   "execution_count": 57,
   "id": "8298b3f2-9134-4ede-9ab2-03c91b844347",
   "metadata": {},
   "outputs": [
    {
     "ename": "TypeError",
     "evalue": "can only concatenate list (not \"str\") to list",
     "output_type": "error",
     "traceback": [
      "\u001b[1;31m---------------------------------------------------------------------------\u001b[0m",
      "\u001b[1;31mTypeError\u001b[0m                                 Traceback (most recent call last)",
      "Cell \u001b[1;32mIn[57], line 1\u001b[0m\n\u001b[1;32m----> 1\u001b[0m liste \u001b[38;5;241m=\u001b[39m liste \u001b[38;5;241m+\u001b[39m \u001b[38;5;124m\"\u001b[39m\u001b[38;5;124mf\u001b[39m\u001b[38;5;124m\"\u001b[39m\n\u001b[0;32m      2\u001b[0m liste\n",
      "\u001b[1;31mTypeError\u001b[0m: can only concatenate list (not \"str\") to list"
     ]
    }
   ],
   "source": [
    "liste = liste + \"f\"\n",
    "liste\n",
    "# listeye string ekleyemezsin, listeye çevir."
   ]
  },
  {
   "cell_type": "code",
   "execution_count": 59,
   "id": "f9f302f3-6b2d-4a46-98aa-e1ca7eb8750b",
   "metadata": {},
   "outputs": [
    {
     "data": {
      "text/plain": [
       "['a', 'b', 'c', 'd', 'e', 'a', 'f']"
      ]
     },
     "execution_count": 59,
     "metadata": {},
     "output_type": "execute_result"
    }
   ],
   "source": [
    "liste = liste + [\"f\"]\n",
    "liste"
   ]
  },
  {
   "cell_type": "code",
   "execution_count": 61,
   "id": "8b0f5a2a-c480-4f68-8d03-6bd407ca3814",
   "metadata": {},
   "outputs": [
    {
     "data": {
      "text/plain": [
       "['a', 'b', 'c', 'd', 'e', 'a', 'f', 'g']"
      ]
     },
     "execution_count": 61,
     "metadata": {},
     "output_type": "execute_result"
    }
   ],
   "source": [
    "liste.append(\"g\")\n",
    "liste\n",
    "# .append kullanarak listeye yeni eleman ekleyebiliriz."
   ]
  },
  {
   "cell_type": "code",
   "execution_count": 63,
   "id": "3c457d44-dbb8-4c49-862b-daa3508c072c",
   "metadata": {},
   "outputs": [
    {
     "data": {
      "text/plain": [
       "['d', 'e']"
      ]
     },
     "execution_count": 63,
     "metadata": {},
     "output_type": "execute_result"
    }
   ],
   "source": [
    "liste[3:5]\n",
    "# 3ten 5e kadar olanları göster, 5 dahil değil."
   ]
  },
  {
   "cell_type": "code",
   "execution_count": 65,
   "id": "2f219022-b2d1-4466-85ec-8af281e8e819",
   "metadata": {},
   "outputs": [
    {
     "data": {
      "text/plain": [
       "'g'"
      ]
     },
     "execution_count": 65,
     "metadata": {},
     "output_type": "execute_result"
    }
   ],
   "source": [
    "liste.pop()\n",
    "# Listenin son elemanını çeker, listeden eksiltir yani. \n",
    "# Son elemanı kaybetmek istemezsen değişkene bağlayıp yazdır."
   ]
  },
  {
   "cell_type": "code",
   "execution_count": 67,
   "id": "7303804c-96bf-48f6-b3fa-1285759c85ff",
   "metadata": {},
   "outputs": [
    {
     "name": "stdout",
     "output_type": "stream",
     "text": [
      "f\n",
      "['a', 'b', 'c', 'd', 'e', 'a']\n"
     ]
    }
   ],
   "source": [
    "xyz = liste.pop()\n",
    "print(xyz)\n",
    "print(liste)"
   ]
  },
  {
   "cell_type": "code",
   "execution_count": 69,
   "id": "7784bb49-cfc9-4466-958c-591f15543ccd",
   "metadata": {},
   "outputs": [
    {
     "data": {
      "text/plain": [
       "6"
      ]
     },
     "execution_count": 69,
     "metadata": {},
     "output_type": "execute_result"
    }
   ],
   "source": [
    "len(liste)\n",
    "# Listenin uzunluğunu verir. \n",
    "# Burada da == diye list ve set'i kıyaslayıp tekrar eden eleman olup olmadığını öğrenebiliriz."
   ]
  },
  {
   "cell_type": "code",
   "execution_count": 71,
   "id": "68bc1501-ba89-419e-baa3-24d544e8019d",
   "metadata": {},
   "outputs": [
    {
     "data": {
      "text/plain": [
       "'e'"
      ]
     },
     "execution_count": 71,
     "metadata": {},
     "output_type": "execute_result"
    }
   ],
   "source": [
    "liste.pop(4)"
   ]
  },
  {
   "cell_type": "code",
   "execution_count": 100,
   "id": "ffabd4fc-0ba5-4eaf-b6be-2228d0acb4da",
   "metadata": {},
   "outputs": [
    {
     "name": "stdout",
     "output_type": "stream",
     "text": [
      "[123, 452, 5, 24654, 1784, 1047964, 47562, 5, 98]\n"
     ]
    }
   ],
   "source": [
    "sayilar = [123, 452, 5, 24654, 1784, 1047964, 47562, 5, 98]\n",
    "print(sayilar)"
   ]
  },
  {
   "cell_type": "code",
   "execution_count": 102,
   "id": "64540217-6627-40e9-93f3-b3e45c221952",
   "metadata": {},
   "outputs": [
    {
     "name": "stdout",
     "output_type": "stream",
     "text": [
      "[5, 5, 98, 123, 452, 1784, 24654, 47562, 1047964]\n"
     ]
    }
   ],
   "source": [
    "sayilar.sort()\n",
    "print(sayilar)\n",
    "# .sort() listedeki sayıları küçükten büyüğe sıralar."
   ]
  },
  {
   "cell_type": "code",
   "execution_count": 77,
   "id": "92e088dd-9fa2-4ef6-9083-8316578f5213",
   "metadata": {},
   "outputs": [
    {
     "name": "stdout",
     "output_type": "stream",
     "text": [
      "[1047964, 47562, 24654, 1784, 452, 123, 98, 5, 5]\n"
     ]
    }
   ],
   "source": [
    "sayilar.reverse()\n",
    "print(sayilar)\n",
    "# .reverse() listeyi tersine dizer."
   ]
  },
  {
   "cell_type": "code",
   "execution_count": 79,
   "id": "30ee9143-3943-4a7c-a9f4-d77242ac2abc",
   "metadata": {},
   "outputs": [
    {
     "data": {
      "text/plain": [
       "[98, 5, 47562, 1047964, 1784, 24654, 5, 452, 123]"
      ]
     },
     "execution_count": 79,
     "metadata": {},
     "output_type": "execute_result"
    }
   ],
   "source": [
    "# Listeyi metod kullanmadan ters dizmek için:\n",
    "sayilar = [123, 452, 5, 24654, 1784, 1047964, 47562, 5, 98]\n",
    "sayilar[::-1]"
   ]
  },
  {
   "cell_type": "code",
   "execution_count": 81,
   "id": "cb2281b7-2fc9-4a21-a823-90b724dbcc10",
   "metadata": {},
   "outputs": [
    {
     "data": {
      "text/plain": [
       "{5, 98, 123, 452, 1784, 24654, 47562, 1047964}"
      ]
     },
     "execution_count": 81,
     "metadata": {},
     "output_type": "execute_result"
    }
   ],
   "source": [
    "set(sayilar)\n",
    "# Bu da listedeki elemanları tekrarsız bir listeye çevirir."
   ]
  },
  {
   "cell_type": "code",
   "execution_count": 83,
   "id": "4472dc75-720e-486e-9c17-9ea30a9ca5a0",
   "metadata": {},
   "outputs": [],
   "source": [
    "listt= [123, 452, 5, 24654, 1784, [1047964, 47562, 5], 98]"
   ]
  },
  {
   "cell_type": "code",
   "execution_count": 85,
   "id": "a13dbb9e-24fc-49b1-afec-6cd53f133ec6",
   "metadata": {},
   "outputs": [
    {
     "name": "stdout",
     "output_type": "stream",
     "text": [
      "47562\n",
      "47562\n",
      "47562\n"
     ]
    }
   ],
   "source": [
    "print(listt[-2][-2])\n",
    "print(listt[5][1])\n",
    "print(listt[5][-2])\n",
    "# Bu kodların hepsi de bizi, listenin içindeki listede yer alan 47562 elemanına götürür."
   ]
  },
  {
   "cell_type": "code",
   "execution_count": 122,
   "id": "56f540b3-d724-402c-bb3e-caf8e5018db7",
   "metadata": {},
   "outputs": [
    {
     "name": "stdout",
     "output_type": "stream",
     "text": [
      "[1, 2, [4, 5]]\n"
     ]
    }
   ],
   "source": [
    "#  pop komutunu kullanmadan listeyi [1,2,[4,5]] sekline çevirebilir miyiz?\n",
    "\n",
    "ic_ice_liste = [1,2,3,[4,5]]\n",
    "yeni_liste = ic_ice_liste[:2] + [ic_ice_liste[-1]]\n",
    "print(yeni_liste)"
   ]
  },
  {
   "cell_type": "code",
   "execution_count": 4,
   "id": "1e0738e3-3eb0-45d3-bd87-94a48b85d879",
   "metadata": {},
   "outputs": [
    {
     "name": "stdout",
     "output_type": "stream",
     "text": [
      "[1, 10, 2, 3, 4]\n"
     ]
    }
   ],
   "source": [
    "# Eleman Ekleme:\n",
    "\n",
    "liste = [1, 2, 3]\n",
    "\n",
    "liste.append(4)       # Sona ekler\n",
    "liste.insert(1, 10)   # Belirtilen konuma ekler (1. index'e 10 ekler)\n",
    "\n",
    "print(liste)  # [1, 10, 2, 3, 4]"
   ]
  },
  {
   "cell_type": "code",
   "execution_count": 6,
   "id": "827d2846-aa30-4b8c-bd3b-27b9ab15613e",
   "metadata": {},
   "outputs": [
    {
     "name": "stdout",
     "output_type": "stream",
     "text": [
      "[3]\n"
     ]
    }
   ],
   "source": [
    "# Eleman Silme:\n",
    "\n",
    "liste.remove(10)  # Değeri 10 olan elemanı siler\n",
    "liste.pop()       # Son elemanı siler\n",
    "liste.pop(1)      # 1. index'teki elemanı siler\n",
    "del liste[0]      # 0. index'teki elemanı siler\n",
    "\n",
    "print(liste)  # [2, 3]"
   ]
  },
  {
   "cell_type": "markdown",
   "id": "fc9bf8d2-8b4b-42e7-92d0-419d4349f39f",
   "metadata": {
    "jp-MarkdownHeadingCollapsed": true
   },
   "source": [
    "## Tuple"
   ]
  },
  {
   "cell_type": "raw",
   "id": "a638d9eb-3177-402f-93cf-85ed083da127",
   "metadata": {},
   "source": [
    "( a  |  b  |  c  |  d  |  e  |  a )\n",
    "__________________________________\n",
    "  0  |  1  |  2  |  3  |  4  |  5 \n",
    "  0  | -5  | -4  | -3  | -2  | -1"
   ]
  },
  {
   "cell_type": "raw",
   "id": "3e655e0d-aa38-4741-848c-5fd2c6209ae3",
   "metadata": {},
   "source": [
    "Listede eleman değiştirilebilirken tuple'da böyle bir seçenek mümkün değildir.\n",
    "Belirli senaryolarda aktarılan durumların değişikliğe uğramadan taşınması istenir.\n",
    "Tuple immutable'dır, yani değiştirilemez. (Demet)\n",
    "\n",
    "* tup.count('x') tuple'da kaç tane x olduğunu sayar.\n",
    "  tup.index('x') tuple'da x'in konumunu verir."
   ]
  },
  {
   "cell_type": "code",
   "execution_count": 128,
   "id": "c8456725-49ee-4150-a626-0c42322e6919",
   "metadata": {},
   "outputs": [
    {
     "name": "stdout",
     "output_type": "stream",
     "text": [
      "['a', 'b', 'c', 'd', 'e', 'a']\n",
      "('a', 'b', 'c', 'd', 'e', 'a')\n"
     ]
    }
   ],
   "source": [
    "liste = ['a', 'b', 'c', 'd', 'e', 'a']\n",
    "print(liste)\n",
    "tup = ('a', 'b', 'c', 'd', 'e', 'a')\n",
    "print(tup)"
   ]
  },
  {
   "cell_type": "code",
   "execution_count": 130,
   "id": "d2c33fb8-6b4f-463d-aabb-5fe2b72077f6",
   "metadata": {},
   "outputs": [
    {
     "name": "stdout",
     "output_type": "stream",
     "text": [
      "[132, 'b', 'c', 'd', 'e', 'a']\n"
     ]
    }
   ],
   "source": [
    "liste[0] = 132\n",
    "print(liste)\n",
    "# Listedeki 'a' elemanını 132 ile değiştirir. (stringleri '' ile yazmak zorunlu, sayıları direkt yazabiliriz.)"
   ]
  },
  {
   "cell_type": "code",
   "execution_count": 132,
   "id": "a09daef8-20e7-4084-85e6-9d17dc273f18",
   "metadata": {},
   "outputs": [
    {
     "ename": "SyntaxError",
     "evalue": "cannot assign to function call here. Maybe you meant '==' instead of '='? (2916823779.py, line 1)",
     "output_type": "error",
     "traceback": [
      "\u001b[1;36m  Cell \u001b[1;32mIn[132], line 1\u001b[1;36m\u001b[0m\n\u001b[1;33m    tup(0) = 132\u001b[0m\n\u001b[1;37m    ^\u001b[0m\n\u001b[1;31mSyntaxError\u001b[0m\u001b[1;31m:\u001b[0m cannot assign to function call here. Maybe you meant '==' instead of '='?\n"
     ]
    }
   ],
   "source": [
    "tup(0) = 132\n",
    "print(tup)\n",
    "# Tup değiştirilemez!"
   ]
  },
  {
   "cell_type": "code",
   "execution_count": 134,
   "id": "a2877cea-caba-454c-8478-81713c6b573a",
   "metadata": {},
   "outputs": [
    {
     "data": {
      "text/plain": [
       "2"
      ]
     },
     "execution_count": 134,
     "metadata": {},
     "output_type": "execute_result"
    }
   ],
   "source": [
    "tup.count('a')\n",
    "# a'ları say."
   ]
  },
  {
   "cell_type": "code",
   "execution_count": 136,
   "id": "6da383d5-3d79-43b4-9a6b-eff8a0e8273a",
   "metadata": {},
   "outputs": [
    {
     "data": {
      "text/plain": [
       "0"
      ]
     },
     "execution_count": 136,
     "metadata": {},
     "output_type": "execute_result"
    }
   ],
   "source": [
    "tup.count('f')\n",
    "# f'leri say."
   ]
  },
  {
   "cell_type": "code",
   "execution_count": 138,
   "id": "44d9de97-183b-48f1-9dbf-efe2f5eeda15",
   "metadata": {},
   "outputs": [
    {
     "data": {
      "text/plain": [
       "2"
      ]
     },
     "execution_count": 138,
     "metadata": {},
     "output_type": "execute_result"
    }
   ],
   "source": [
    "tup.index('c')\n",
    "# c'nin konumunu söyle."
   ]
  },
  {
   "cell_type": "code",
   "execution_count": 27,
   "id": "7f4b943c-304b-40d7-939d-f68abd274883",
   "metadata": {},
   "outputs": [
    {
     "ename": "NameError",
     "evalue": "name 'tup' is not defined",
     "output_type": "error",
     "traceback": [
      "\u001b[1;31m---------------------------------------------------------------------------\u001b[0m",
      "\u001b[1;31mNameError\u001b[0m                                 Traceback (most recent call last)",
      "Cell \u001b[1;32mIn[27], line 1\u001b[0m\n\u001b[1;32m----> 1\u001b[0m tup\u001b[38;5;241m.\u001b[39mindex(\u001b[38;5;124m'\u001b[39m\u001b[38;5;124mf\u001b[39m\u001b[38;5;124m'\u001b[39m)\n",
      "\u001b[1;31mNameError\u001b[0m: name 'tup' is not defined"
     ]
    }
   ],
   "source": [
    "tup.index('f')\n",
    "# f'in konumunu söylemesi mümkün olmadığından hata verir."
   ]
  },
  {
   "cell_type": "markdown",
   "id": "4b2c0370-ee82-4f20-9854-da42c2b5ff3b",
   "metadata": {
    "jp-MarkdownHeadingCollapsed": true
   },
   "source": [
    "## Dictionary"
   ]
  },
  {
   "cell_type": "raw",
   "id": "56f27d5d-b193-4833-94d8-4c6eae04d495",
   "metadata": {},
   "source": [
    "List'ler koleksiyonlardır; dictionary'lerse katalogdurlar(çok boyutlu tekil obje).\n",
    "\n",
    "List kendi içinde list içerebilir, dictionary de öyle.\n",
    "dict sırasızdır, index çekemezsin. Key yazıp value çekebilirsin. Sözlüklerde anahtarlar sabit veri yapılarıdır, liste anahtar olamaz çünkü değişkendir. Key'ler referans noktalarıdır.\n",
    "\n",
    ".get veriye karşılık gelen elemanı verir.\n",
    ".keys anahtarlar, veriler\n",
    ".values anahtara karşılık değerler\n",
    ".items her satırı ayrı ayrı yazar"
   ]
  },
  {
   "cell_type": "code",
   "execution_count": 89,
   "id": "b25a3475-611b-42b4-b652-5e78167d7fe3",
   "metadata": {},
   "outputs": [
    {
     "data": {
      "text/plain": [
       "{'isim': 'Songül', 'yaş': '22', 'lokasyon': 'İzmir'}"
      ]
     },
     "execution_count": 89,
     "metadata": {},
     "output_type": "execute_result"
    }
   ],
   "source": [
    "dict1 = {\"isim\": \"Songül\", \"yaş\": \"22\", \"lokasyon\": \"İzmir\"}\n",
    "dict1"
   ]
  },
  {
   "cell_type": "code",
   "execution_count": 9,
   "id": "5e4bd606-54b3-41c6-beec-92cd7660577c",
   "metadata": {},
   "outputs": [
    {
     "data": {
      "text/plain": [
       "{'isim': 'Songül',\n",
       " 'yaş': '22',\n",
       " 'doğduğu şehir': 'Diyarbakir',\n",
       " 'yaşadığı şehir': 'İzmir'}"
      ]
     },
     "execution_count": 9,
     "metadata": {},
     "output_type": "execute_result"
    }
   ],
   "source": [
    "dict2 = {'isim': 'Songül',\n",
    "          'yaş': '22',\n",
    "          'doğduğu şehir': 'Diyarbakir', \n",
    "          'yaşadığı şehir': 'İzmir'\n",
    "        }\n",
    "         \n",
    "dict2"
   ]
  },
  {
   "cell_type": "code",
   "execution_count": 11,
   "id": "c4651031-1245-4933-882e-54aa2fc2adb6",
   "metadata": {},
   "outputs": [
    {
     "data": {
      "text/plain": [
       "{'isim': 'Songül',\n",
       " 'yaş': '22',\n",
       " 'lokasyon': {'doğduğu şehir': 'Diyarbakir', 'yaşadığı şehir': 'İzmir'}}"
      ]
     },
     "execution_count": 11,
     "metadata": {},
     "output_type": "execute_result"
    }
   ],
   "source": [
    "dict3 = {'isim': 'Songül',\n",
    "         'yaş': '22',\n",
    "         'lokasyon':\n",
    "         {'doğduğu şehir': 'Diyarbakir',\n",
    "          'yaşadığı şehir': 'İzmir'}\n",
    "         }\n",
    "dict3"
   ]
  },
  {
   "cell_type": "code",
   "execution_count": 13,
   "id": "9dd61278-904f-40b2-add1-41a38e6b234e",
   "metadata": {},
   "outputs": [
    {
     "data": {
      "text/plain": [
       "'22'"
      ]
     },
     "execution_count": 13,
     "metadata": {},
     "output_type": "execute_result"
    }
   ],
   "source": [
    "dict2['yaş']"
   ]
  },
  {
   "cell_type": "code",
   "execution_count": 15,
   "id": "4fc0019e-41f5-4a26-8d9f-3f62b67aa907",
   "metadata": {},
   "outputs": [
    {
     "data": {
      "text/plain": [
       "'22'"
      ]
     },
     "execution_count": 15,
     "metadata": {},
     "output_type": "execute_result"
    }
   ],
   "source": [
    "dict2.get(\"yaş\")"
   ]
  },
  {
   "cell_type": "code",
   "execution_count": 17,
   "id": "06b4154a-2787-4316-ae19-639e0a8ec64f",
   "metadata": {},
   "outputs": [
    {
     "data": {
      "text/plain": [
       "{'doğduğu şehir': 'Diyarbakir', 'yaşadığı şehir': 'İzmir'}"
      ]
     },
     "execution_count": 17,
     "metadata": {},
     "output_type": "execute_result"
    }
   ],
   "source": [
    "dict3['lokasyon']"
   ]
  },
  {
   "cell_type": "code",
   "execution_count": 19,
   "id": "e1102be2-2fde-4f00-bd70-3df400b971f2",
   "metadata": {},
   "outputs": [
    {
     "data": {
      "text/plain": [
       "'Diyarbakir'"
      ]
     },
     "execution_count": 19,
     "metadata": {},
     "output_type": "execute_result"
    }
   ],
   "source": [
    "dict3['lokasyon']['doğduğu şehir']\n",
    "# 'Diyarbakır' dict içinde dict olduğundan onu almak için iki dict'in de içine giriyoruz."
   ]
  },
  {
   "cell_type": "code",
   "execution_count": 21,
   "id": "4badce0a-d1d5-4f42-906b-97c6eb19c48c",
   "metadata": {},
   "outputs": [
    {
     "data": {
      "text/plain": [
       "'Diyarbakir'"
      ]
     },
     "execution_count": 21,
     "metadata": {},
     "output_type": "execute_result"
    }
   ],
   "source": [
    "dict3.get('lokasyon').get('doğduğu şehir')\n",
    "# 'Diyarbakır' dict içinde dict olduğundan onu almak için iki dict'in de içine giriyoruz."
   ]
  },
  {
   "cell_type": "code",
   "execution_count": 23,
   "id": "63e84037-9fd2-42d3-9bff-5cf81857670a",
   "metadata": {},
   "outputs": [
    {
     "data": {
      "text/plain": [
       "dict_keys(['isim', 'yaş', 'doğduğu şehir', 'yaşadığı şehir'])"
      ]
     },
     "execution_count": 23,
     "metadata": {},
     "output_type": "execute_result"
    }
   ],
   "source": [
    "dict2.keys()"
   ]
  },
  {
   "cell_type": "code",
   "execution_count": 25,
   "id": "8ee7e834-92c4-4e6d-864b-6584256c328f",
   "metadata": {},
   "outputs": [
    {
     "data": {
      "text/plain": [
       "dict_values(['Songül', '22', 'Diyarbakir', 'İzmir'])"
      ]
     },
     "execution_count": 25,
     "metadata": {},
     "output_type": "execute_result"
    }
   ],
   "source": [
    "dict2.values()"
   ]
  },
  {
   "cell_type": "code",
   "execution_count": 27,
   "id": "ed9b9a3e-b00f-4fc6-a02e-896ff08dfcff",
   "metadata": {},
   "outputs": [
    {
     "data": {
      "text/plain": [
       "dict_items([('isim', 'Songül'), ('yaş', '22'), ('doğduğu şehir', 'Diyarbakir'), ('yaşadığı şehir', 'İzmir')])"
      ]
     },
     "execution_count": 27,
     "metadata": {},
     "output_type": "execute_result"
    }
   ],
   "source": [
    "dict2.items()"
   ]
  },
  {
   "cell_type": "code",
   "execution_count": 127,
   "id": "c2ebfd1d-c93e-40b3-8b55-32eb05783e0b",
   "metadata": {},
   "outputs": [
    {
     "data": {
      "text/plain": [
       "{'isim': 'Ece', 'yaş': '22', 'lokasyon': 'İzmir'}"
      ]
     },
     "execution_count": 127,
     "metadata": {},
     "output_type": "execute_result"
    }
   ],
   "source": [
    "dict = {\"isim\": \"Songül\", \"yaş\": \"22\", \"lokasyon\": \"İzmir\"}\n",
    "\n",
    "# isim anahtarına karşılık gelen değeri, başka isimle değiştir:\n",
    "\n",
    "dict[\"isim\"] = \"Ece\"\n",
    "dict"
   ]
  },
  {
   "cell_type": "code",
   "execution_count": 42,
   "id": "95079e97-8424-41d6-9ca7-6923b45107a5",
   "metadata": {},
   "outputs": [
    {
     "data": {
      "text/plain": [
       "{'isim': 'Songül',\n",
       " 'yas': 22,\n",
       " 'lokasyon': {'yasadigi': 'İzmir', 'dogdugu': 'Diyarbakır'}}"
      ]
     },
     "execution_count": 42,
     "metadata": {},
     "output_type": "execute_result"
    }
   ],
   "source": [
    "my_dict = {'isim': 'Songül', \n",
    "           'yas': 22, \n",
    "           'lokasyon': \n",
    "           {'yasadigi':'İzmir', \n",
    "            'dogdugu': 'Diyarbakır'}\n",
    "          }\n",
    "my_dict"
   ]
  },
  {
   "cell_type": "code",
   "execution_count": 133,
   "id": "6eb4bdeb-1a78-424f-b33b-7b61fcc9b294",
   "metadata": {},
   "outputs": [
    {
     "name": "stdout",
     "output_type": "stream",
     "text": [
      "Diyarbakır\n",
      "Diyarbakır\n"
     ]
    }
   ],
   "source": [
    "# my_dict değişkenindeki 'Diyarbakır' değerine nasıl ulaşabiliriz?\n",
    "\n",
    "print(my_dict['lokasyon']['dogdugu'])\n",
    "print(my_dict.get('lokasyon').get('dogdugu'))"
   ]
  },
  {
   "cell_type": "markdown",
   "id": "737f5cc5-a031-4ab1-b50c-04ef7f49740a",
   "metadata": {},
   "source": [
    "# LOOPS and  QUERİES"
   ]
  },
  {
   "cell_type": "markdown",
   "id": "cff6163c-239e-4cb2-a263-f73412b35169",
   "metadata": {
    "jp-MarkdownHeadingCollapsed": true
   },
   "source": [
    "## IF"
   ]
  },
  {
   "cell_type": "code",
   "execution_count": 69,
   "id": "e8968e59-261d-4511-8cec-589781d00003",
   "metadata": {},
   "outputs": [],
   "source": [
    "#  Kullanım senaryosu 1:\n",
    "\n",
    "#  if <koşul sağlanıyorsa>:\n",
    "#     <burada yazılanı yap>"
   ]
  },
  {
   "cell_type": "code",
   "execution_count": 59,
   "id": "ef85881f-f838-4edd-9150-7fa4969ce9fb",
   "metadata": {},
   "outputs": [
    {
     "name": "stdout",
     "output_type": "stream",
     "text": [
      "semsiyeni al!\n"
     ]
    }
   ],
   "source": [
    "hava_durumu = \"yagışlı\"\n",
    "\n",
    "if hava_durumu == \"yagışlı\":\n",
    "    print(\"semsiyeni al!\")"
   ]
  },
  {
   "cell_type": "code",
   "execution_count": 139,
   "id": "08f7212f-0812-4273-a482-0e1d8a34d92f",
   "metadata": {},
   "outputs": [],
   "source": [
    "#   Kullanım senaryosu 2:\n",
    "\n",
    "#   if <koşul sağlanıyorsa>:\n",
    "#      <burada yazılanı yap>\n",
    "#   else:\n",
    "#      <burada yazılanı yap>"
   ]
  },
  {
   "cell_type": "code",
   "execution_count": 141,
   "id": "107afb15",
   "metadata": {},
   "outputs": [
    {
     "name": "stdout",
     "output_type": "stream",
     "text": [
      "Atkını al!\n"
     ]
    }
   ],
   "source": [
    "hava_durumu = \"karlı\"\n",
    "\n",
    "if hava_durumu == \"yagışlı\":\n",
    "    print(\"semsiyeni al!\")\n",
    "else:\n",
    "    print(\"Atkını al!\")"
   ]
  },
  {
   "cell_type": "code",
   "execution_count": 143,
   "id": "51f891b4-0796-4ae7-a352-882e730ed3e6",
   "metadata": {},
   "outputs": [],
   "source": [
    "#    if <koşul sağlanıyorsa>:\n",
    "#       <burada yazılanı yap>\n",
    "#  elif <alternatif koşul sağlanıyorsa>:\n",
    "#       <burada yazılanı yap>\n",
    "#  else:\n",
    "#       <burada yazılanı yap>"
   ]
  },
  {
   "cell_type": "code",
   "execution_count": 145,
   "id": "52a0485d",
   "metadata": {},
   "outputs": [
    {
     "name": "stdout",
     "output_type": "stream",
     "text": [
      "Sorun yok\n"
     ]
    }
   ],
   "source": [
    "hava_durumu = \"günesli\"\n",
    "\n",
    "if hava_durumu == \"yagışlı\":\n",
    "    print(\"Semsiyeni al!\")\n",
    "elif hava_durumu == \"karlı\":\n",
    "    print(\"Atkını al\")\n",
    "else:\n",
    "    print(\"Sorun yok\")\n",
    "\n",
    "# Değişken hangi koşulu sağlıyorsa onun çıktısını verir."
   ]
  },
  {
   "cell_type": "code",
   "execution_count": 186,
   "id": "bf8e0fb9-c2dc-442b-9ae9-d19132c72881",
   "metadata": {},
   "outputs": [
    {
     "name": "stdout",
     "output_type": "stream",
     "text": [
      "Aramıza Hoşgeldin:)\n"
     ]
    }
   ],
   "source": [
    "yas = 35\n",
    "\n",
    "if yas > 18:\n",
    "   print(\"Aramıza Hoşgeldin:)\")\n",
    "else:\n",
    "   print(\"Buraya Ait Değilsin!\")"
   ]
  },
  {
   "cell_type": "code",
   "execution_count": 67,
   "id": "27bbf632-c34b-43d4-a745-ae15b7f3062f",
   "metadata": {},
   "outputs": [
    {
     "name": "stdout",
     "output_type": "stream",
     "text": [
      "d listeye eklendi\n",
      "Güncel liste:['a', 'b', 'c', 'd']\n"
     ]
    }
   ],
   "source": [
    "liste = [\"a\", \"b\", \"c\"]\n",
    "\n",
    "hedef_harf = \"d\"\n",
    "if hedef_harf in liste:\n",
    "    print(\"dahil\")\n",
    "else:\n",
    "    liste.append(hedef_harf)\n",
    "    print(f\"{hedef_harf} listeye eklendi\")\n",
    "    print(f\"Güncel liste:{liste}\")\n",
    "\n",
    "#   in     ile istenilen elemanın hedef_harf listeye dahil olup olmadığını kontrol eder.\n",
    "# .append() kullanarak dahil olmayan elemanı listeye dahil ettik."
   ]
  },
  {
   "cell_type": "raw",
   "id": "c5a86d79-6546-4c8c-a694-f11ae276d6ad",
   "metadata": {},
   "source": [
    "Dikkat edilmesi gereken bir nokta da python tüm girdileri sırayla denemez.\n",
    "Sırayla denediği girdilerden ilk çıktıyı alınca gerisini bırakır. \n",
    "and ve or seçenekleriyle çıktıları çeşitlendirip zenginleştirebiliriz."
   ]
  },
  {
   "cell_type": "code",
   "execution_count": 153,
   "id": "89c891c6-58d6-47ff-ad32-5cfe1275d544",
   "metadata": {},
   "outputs": [
    {
     "name": "stdout",
     "output_type": "stream",
     "text": [
      "dahil fakat ilk eleman değil\n"
     ]
    }
   ],
   "source": [
    "if (hedef_harf in liste) and (hedef_harf == liste[0]):\n",
    "    print(\"dahil ve ilk eleman\")\n",
    "elif hedef_harf in liste:\n",
    "    print(\"dahil fakat ilk eleman değil\")\n",
    "else:\n",
    "    liste.append(hedef_harf)\n",
    "   \n",
    "    print(\"listeye eklendi\")\n",
    "    print(\"Güncel Liste {}\".format(liste))"
   ]
  },
  {
   "cell_type": "code",
   "execution_count": 155,
   "id": "b255004a-8678-4cae-8d8f-876ad668b5f2",
   "metadata": {},
   "outputs": [
    {
     "name": "stdout",
     "output_type": "stream",
     "text": [
      "listeye eklendi\n",
      "Güncel Liste ['a', 'b', 'c', 'd', 'f']\n"
     ]
    }
   ],
   "source": [
    "hedef_harf = \"f\"\n",
    "\n",
    "if hedef_harf in liste and hedef_harf == liste[0]:\n",
    "    print(\"dahil ve ilk eleman\")\n",
    "elif hedef_harf in liste:\n",
    "    print(\"dahil fakat ilk eleman değil\")\n",
    "else:\n",
    "    liste.append(hedef_harf)\n",
    "   \n",
    "    print(\"listeye eklendi\")\n",
    "    print(\"Güncel Liste {}\".format(liste))"
   ]
  },
  {
   "cell_type": "code",
   "execution_count": null,
   "id": "52cb4b5e-3544-489a-8f56-bd6a87703bee",
   "metadata": {},
   "outputs": [],
   "source": []
  },
  {
   "cell_type": "markdown",
   "id": "ebb92145-5dc3-4bc1-80f3-5cd9b02569ec",
   "metadata": {
    "jp-MarkdownHeadingCollapsed": true
   },
   "source": [
    "## For"
   ]
  },
  {
   "cell_type": "code",
   "execution_count": 157,
   "id": "76c7b84c-83e4-497c-90b8-b316eac9871f",
   "metadata": {},
   "outputs": [],
   "source": [
    "#  Kullanım yapısı:\n",
    "\n",
    "#  for <degişken> in <iterable>:\n",
    "#  <buraya yazılanı yap>"
   ]
  },
  {
   "cell_type": "code",
   "execution_count": 71,
   "id": "b50b074e-f172-4b18-99f6-896b817a8839",
   "metadata": {},
   "outputs": [],
   "source": [
    "yorum_birakanlar = [\"İsmail Aydemir\", \"Uygar Aydin\", \"Naz Yagcioglu\", \"Ferhat Ibrik\",\"Ulas Acil\", \"Bilal Kurucay\"]"
   ]
  },
  {
   "cell_type": "code",
   "execution_count": 73,
   "id": "9b74a54f-2fe8-474b-87e9-14e437af1544",
   "metadata": {},
   "outputs": [
    {
     "name": "stdout",
     "output_type": "stream",
     "text": [
      "İsmail Aydemir\n",
      "Uygar Aydin\n",
      "Naz Yagcioglu\n",
      "Ferhat Ibrik\n",
      "Ulas Acil\n",
      "Bilal Kurucay\n"
     ]
    }
   ],
   "source": [
    "for kullanici in yorum_birakanlar:\n",
    "    print(kullanici)"
   ]
  },
  {
   "cell_type": "code",
   "execution_count": 75,
   "id": "d5ba7666-1fc4-4b1e-85db-bfe014797939",
   "metadata": {},
   "outputs": [
    {
     "name": "stdout",
     "output_type": "stream",
     "text": [
      "1 İsmail Aydemir\n",
      "2 Uygar Aydin\n",
      "3 Naz Yagcioglu\n",
      "4 Ferhat Ibrik\n",
      "5 Ulas Acil\n",
      "6 Bilal Kurucay\n"
     ]
    }
   ],
   "source": [
    "kullanici_sayisi = 0\n",
    "for kullanici in yorum_birakanlar:\n",
    "    kullanici_sayisi = kullanici_sayisi + 1\n",
    "    print(kullanici_sayisi, kullanici)\n",
    "# Numaralandırmış olduk."
   ]
  },
  {
   "cell_type": "code",
   "execution_count": 77,
   "id": "02b168a7-029e-4f99-a68a-d6c2fb3d7bf8",
   "metadata": {},
   "outputs": [
    {
     "data": {
      "text/plain": [
       "('İsmail', 'Aydemir')"
      ]
     },
     "execution_count": 77,
     "metadata": {},
     "output_type": "execute_result"
    }
   ],
   "source": [
    "yorum_birakanlar[0].split()[0], yorum_birakanlar[0].split()[1]"
   ]
  },
  {
   "cell_type": "code",
   "execution_count": 79,
   "id": "8bbc823a-33fb-4269-bc6d-8ee059e80a24",
   "metadata": {},
   "outputs": [
    {
     "data": {
      "text/plain": [
       "['İsmail', 'Aydemir']"
      ]
     },
     "execution_count": 79,
     "metadata": {},
     "output_type": "execute_result"
    }
   ],
   "source": [
    "yorum_birakanlar[0].split()"
   ]
  },
  {
   "cell_type": "code",
   "execution_count": 177,
   "id": "71f43664-ab9f-4df8-8fc9-eb746a86c2c2",
   "metadata": {},
   "outputs": [
    {
     "name": "stdout",
     "output_type": "stream",
     "text": [
      "İsmail\n",
      "Aydemir\n"
     ]
    }
   ],
   "source": [
    "ad = yorum_birakanlar[0].split()[0]\n",
    "soyad = yorum_birakanlar[0].split()[1]\n",
    "print(ad)\n",
    "print(soyad)"
   ]
  },
  {
   "cell_type": "code",
   "execution_count": 97,
   "id": "a8fabdea-a31c-4dc8-a4f1-9eedc994b6ea",
   "metadata": {},
   "outputs": [
    {
     "name": "stdout",
     "output_type": "stream",
     "text": [
      "1 İsmail Aydemir\n",
      "2 Uygar Aydin\n",
      "3 Naz Yagcioglu\n",
      "4 Ferhat Ibrik\n",
      "5 Ulas Acil\n",
      "6 Bilal Kurucay\n",
      "6 Bilal Kurucay\n"
     ]
    }
   ],
   "source": [
    "kullanici_sayisi = 0\n",
    "for kullanici in yorum_birakanlar:\n",
    "    kullanici_sayisi = kullanici_sayisi + 1\n",
    "    \n",
    "    print(kullanici_sayisi, kullanici)\n",
    "    \n",
    "print(kullanici_sayisi, kullanici) \n",
    "#en sola yapıştırırsak döngünün içinde çalışmadığı için sadece son elemana işlemi uyguluyor"
   ]
  },
  {
   "cell_type": "code",
   "execution_count": 247,
   "id": "7be26b7d-82e8-44ec-8f9b-bbdcbb75f9ec",
   "metadata": {},
   "outputs": [
    {
     "name": "stdout",
     "output_type": "stream",
     "text": [
      "1. Kullanici Adi İsmail ve Soyadi Aydemir\n",
      "2. Kullanici Adi Uygar ve Soyadi Aydin\n",
      "3. Kullanici Adi Naz ve Soyadi Yagcioglu\n",
      "4. Kullanici Adi Ferhat ve Soyadi Ibrik\n",
      "5. Kullanici Adi Ulas ve Soyadi Acil\n",
      "6. Kullanici Adi Bilal ve Soyadi Kurucay\n"
     ]
    }
   ],
   "source": [
    "kullanici_sayisi = 0\n",
    "\n",
    "for kullanici in yorum_birakanlar:\n",
    "    kullanici_sayisi = kullanici_sayisi + 1 \n",
    "    ad, soyad = kullanici.split()[0], kullanici.split()[1]\n",
    "    print(\"{0}. Kullanici Adi {1} ve Soyadi {2}\".format(kullanici_sayisi, ad, soyad))"
   ]
  },
  {
   "cell_type": "code",
   "execution_count": 115,
   "id": "b45c3390-c28e-4e32-a451-8f858b91ce97",
   "metadata": {},
   "outputs": [
    {
     "name": "stdout",
     "output_type": "stream",
     "text": [
      "1. Kullanıcının Adi İsmail ve Soyadi Aydemir\n",
      "2. Kullanıcının Adi Uygar ve Soyadi Aydin\n",
      "3. Kullanıcının Adi Naz ve Soyadi Yagcioglu\n",
      "1. Moderatörün Adi Ferhat ve Soyadi Ibrik\n",
      "4. Kullanıcının Adi Ulas ve Soyadi Acil\n",
      "5. Kullanıcının Adi Bilal ve Soyadi Kurucay\n"
     ]
    }
   ],
   "source": [
    "moderator = \"Ferhat Ibrik\"\n",
    "\n",
    "kullanici_sayisi = 0\n",
    "moderator_sayisi = 0\n",
    "\n",
    "for kullanici in yorum_birakanlar:\n",
    "    ad, soyad = kullanici.split()[0], kullanici.split()[1]\n",
    "    if kullanici == moderator:\n",
    "       moderator_sayisi = moderator_sayisi + 1  #(moderator_sayisi = moderator_sayisi =+1) soldakiyle aynı\n",
    "       print(\"{0}. Moderatörün Adi {1} ve Soyadi {2}\".format(moderator_sayisi, ad, soyad))\n",
    "    else:\n",
    "        kullanici_sayisi = kullanici_sayisi + 1   \n",
    "        print(\"{0}. Kullanıcının Adi {1} ve Soyadi {2}\".format(kullanici_sayisi, ad, soyad))     "
   ]
  },
  {
   "cell_type": "markdown",
   "id": "43a03803-4804-4e74-b41c-0fbe9b1932c4",
   "metadata": {},
   "source": [
    "### Diğer Iterable Objelerde For Döngüleri"
   ]
  },
  {
   "cell_type": "code",
   "execution_count": 23,
   "id": "699e18f9-f7dc-4367-b59f-c216139cc92e",
   "metadata": {},
   "outputs": [
    {
     "name": "stdout",
     "output_type": "stream",
     "text": [
      "1\n",
      "3\n",
      "5\n",
      "7\n"
     ]
    }
   ],
   "source": [
    "tup1 = (1, 3, 5, 7)\n",
    "\n",
    "for sayi in tup1:\n",
    "    print(sayi)"
   ]
  },
  {
   "cell_type": "code",
   "execution_count": 117,
   "id": "f7cc6690-7e2f-488d-83e5-7c1d882d2b3f",
   "metadata": {},
   "outputs": [
    {
     "name": "stdout",
     "output_type": "stream",
     "text": [
      "1\n",
      "3\n",
      "5\n",
      "a\n"
     ]
    }
   ],
   "source": [
    "liste = [[1, 2], [3, 4], [5, 6], [\"a\", \"b\"]]\n",
    "\n",
    "for x,y in liste:\n",
    "    print(x)\n",
    "\n",
    "# Alt listelerde 2 eleman olduğu için x,y değişkenlerini atarsak bize bunları sırayla verebilir. \n",
    "# Alt listelerdeki eleman sayısı kadar değişken atamak zorundayız!!"
   ]
  },
  {
   "cell_type": "code",
   "execution_count": 41,
   "id": "e2067b4c-f7a7-4740-b2f0-03ec820665ab",
   "metadata": {},
   "outputs": [
    {
     "name": "stdout",
     "output_type": "stream",
     "text": [
      "1 2\n",
      "3 4\n",
      "5 6\n",
      "2\n",
      "12\n",
      "30\n"
     ]
    }
   ],
   "source": [
    "liste = [[1, 2], [3, 4], [5, 6]]\n",
    "\n",
    "for x,y in liste:\n",
    "    print(x, y)\n",
    "\n",
    "for x,y in liste:\n",
    "    print(x*y)"
   ]
  },
  {
   "cell_type": "code",
   "execution_count": 61,
   "id": "34d37027-c9d3-440a-b3df-0f0ae97c039c",
   "metadata": {},
   "outputs": [
    {
     "name": "stdout",
     "output_type": "stream",
     "text": [
      "dict_items([('ad', 'Naz'), ('soyad', 'Yagcioglu')])\n",
      "dict_keys(['ad', 'soyad'])\n"
     ]
    }
   ],
   "source": [
    "kullanici1 = {\n",
    "    \"ad\": \"Naz\",\n",
    "    \"soyad\": \"Yagcioglu\"\n",
    "}\n",
    "print(kullanici1.items())\n",
    "print(kullanici1.keys())"
   ]
  },
  {
   "cell_type": "code",
   "execution_count": 63,
   "id": "b9d5cb18-1c44-4de5-b6f5-d1997ab779b5",
   "metadata": {},
   "outputs": [
    {
     "name": "stdout",
     "output_type": "stream",
     "text": [
      "Key: ad \t Value: Naz\n",
      "Key: soyad \t Value: Yagcioglu\n"
     ]
    }
   ],
   "source": [
    "for k, v in kullanici1.items():\n",
    "    print(\"Key: {} \\t Value: {}\".format(k, v))"
   ]
  },
  {
   "cell_type": "markdown",
   "id": "33a9a00f-22ea-4d32-b686-4564cc9ba389",
   "metadata": {
    "jp-MarkdownHeadingCollapsed": true
   },
   "source": [
    "## While"
   ]
  },
  {
   "cell_type": "code",
   "execution_count": 4,
   "id": "b06d2477-992e-4457-b337-0c4a7168f04e",
   "metadata": {},
   "outputs": [],
   "source": [
    "# Kullanımı:\n",
    "# while <sart dogruyken>:\n",
    "#       <burada yazilani yap>"
   ]
  },
  {
   "cell_type": "code",
   "execution_count": 46,
   "id": "8cea6318-3958-494f-89e4-65cf081b06ef",
   "metadata": {},
   "outputs": [
    {
     "name": "stdout",
     "output_type": "stream",
     "text": [
      "0 degeri 10'dan kücüktür.\n",
      "1 degeri 10'dan kücüktür.\n",
      "2 degeri 10'dan kücüktür.\n",
      "3 degeri 10'dan kücüktür.\n",
      "4 degeri 10'dan kücüktür.\n",
      "5 degeri 10'dan kücüktür.\n",
      "6 degeri 10'dan kücüktür.\n",
      "7 degeri 10'dan kücüktür.\n",
      "8 degeri 10'dan kücüktür.\n",
      "9 degeri 10'dan kücüktür.\n"
     ]
    }
   ],
   "source": [
    "x = 0\n",
    "\n",
    "while x < 10:\n",
    "    print(f\"{x} degeri 10'dan kücüktür.\")\n",
    "    x += 1\n",
    "# printten sonra komut yazmayınca her seferinde 0'ı deniyor ve loop'a giriyor.\n",
    "# =+1 yazarak while'da verdiğimiz koşulu sağlayıncaya kadar işlemi yapmasını sağlıyoruz."
   ]
  },
  {
   "cell_type": "code",
   "execution_count": 47,
   "id": "159194f6-0723-4e25-a24e-30294a520157",
   "metadata": {},
   "outputs": [],
   "source": [
    "# Kullanımı:\n",
    "# while <sart dogruyken>:\n",
    "#       <burada yazilani yap>\n",
    "# else:\n",
    "#       <burada yazilani yap>"
   ]
  },
  {
   "cell_type": "raw",
   "id": "40e2b215-c10d-4411-9369-17ac514a7629",
   "metadata": {},
   "source": [
    "while döngüsü, içindeki koşul True olduğu sürece sürekli çalışmaya devam eder.\n",
    "Döngü her bir yinelemede koşulu kontrol eder; eğer koşul False dönerse döngü sona erer ve varsa else bloğu çalışır.\n",
    "Eğer döngü, içinde bir break ifadesiyle sona erdirilirse else bloğu çalışmaz."
   ]
  },
  {
   "cell_type": "code",
   "execution_count": 131,
   "id": "15bd1510-b34b-4afe-a091-baca49b07dc1",
   "metadata": {},
   "outputs": [
    {
     "name": "stdout",
     "output_type": "stream",
     "text": [
      "i'nin değeri: 0\n",
      "i'nin değeri: 1\n",
      "i'nin değeri: 2\n",
      "i'nin değeri: 3\n"
     ]
    }
   ],
   "source": [
    "i = 0\n",
    "while i < 5:\n",
    "    print(f\"i'nin değeri: {i}\")\n",
    "    if i == 3:\n",
    "        break  # Döngü burada sonlanır\n",
    "    i += 1\n",
    "else:\n",
    "    print(\"Döngü sona erdi.\")\n"
   ]
  },
  {
   "cell_type": "code",
   "execution_count": 54,
   "id": "65d68229-596e-4720-a9cd-33fa1c7efe57",
   "metadata": {},
   "outputs": [
    {
     "name": "stdout",
     "output_type": "stream",
     "text": [
      "0 degeri 10'dan kücüktür.\n",
      "1 degeri 10'dan kücüktür.\n",
      "2 degeri 10'dan kücüktür.\n",
      "3 degeri 10'dan kücüktür.\n",
      "4 degeri 10'dan kücüktür.\n",
      "5 degeri 10'dan kücüktür.\n",
      "6 degeri 10'dan kücüktür.\n",
      "7 degeri 10'dan kücüktür.\n",
      "8 degeri 10'dan kücüktür.\n",
      "9 degeri 10'dan kücüktür.\n",
      "10 degeri 10'dan kücük degil.\n"
     ]
    }
   ],
   "source": [
    "x = 0\n",
    "\n",
    "while x < 10:\n",
    "    print(\"{} degeri 10'dan kücüktür.\".format(x))\n",
    "    x += 1\n",
    "else:\n",
    "    print(\"{} degeri 10'dan kücük degil.\".format(x))\n",
    "# while true döndükçe kodu çalıştırmaya devam eder, false döndüğünde devreye else girer. Else durumunda döngü söz konusu değildir."
   ]
  },
  {
   "cell_type": "code",
   "execution_count": 62,
   "id": "9b01121a-9cb8-42e6-b962-8bbad7da787d",
   "metadata": {},
   "outputs": [
    {
     "name": "stdout",
     "output_type": "stream",
     "text": [
      "4\n",
      "12\n",
      "24\n",
      "24\n"
     ]
    }
   ],
   "source": [
    "# Faktoriyel\n",
    "\n",
    "sayi = 4\n",
    "sonuc = 1\n",
    "\n",
    "while sayi > 0:\n",
    "    sonuc = sonuc * sayi\n",
    "    sayi -= 1\n",
    "    print(sonuc)\n",
    "# Tam olarak faktöriyelin mantığı değil ancak her seferinde doğru sonucu verir.\n",
    "# n*(n-1) işlemini yapıyor. Ne zaman ki n*(n-1)...*1 sonucuna varınca duruyor (0'dan büyük son sayı)"
   ]
  },
  {
   "cell_type": "code",
   "execution_count": 133,
   "id": "01eb2578-b88b-4462-bff1-3f065117cf44",
   "metadata": {},
   "outputs": [
    {
     "data": {
      "text/plain": [
       "5040"
      ]
     },
     "execution_count": 133,
     "metadata": {},
     "output_type": "execute_result"
    }
   ],
   "source": [
    "# Fonksiyon kullanarak faktöriyel tanımlama:\n",
    "\n",
    "def faktoriyel(n):\n",
    "    if n == 0 or n == 1:\n",
    "        return 1\n",
    "    else:\n",
    "        return n * faktoriyel(n - 1)\n",
    "\n",
    "faktoriyel(7)"
   ]
  },
  {
   "cell_type": "markdown",
   "id": "0c043cb4-6f13-4432-9f79-b53e2fb80ca5",
   "metadata": {
    "jp-MarkdownHeadingCollapsed": true
   },
   "source": [
    "## range"
   ]
  },
  {
   "cell_type": "code",
   "execution_count": 52,
   "id": "d50e9a4b-3ee5-453e-9bc7-a69579daefe6",
   "metadata": {},
   "outputs": [
    {
     "data": {
      "text/plain": [
       "range(0, 10)"
      ]
     },
     "execution_count": 52,
     "metadata": {},
     "output_type": "execute_result"
    }
   ],
   "source": [
    "range(10)\n",
    "# 0'dan 10'a sayılar. [0:10] 10 dahil değil."
   ]
  },
  {
   "cell_type": "code",
   "execution_count": 48,
   "id": "dc945972-7657-4598-bc7d-beece89f4a77",
   "metadata": {},
   "outputs": [
    {
     "data": {
      "text/plain": [
       "[0, 1, 2, 3, 4, 5, 6, 7, 8, 9]"
      ]
     },
     "execution_count": 48,
     "metadata": {},
     "output_type": "execute_result"
    }
   ],
   "source": [
    "list(range(10))"
   ]
  },
  {
   "cell_type": "code",
   "execution_count": 135,
   "id": "66e019e3-2b4f-4780-99dd-ad5d97fb5685",
   "metadata": {},
   "outputs": [
    {
     "data": {
      "text/plain": [
       "[0, 1, 2, 3, 4, 5, 6, 7, 8, 9]"
      ]
     },
     "execution_count": 135,
     "metadata": {},
     "output_type": "execute_result"
    }
   ],
   "source": [
    "[*range(10)]\n",
    "# Listeye çevirir."
   ]
  },
  {
   "cell_type": "code",
   "execution_count": 54,
   "id": "f8ee78ee-cb0f-458d-b49e-6c0cbcfd2731",
   "metadata": {},
   "outputs": [
    {
     "data": {
      "text/plain": [
       "[2, 3, 4, 5, 6, 7, 8, 9, 10]"
      ]
     },
     "execution_count": 54,
     "metadata": {},
     "output_type": "execute_result"
    }
   ],
   "source": [
    "[*range(2,11)]"
   ]
  },
  {
   "cell_type": "code",
   "execution_count": 56,
   "id": "4a7c67f6-dc51-4fe5-ab38-be21ed1b4fae",
   "metadata": {},
   "outputs": [
    {
     "data": {
      "text/plain": [
       "[2, 4, 6, 8, 10, 12]"
      ]
     },
     "execution_count": 56,
     "metadata": {},
     "output_type": "execute_result"
    }
   ],
   "source": [
    "[*range(2,13,2)]\n",
    "# 2den 13e (13 dahil degil) sayıları alır, her ikisayıdan ilkini sıralar."
   ]
  },
  {
   "cell_type": "code",
   "execution_count": 60,
   "id": "9de6ef7f-afba-4e5c-9fed-56d9f9eab71d",
   "metadata": {},
   "outputs": [
    {
     "name": "stdout",
     "output_type": "stream",
     "text": [
      "0\n",
      "1\n",
      "2\n",
      "3\n",
      "4\n",
      "5\n",
      "6\n",
      "7\n"
     ]
    }
   ],
   "source": [
    "for sayi in range(8):\n",
    "    print(sayi)  "
   ]
  },
  {
   "cell_type": "code",
   "execution_count": 64,
   "id": "fa76eb0e-2281-4d1f-873c-7c713a312c00",
   "metadata": {},
   "outputs": [
    {
     "name": "stdout",
     "output_type": "stream",
     "text": [
      "6\n",
      "7\n"
     ]
    }
   ],
   "source": [
    "for sayi in range(8):\n",
    "    if sayi > 5:\n",
    "        print(sayi)   "
   ]
  },
  {
   "cell_type": "markdown",
   "id": "3dcc6caf-81cb-4cbe-be21-1b4a0d63b5a7",
   "metadata": {
    "jp-MarkdownHeadingCollapsed": true
   },
   "source": [
    "## enumerate"
   ]
  },
  {
   "cell_type": "code",
   "execution_count": 19,
   "id": "0ae58843-ddd3-48f2-9858-d00115bdd342",
   "metadata": {},
   "outputs": [
    {
     "name": "stdout",
     "output_type": "stream",
     "text": [
      "a\n",
      "b\n",
      "c\n",
      "d\n",
      "e\n"
     ]
    }
   ],
   "source": [
    "harfler = ['a', 'b', 'c', 'd', 'e']\n",
    "for harf in harfler:\n",
    "    print(harf)"
   ]
  },
  {
   "cell_type": "code",
   "execution_count": 65,
   "id": "2f1122b7-05c6-4d02-af0d-3d17bfbf6475",
   "metadata": {},
   "outputs": [
    {
     "name": "stdout",
     "output_type": "stream",
     "text": [
      "(0, 'a')\n",
      "(1, 'b')\n",
      "(2, 'c')\n",
      "(3, 'd')\n",
      "(4, 'e')\n"
     ]
    }
   ],
   "source": [
    "harfler = ['a', 'b', 'c', 'd', 'e']\n",
    "for harf in enumerate(harfler):\n",
    "    print(harf)\n",
    "# Listenin elemanlarını numaralandırıyor daha doğrusu indexleriyle birlikte listeliyor."
   ]
  },
  {
   "cell_type": "code",
   "execution_count": 141,
   "id": "9f34f45d-25f2-4641-95aa-541e79791f93",
   "metadata": {},
   "outputs": [
    {
     "name": "stdout",
     "output_type": "stream",
     "text": [
      "1 a\n",
      "2 b\n",
      "3 c\n",
      "4 d\n",
      "5 e\n"
     ]
    }
   ],
   "source": [
    "for index, harf in enumerate(harfler):\n",
    "    print(index+1, harf)"
   ]
  },
  {
   "cell_type": "code",
   "execution_count": 147,
   "id": "0905e154-1e34-48a3-a28f-2f6ac9d6e643",
   "metadata": {},
   "outputs": [
    {
     "name": "stdout",
     "output_type": "stream",
     "text": [
      "1. harf: a\n",
      "2. harf: b\n",
      "3. harf: c\n",
      "4. harf: d\n",
      "5. harf: e\n"
     ]
    }
   ],
   "source": [
    "for index, harf in enumerate(harfler):\n",
    "    print(f\"{index+1}. harf: {harf}\")"
   ]
  },
  {
   "cell_type": "markdown",
   "id": "97c2202f-e4fc-44d7-8a9b-ea6f97017ede",
   "metadata": {
    "jp-MarkdownHeadingCollapsed": true
   },
   "source": [
    "## zip"
   ]
  },
  {
   "cell_type": "code",
   "execution_count": 17,
   "id": "360764cf-b584-4db8-9237-4b7b6b6c2f82",
   "metadata": {},
   "outputs": [
    {
     "name": "stdout",
     "output_type": "stream",
     "text": [
      "('TR', 1)\n",
      "('FR', 2)\n",
      "('DE', 3)\n"
     ]
    }
   ],
   "source": [
    "ulkeler = ['TR', 'FR', 'DE']\n",
    "siralamalar = range(1, 4)\n",
    "\n",
    "for ulke in zip(ulkeler,siralamalar):\n",
    "    print(ulke)\n",
    "# Uzunlukları birbirine esit listeleri zipliyor."
   ]
  },
  {
   "cell_type": "markdown",
   "id": "d18a5862-1744-4fd7-be3a-e0be53b7d845",
   "metadata": {
    "jp-MarkdownHeadingCollapsed": true
   },
   "source": [
    "## break & continue"
   ]
  },
  {
   "cell_type": "raw",
   "id": "11f7e7b5-d02d-4bcc-af03-da9452e4ad1d",
   "metadata": {},
   "source": [
    "break döngüye nerede duracağını söylerken continue döngüye nereyi atlaması gerektiğini söyler."
   ]
  },
  {
   "cell_type": "code",
   "execution_count": 151,
   "id": "936464e7-f67e-400e-9cd8-4e4fbccd8b4f",
   "metadata": {},
   "outputs": [
    {
     "name": "stdout",
     "output_type": "stream",
     "text": [
      "c harfi 2. indexte\n"
     ]
    }
   ],
   "source": [
    "for index, harf in enumerate(harfler):\n",
    "    if harf == 'c':\n",
    "        print(f'{harf} harfi {index}. indexte')"
   ]
  },
  {
   "cell_type": "code",
   "execution_count": 38,
   "id": "e47b8b8b-d0b0-42bd-806e-c51212f5f588",
   "metadata": {},
   "outputs": [
    {
     "name": "stdout",
     "output_type": "stream",
     "text": [
      "c harfi 2. indexte\n",
      "c harfi 7. indexte\n",
      "c harfi 12. indexte\n",
      "c harfi 17. indexte\n",
      "c harfi 22. indexte\n"
     ]
    }
   ],
   "source": [
    "harfler = ['a', 'b', 'c', 'd', 'e']*5\n",
    "for index, harf in enumerate(harfler):\n",
    "    if harf == 'c':\n",
    "        print('{} harfi {}. indexte'.format(harf, index))"
   ]
  },
  {
   "cell_type": "code",
   "execution_count": 40,
   "id": "03dd5655-e417-4dc0-b7df-65a4c4c173c6",
   "metadata": {},
   "outputs": [
    {
     "name": "stdout",
     "output_type": "stream",
     "text": [
      "c harfi 2. indexte\n"
     ]
    }
   ],
   "source": [
    "harfler = ['a', 'b', 'c', 'd', 'e']*5\n",
    "for index, harf in enumerate(harfler):\n",
    "    if harf == 'c':\n",
    "        print('{} harfi {}. indexte'.format(harf, index))\n",
    "        break\n",
    "# Döngünün nerede kirilacaginin komutunu veriyoruz."
   ]
  },
  {
   "cell_type": "code",
   "execution_count": 153,
   "id": "675ec731-6e9c-453d-9884-e8f55571f491",
   "metadata": {},
   "outputs": [
    {
     "name": "stdout",
     "output_type": "stream",
     "text": [
      "1\n",
      "3\n",
      "5\n"
     ]
    }
   ],
   "source": [
    "for sayi in range(1,6):\n",
    "    if sayi%2==0:          # cift sayi sorgulama\n",
    "        continue\n",
    "    print(sayi)"
   ]
  },
  {
   "cell_type": "markdown",
   "id": "3c517643-863e-4c2f-b280-8bdbb45a5e86",
   "metadata": {
    "jp-MarkdownHeadingCollapsed": true
   },
   "source": [
    "## pass"
   ]
  },
  {
   "cell_type": "raw",
   "id": "b5d38ca7-d725-4a11-8c2c-bd833dc47a2c",
   "metadata": {},
   "source": [
    "Henüz yazılmamış veya planlanmamış bir kod parçasını geçici olarak boş bırakmak için kullanılır.\n",
    "Kod çalışmaya devam eder ve hata almazsınız.\n",
    "Boş bir döngü yazmanız gerekiyorsa, pass ile kodun hata vermesini engelleyebilirsiniz.\n",
    "Bir if-else bloğu içinde henüz bir işlem yapmayacaksanız pass kullanabilirsiniz."
   ]
  },
  {
   "cell_type": "code",
   "execution_count": 67,
   "id": "7810dc5e-42ee-41d2-bbed-1ca8ac5e1299",
   "metadata": {},
   "outputs": [
    {
     "name": "stdout",
     "output_type": "stream",
     "text": [
      "1\n",
      "3\n",
      "5\n"
     ]
    }
   ],
   "source": [
    "for sayi in range(1,6):\n",
    "    if sayi%2==0:          # cift sayi sorgulama\n",
    "        pass               # if bloğunda istenenleri pass geç.\n",
    "    else:\n",
    "        print(sayi)        # Böylelikle tek sayıları yazdırmış olur."
   ]
  },
  {
   "cell_type": "code",
   "execution_count": 69,
   "id": "001d40ab-cda0-4f62-9100-215f83cb30e4",
   "metadata": {},
   "outputs": [
    {
     "name": "stdout",
     "output_type": "stream",
     "text": [
      "1\n",
      "3\n",
      "5\n"
     ]
    }
   ],
   "source": [
    "for sayi in range(1,6):\n",
    "    if sayi%2 != 0:         # Tek sayi sorgulama\n",
    "        print(sayi) "
   ]
  },
  {
   "cell_type": "code",
   "execution_count": 71,
   "id": "e09eb912-463f-4e6a-9e0a-c34693908a44",
   "metadata": {},
   "outputs": [
    {
     "name": "stdout",
     "output_type": "stream",
     "text": [
      "5\n"
     ]
    }
   ],
   "source": [
    "if sayi < 5:\n",
    "    pass\n",
    "else:\n",
    "    print(sayi)\n",
    "# Henuz olusturulmayan kodları es  gecip geri kalanı calıstırmak ıcın kullanılıyor.   "
   ]
  },
  {
   "cell_type": "code",
   "execution_count": 161,
   "id": "0cadd2eb-09f0-465a-89ae-8f64faf167fc",
   "metadata": {},
   "outputs": [
    {
     "name": "stdin",
     "output_type": "stream",
     "text": [
      "Bir sayı giriniz:  k\n"
     ]
    }
   ],
   "source": [
    "# İleri Kullanım: try-except Bloklarında\n",
    "\n",
    "try:\n",
    "    sayi = int(input(\"Bir sayı giriniz: \"))\n",
    "except ValueError:\n",
    "    pass  # Hata durumunda şimdilik işlem yapma"
   ]
  },
  {
   "cell_type": "markdown",
   "id": "31e4bd24-3076-4b3e-aeb0-0ec61bbfe895",
   "metadata": {
    "jp-MarkdownHeadingCollapsed": true
   },
   "source": [
    "## Quiz"
   ]
  },
  {
   "cell_type": "code",
   "execution_count": 165,
   "id": "f6d48f0f-24ee-4dbc-93be-75729e5dce54",
   "metadata": {},
   "outputs": [],
   "source": [
    " kullanici1 = {\n",
    "    'ad': 'Ferhat',\n",
    "    'soyad': 'Ibrik',\n",
    "    'uzmanlik': ['Front-End']\n",
    "}\n",
    "kullanici2 = {\n",
    "    'ad': 'Gokce',\n",
    "    'soyad': 'Gün',\n",
    "    'uzmanlik': ['Tasarim']\n",
    "}\n",
    "kullanici3 = {\n",
    "    'ad': 'Mesut',\n",
    "    'soyad': 'Gün',\n",
    "    'uzmanlik': ['Front-End']\n",
    "}"
   ]
  },
  {
   "cell_type": "code",
   "execution_count": 167,
   "id": "264b7e69-73bf-4b3a-af08-64173b0ac2de",
   "metadata": {},
   "outputs": [
    {
     "data": {
      "text/plain": [
       "['Front-End']"
      ]
     },
     "execution_count": 167,
     "metadata": {},
     "output_type": "execute_result"
    }
   ],
   "source": [
    "# Soru 1: Ferhat Ibrik Kullanicisinin uzmanlik alanlarini döndür\n",
    "kullanici1.get('uzmanlik')\n",
    "kullanici1['uzmanlik']"
   ]
  },
  {
   "cell_type": "code",
   "execution_count": 10,
   "id": "98a631ad-fbe6-4c58-b43b-98a671e8993b",
   "metadata": {},
   "outputs": [
    {
     "name": "stdout",
     "output_type": "stream",
     "text": [
      "Ferhat\n",
      "Mesut\n"
     ]
    }
   ],
   "source": [
    "kullanici_listesi = [kullanici1, kullanici2, kullanici3] \n",
    "\n",
    "# Soru 2: Front-end alanindaki uzmanlarin isimlerini döndür\n",
    "for kullanici in kullanici_listesi:\n",
    "    if 'Front-End' in kullanici.get('uzmanlik'): \n",
    "        print(kullanici.get('ad'))"
   ]
  },
  {
   "cell_type": "code",
   "execution_count": 12,
   "id": "108f0874-ad40-4505-9a19-f7396960158f",
   "metadata": {},
   "outputs": [
    {
     "name": "stdout",
     "output_type": "stream",
     "text": [
      "[{'ad': 'Ferhat', 'soyad': 'Ibrik', 'uzmanlik': ['Front-End']}, {'ad': 'Gokce', 'soyad': 'Gün', 'uzmanlik': ['Tasarim']}, {'ad': 'Mesut', 'soyad': 'Gün', 'uzmanlik': ['Front-End', 'Yazilim']}]\n"
     ]
    }
   ],
   "source": [
    "# Soru 3: Mesut kullanicisi Yazilim ögrendi, bilgileri güncelle!\n",
    "kullanici3['uzmanlik'].append('Yazilim')\n",
    "print(kullanici_listesi)"
   ]
  },
  {
   "cell_type": "code",
   "execution_count": 14,
   "id": "e5b10ceb-ef13-474d-8201-a441d09439b7",
   "metadata": {},
   "outputs": [
    {
     "name": "stdout",
     "output_type": "stream",
     "text": [
      "{'ad': 'Mesut', 'soyad': 'Gün', 'uzmanlik': ['Front-End', 'Yazilim']}\n"
     ]
    }
   ],
   "source": [
    "# Soru 4: 1den fazla uzmanlik alani olan kullanicilari döndür (Hint: length)\n",
    "\n",
    "for kullanici in kullanici_listesi:\n",
    "    if len(kullanici['uzmanlik']) > 1:\n",
    "        print(kullanici)"
   ]
  },
  {
   "cell_type": "code",
   "execution_count": 16,
   "id": "e80bdf48-e44e-4ba6-9e70-c2a8e644fda6",
   "metadata": {},
   "outputs": [
    {
     "name": "stdout",
     "output_type": "stream",
     "text": [
      "{'ad': 'Ferhat', 'soyad': 'Ibrik', 'uzmanlik': ['Front-End']}\n"
     ]
    }
   ],
   "source": [
    "kullanici_yaslari_listesi = [22, 34, 32]\n",
    "# Soru 5: zip kullanarak iki listeyi birlestir ve yasi 30'dan az olan kullanicilar kimler?\n",
    "\n",
    "for kullanici, yas in zip(kullanici_listesi, kullanici_yaslari_listesi):\n",
    "    if yas < 30:\n",
    "        print(kullanici)"
   ]
  },
  {
   "cell_type": "code",
   "execution_count": 169,
   "id": "bd701907-1233-4d64-b502-ba330d6f36ba",
   "metadata": {},
   "outputs": [
    {
     "name": "stdout",
     "output_type": "stream",
     "text": [
      "8 sayisi asal degil!\n"
     ]
    }
   ],
   "source": [
    "# Soru 6: deger isimli degiskene atanan sayinin asal olup olmadigini söyle!\n",
    "# Asal sayi: kendinden ve 1'den baska böleni olmayan sayilar örnek 2,3,5,7\n",
    "\n",
    "deger = 8\n",
    "x=deger-1\n",
    "while x>1:\n",
    "    if deger%x==0:\n",
    "        print(f'{deger} sayisi asal degil!')\n",
    "        break \n",
    "    else:\n",
    "        x-=1\n",
    "else:\n",
    "    print(f'{deger} sayisi asaldir!')"
   ]
  },
  {
   "cell_type": "markdown",
   "id": "6aa1c85a-0f71-4775-a36f-cbc90f47eb10",
   "metadata": {},
   "source": [
    "# FUNCTIONS"
   ]
  },
  {
   "cell_type": "raw",
   "id": "1ccc3f1a-2e44-4679-b9bd-c0ff1dc5e312",
   "metadata": {},
   "source": [
    "Python'da fonksiyonlar, belirli bir işi gerçekleştiren kod bloklarıdır. Bir kere tanımlandığında, aynı işlemi yapmak için birden fazla kez kullanabilirsiniz. Fonksiyonlar kodu daha düzenli, tekrar kullanılabilir ve okunabilir hale getirir.\n",
    "\n",
    "Kendi fonksiyonumuzu oluşturabiliriz.\n",
    "def: define(tanımlamak)\n",
    "\n",
    "*snake_case* yazılım dünyasında değişken, fonksiyon, dosya veya diğer isimlendirmelerde kullanılan bir biçimlendirme stilidir. Bu stil, kelimelerin küçük harfle yazılması ve kelimeler arasında boşluk yerine alt çizgi (_) kullanılmasıyla karakterizedir.\n",
    "\n",
    "*Docstring* Python'da bir fonksiyon, sınıf veya modülün ne yaptığını açıklamak için kullanılan bir açıklama yazısıdır. Docstring, üç çift tırnak (\"\"\" veya ''') içinde yazılır ve Python'da __doc__ özelliğiyle erişilebilir.\n",
    "Docstring, kodunuzu daha okunabilir ve anlaşılır hale getirmek için kullanılır ve özellikle büyük projelerde veya ekip çalışmasında oldukça faydalıdır.\n"
   ]
  },
  {
   "cell_type": "raw",
   "id": "e93aeea7-4eeb-4f40-b369-49a4b0ceeacc",
   "metadata": {},
   "source": [
    "f-string (formatlı string) anlamına gelir. Python'da f-string, metin biçimlendirme için güçlü ve okunabilir bir yöntemdir.\n",
    "Stringin başına f koyarak, süslü parantezler {} içinde Python ifadelerini veya değişkenlerini kullanabilirsiniz.\n",
    ".format() için alternatif"
   ]
  },
  {
   "cell_type": "markdown",
   "id": "acff2b58-a72f-408a-b811-824e419ffe48",
   "metadata": {
    "jp-MarkdownHeadingCollapsed": true
   },
   "source": [
    "## print ve return farkı:"
   ]
  },
  {
   "cell_type": "raw",
   "id": "e959dd52-d3b5-46fb-a7b6-0ac21f287ee1",
   "metadata": {},
   "source": [
    "\n",
    "*print* bir değeri veya mesajı ekrana yazdırmak için kullanılır, konsola çıktı verir.\n",
    "*İşlem sonrasında bir değer döndürmez.\n",
    "*Kullanıcıya bilgi vermek içindir, programın içindeki hesaplama süreçlerini etkilemez.\n",
    "\n",
    "*return* bir fonksiyonun çağrıldığı yere bir sonuç döndürmesini sağlar.\n",
    "*Döndürülen değer bir değişkene atanabilir veya başka bir işlemde kullanılabilir.\n",
    "*Fonksiyondan çıktığı an itibarıyla işlemi durdurur."
   ]
  },
  {
   "cell_type": "code",
   "execution_count": 7,
   "id": "c1991588-cb57-4e51-8346-3cfcd9d688a8",
   "metadata": {},
   "outputs": [],
   "source": [
    "def bolme(a, b):\n",
    "    \"\"\"\n",
    "    İki sayıyı böler ve sonucu döndürür.\n",
    "\n",
    "    Parametreler:\n",
    "    a (int veya float): Bölünen sayı\n",
    "    b (int veya float): Bölen sayı\n",
    "\n",
    "    Döndürür:\n",
    "    float: Bölme işleminin sonucu\n",
    "\n",
    "    Hata Durumu:\n",
    "    ZeroDivisionError: Eğer bölen sıfırsa hata oluşur.\n",
    "    \"\"\"\n",
    "    if b == 0:\n",
    "        raise ZeroDivisionError(\"Bir sayı sıfıra bölünemez.\")\n",
    "    return a / b"
   ]
  },
  {
   "cell_type": "code",
   "execution_count": 9,
   "id": "d43b54f8-ccbd-4a6c-a33f-7215a612e135",
   "metadata": {},
   "outputs": [
    {
     "data": {
      "text/plain": [
       "0.625"
      ]
     },
     "execution_count": 9,
     "metadata": {},
     "output_type": "execute_result"
    }
   ],
   "source": [
    "bolme(5,8)"
   ]
  },
  {
   "cell_type": "code",
   "execution_count": 11,
   "id": "7a1c540a-bdfc-4abb-b8a2-01864d54e47c",
   "metadata": {},
   "outputs": [
    {
     "ename": "ZeroDivisionError",
     "evalue": "Bir sayı sıfıra bölünemez.",
     "output_type": "error",
     "traceback": [
      "\u001b[1;31m---------------------------------------------------------------------------\u001b[0m",
      "\u001b[1;31mZeroDivisionError\u001b[0m                         Traceback (most recent call last)",
      "Cell \u001b[1;32mIn[11], line 1\u001b[0m\n\u001b[1;32m----> 1\u001b[0m bolme(\u001b[38;5;241m7\u001b[39m,\u001b[38;5;241m0\u001b[39m)\n",
      "Cell \u001b[1;32mIn[7], line 16\u001b[0m, in \u001b[0;36mbolme\u001b[1;34m(a, b)\u001b[0m\n\u001b[0;32m      2\u001b[0m \u001b[38;5;250m\u001b[39m\u001b[38;5;124;03m\"\"\"\u001b[39;00m\n\u001b[0;32m      3\u001b[0m \u001b[38;5;124;03mİki sayıyı böler ve sonucu döndürür.\u001b[39;00m\n\u001b[0;32m      4\u001b[0m \n\u001b[1;32m   (...)\u001b[0m\n\u001b[0;32m     13\u001b[0m \u001b[38;5;124;03mZeroDivisionError: Eğer bölen sıfırsa hata oluşur.\u001b[39;00m\n\u001b[0;32m     14\u001b[0m \u001b[38;5;124;03m\"\"\"\u001b[39;00m\n\u001b[0;32m     15\u001b[0m \u001b[38;5;28;01mif\u001b[39;00m b \u001b[38;5;241m==\u001b[39m \u001b[38;5;241m0\u001b[39m:\n\u001b[1;32m---> 16\u001b[0m     \u001b[38;5;28;01mraise\u001b[39;00m \u001b[38;5;167;01mZeroDivisionError\u001b[39;00m(\u001b[38;5;124m\"\u001b[39m\u001b[38;5;124mBir sayı sıfıra bölünemez.\u001b[39m\u001b[38;5;124m\"\u001b[39m)\n\u001b[0;32m     17\u001b[0m \u001b[38;5;28;01mreturn\u001b[39;00m a \u001b[38;5;241m/\u001b[39m b\n",
      "\u001b[1;31mZeroDivisionError\u001b[0m: Bir sayı sıfıra bölünemez."
     ]
    }
   ],
   "source": [
    "bolme(7,0)"
   ]
  },
  {
   "cell_type": "code",
   "execution_count": null,
   "id": "a618c4ab-f238-4d62-81e6-ba56c0c98ed4",
   "metadata": {},
   "outputs": [],
   "source": [
    "# def <fonksiyon_ismi/argüman>:      # snake_case\n",
    "       \"\"\"\n",
    "      Bu kod ne işe yarar            # docstring\n",
    "       \"\"\"\n",
    "#     .....                          # return/print"
   ]
  },
  {
   "cell_type": "code",
   "execution_count": null,
   "id": "9cb1827d-8671-45ff-a8b4-4f18e5f2213e",
   "metadata": {},
   "outputs": [],
   "source": []
  },
  {
   "cell_type": "code",
   "execution_count": 27,
   "id": "f0ef977f-96c2-4a85-b355-52176f61c008",
   "metadata": {},
   "outputs": [
    {
     "name": "stdout",
     "output_type": "stream",
     "text": [
      "Fonksiyondan dönen değer: 20\n"
     ]
    }
   ],
   "source": [
    "def carpim(a, b):\n",
    "    sonuc = a * b\n",
    "#print(f\"{a} ve {b} çarpımı: {sonuc}\")  # Kullanıcıya bilgi verir\n",
    "    return sonuc  # Değeri fonksiyonun çağrıldığı yere döndürür\n",
    "\n",
    "deger = carpim(4, 5)\n",
    "print(f\"Fonksiyondan dönen değer: {deger}\")"
   ]
  },
  {
   "cell_type": "code",
   "execution_count": 198,
   "id": "08fd4726-c85b-4326-a1ff-b5da006a6039",
   "metadata": {},
   "outputs": [],
   "source": [
    "def bes_bastır():\n",
    "    \"\"\"\n",
    "    5 yazar\n",
    "    \"\"\"\n",
    "    print(5)"
   ]
  },
  {
   "cell_type": "code",
   "execution_count": 200,
   "id": "3054c6f9-7484-42d5-9b35-913d5ea67d76",
   "metadata": {},
   "outputs": [
    {
     "name": "stdout",
     "output_type": "stream",
     "text": [
      "5\n"
     ]
    }
   ],
   "source": [
    "bes_bastır()"
   ]
  },
  {
   "cell_type": "code",
   "execution_count": 202,
   "id": "f2dfa8fc-9076-409f-b1a3-b2d0c66bef8a",
   "metadata": {},
   "outputs": [],
   "source": [
    "def bes_dondur():\n",
    "    return 5"
   ]
  },
  {
   "cell_type": "code",
   "execution_count": 204,
   "id": "e4dabdf6-e18b-47ac-872c-c6a2b9a53b8b",
   "metadata": {},
   "outputs": [
    {
     "data": {
      "text/plain": [
       "5"
      ]
     },
     "execution_count": 204,
     "metadata": {},
     "output_type": "execute_result"
    }
   ],
   "source": [
    "# bes(yazıp tab'e basarsan jupyter halihazırdaki fonksiyonları gösterir.\n",
    "bes_dondur()"
   ]
  },
  {
   "cell_type": "code",
   "execution_count": 206,
   "id": "58f8fad0-8d12-4375-ad43-194ee695045e",
   "metadata": {},
   "outputs": [
    {
     "name": "stdout",
     "output_type": "stream",
     "text": [
      "5\n"
     ]
    }
   ],
   "source": [
    "a = bes_bastır()\n",
    "a"
   ]
  },
  {
   "cell_type": "code",
   "execution_count": 208,
   "id": "9f9debd3-b273-4e2c-bebf-6a6e72a9ffce",
   "metadata": {},
   "outputs": [
    {
     "name": "stdout",
     "output_type": "stream",
     "text": [
      "5\n",
      "None\n"
     ]
    }
   ],
   "source": [
    "a = bes_bastır()\n",
    "print(a)\n",
    "# döndürmediği için bir şey basamadı"
   ]
  },
  {
   "cell_type": "code",
   "execution_count": 218,
   "id": "34739217-b692-4ec5-8708-e06ebb78301a",
   "metadata": {},
   "outputs": [
    {
     "name": "stdout",
     "output_type": "stream",
     "text": [
      "5\n"
     ]
    }
   ],
   "source": [
    "def bes_dondur():\n",
    "    a = bes_bastır()\n",
    "    return(a)        # return olduğu için bir girdi başka bir değişkene referans veriyor.\n",
    "bes_dondur()"
   ]
  },
  {
   "cell_type": "markdown",
   "id": "d224bcdc-80ca-405a-93f1-b864ae814753",
   "metadata": {
    "jp-MarkdownHeadingCollapsed": true
   },
   "source": [
    "## Fonksiyonlarda argümanlar:"
   ]
  },
  {
   "cell_type": "code",
   "execution_count": 59,
   "id": "b11120b7-78c2-4bda-bcfd-be13a8a54c75",
   "metadata": {},
   "outputs": [],
   "source": [
    "def sayi_dondur(sayi):\n",
    "    return sayi"
   ]
  },
  {
   "cell_type": "code",
   "execution_count": 65,
   "id": "b53c2929-fd68-424b-b128-c3e731d5fd7f",
   "metadata": {},
   "outputs": [
    {
     "data": {
      "text/plain": [
       "100"
      ]
     },
     "execution_count": 65,
     "metadata": {},
     "output_type": "execute_result"
    }
   ],
   "source": [
    "sayi_dondur(100)\n",
    "# argümanı döndürür."
   ]
  },
  {
   "cell_type": "code",
   "execution_count": 67,
   "id": "6d3c36af-5c15-45f1-b421-a725f78982a3",
   "metadata": {},
   "outputs": [],
   "source": [
    "def sayi_dondur(sayi=250):\n",
    "    return sayi"
   ]
  },
  {
   "cell_type": "code",
   "execution_count": 73,
   "id": "87cdbde6-aa86-4302-b7b5-8879e04344f5",
   "metadata": {},
   "outputs": [
    {
     "data": {
      "text/plain": [
       "21"
      ]
     },
     "execution_count": 73,
     "metadata": {},
     "output_type": "execute_result"
    }
   ],
   "source": [
    "sayi_dondur(21)"
   ]
  },
  {
   "cell_type": "code",
   "execution_count": 79,
   "id": "20ee89c5-7b72-4148-9611-82b7cc1a5f0b",
   "metadata": {},
   "outputs": [
    {
     "data": {
      "text/plain": [
       "250"
      ]
     },
     "execution_count": 79,
     "metadata": {},
     "output_type": "execute_result"
    }
   ],
   "source": [
    "sayi_dondur()\n",
    "# defoult fonction, aksi söylenmedikçe argümanın içindekini döndürür."
   ]
  },
  {
   "cell_type": "code",
   "execution_count": 236,
   "id": "d83d19da-2364-483f-9bff-f8bb40c15d37",
   "metadata": {},
   "outputs": [],
   "source": [
    "def buyuk_sayiyi_dondur(a,b):\n",
    "    if a > b:\n",
    "        return a\n",
    "    elif b > a:\n",
    "        return b "
   ]
  },
  {
   "cell_type": "code",
   "execution_count": 25,
   "id": "0b25cc9c-706a-4137-ab88-028518c1851f",
   "metadata": {},
   "outputs": [
    {
     "data": {
      "text/plain": [
       "5"
      ]
     },
     "execution_count": 25,
     "metadata": {},
     "output_type": "execute_result"
    }
   ],
   "source": [
    "buyuk_sayiyi_dondur(4,5)"
   ]
  },
  {
   "cell_type": "code",
   "execution_count": 232,
   "id": "0aff0a08-8884-40dc-a89c-f2457dbfc8c9",
   "metadata": {},
   "outputs": [],
   "source": [
    "def buyuk_sayiyi_dondur_(a,b):\n",
    "        return a    # ilk return'ü döndürür çıkar.\n",
    "        return b    # print edilmediği için alt satıra devmam etmez."
   ]
  },
  {
   "cell_type": "code",
   "execution_count": 234,
   "id": "863f76cf-0a58-456c-b7aa-863b4251537e",
   "metadata": {},
   "outputs": [
    {
     "data": {
      "text/plain": [
       "5"
      ]
     },
     "execution_count": 234,
     "metadata": {},
     "output_type": "execute_result"
    }
   ],
   "source": [
    "buyuk_sayiyi_dondur_(5,10)\n",
    "# koşul falan belirtilmediği için ilk return'ü döndürüp çıkar. print'te bu yok, defalarca yazabilir."
   ]
  },
  {
   "cell_type": "markdown",
   "id": "1832e421-6588-4797-a275-3584fb64cde2",
   "metadata": {
    "jp-MarkdownHeadingCollapsed": true
   },
   "source": [
    "## Fonksiyonların birbirleri ile ilişkisi:"
   ]
  },
  {
   "cell_type": "code",
   "execution_count": 238,
   "id": "a00429ee-c017-43b3-a4f7-4b1fa218683c",
   "metadata": {},
   "outputs": [],
   "source": [
    "def metin_yazdir(a,b):\n",
    "    buyuk_sayi = buyuk_sayiyi_dondur(a,b)     # az önce oluşturduğumuz fonksiyonu kullanıyoruz.\n",
    "    sablon_metin = \"{} daha büyük sayıdır\".format(buyuk_sayi)\n",
    "    print(sablon_metin)"
   ]
  },
  {
   "cell_type": "code",
   "execution_count": 240,
   "id": "338e6e6a-f026-47ad-8b72-8486ceb7c556",
   "metadata": {},
   "outputs": [
    {
     "name": "stdout",
     "output_type": "stream",
     "text": [
      "8 daha büyük sayıdır\n"
     ]
    }
   ],
   "source": [
    "metin_yazdir(7,8)"
   ]
  },
  {
   "cell_type": "markdown",
   "id": "a7aff901-72c1-4b98-8900-c252901a9c76",
   "metadata": {
    "jp-MarkdownHeadingCollapsed": true
   },
   "source": [
    "## Parameters in Functions"
   ]
  },
  {
   "cell_type": "code",
   "execution_count": 106,
   "id": "d97a82a4-6bb2-4f2a-825c-252279a0720b",
   "metadata": {},
   "outputs": [
    {
     "name": "stdout",
     "output_type": "stream",
     "text": [
      "Gönderilen argümanlar: (1, 2, 3)\n",
      "6\n",
      "Gönderilen argümanlar: (4, 5, 6, 7, 8)\n",
      "30\n"
     ]
    }
   ],
   "source": [
    "# *args, fonksiyona birden fazla pozisyonel argüman göndermek için kullanılır.\n",
    "\n",
    "def toplama(*args):\n",
    "    print(f\"Gönderilen argümanlar: {args}\")\n",
    "    return sum(args)                 # args, bir tuple olduğu için üzerinde işlemler yapılabilir\n",
    "print(toplama(1, 2, 3))          \n",
    "print(toplama(4, 5, 6, 7, 8))    "
   ]
  },
  {
   "cell_type": "code",
   "execution_count": 124,
   "id": "9f80cbb9-a4b7-4d17-9b3f-d16c990cffe9",
   "metadata": {},
   "outputs": [
    {
     "name": "stdout",
     "output_type": "stream",
     "text": [
      "Sayı: 9, Küpü: 729\n",
      "Sayı: 99, Küpü: 970299\n",
      "Sayı: 999, Küpü: 997002999\n",
      "Sayı: 9999, Küpü: 999700029999\n",
      "Sayı: 99999, Küpü: 999970000299999\n",
      "Sayı: 999999, Küpü: 999997000002999999\n",
      "Sayı: 9999999, Küpü: 999999700000029999999\n"
     ]
    }
   ],
   "source": [
    "def kup_al(*args):\n",
    "    for sayi in args:\n",
    "        print(f\"Sayı: {sayi}, Küpü: {sayi**3}\")\n",
    "    \n",
    "kup_al(9,99,999,9999,99999,999999,9999999) "
   ]
  },
  {
   "cell_type": "raw",
   "id": "42fb0430-a188-404e-92bf-05ab63df3e41",
   "metadata": {},
   "source": [
    "**kwargs, bir fonksiyona anahtar-değer çiftleri şeklinde argüman göndermek için kullanılır.\n",
    "Gönderilen argümanlar bir dictionary (sözlük) içinde saklanır.  (keyword-arguments)"
   ]
  },
  {
   "cell_type": "code",
   "execution_count": 126,
   "id": "98dce074-7720-4671-955d-205858a8b94b",
   "metadata": {},
   "outputs": [
    {
     "name": "stdout",
     "output_type": "stream",
     "text": [
      "Gönderilen argümanlar: {'ad': 'Ali', 'yas': 25, 'sehir': 'İstanbul'}\n",
      "ad: Ali\n",
      "yas: 25\n",
      "sehir: İstanbul\n"
     ]
    }
   ],
   "source": [
    "def bilgiler(**kwargs):\n",
    "    print(f\"Gönderilen argümanlar: {kwargs}\")\n",
    "    for anahtar, deger in kwargs.items():\n",
    "        print(f\"{anahtar}: {deger}\")\n",
    "        \n",
    "bilgiler(ad=\"Ali\", yas=25, sehir=\"İstanbul\")"
   ]
  },
  {
   "cell_type": "code",
   "execution_count": 128,
   "id": "68035496-8de0-4310-8f0b-e029e659f5bc",
   "metadata": {},
   "outputs": [
    {
     "name": "stdout",
     "output_type": "stream",
     "text": [
      "Ana Mesaj: Bu bir Python dersi!\n",
      "Ek Argümanlar: (1, 2, 3)\n",
      "Anahtar Kelime Argümanları: {'ad': 'Ali', 'yas': 25}\n"
     ]
    }
   ],
   "source": [
    "def ozet(yazi, *args, **kwargs):\n",
    "    print(f\"Ana Mesaj: {yazi}\")\n",
    "    print(f\"Ek Argümanlar: {args}\")\n",
    "    print(f\"Anahtar Kelime Argümanları: {kwargs}\")\n",
    "\n",
    "ozet(\"Bu bir Python dersi!\", 1, 2, 3, ad=\"Ali\", yas=25)"
   ]
  },
  {
   "cell_type": "code",
   "execution_count": 44,
   "id": "6a0f08b0-e0b3-4638-91b9-0bac63f9654c",
   "metadata": {},
   "outputs": [],
   "source": [
    "def isim_soyisim_ayirma(isim_soyisim):\n",
    "    isim = isim_soyisim.split()[0]\n",
    "    soyisim = isim_soyisim.split()[1]\n",
    "    return \"soyisim {} isim {}\".format(soyisim, isim)"
   ]
  },
  {
   "cell_type": "code",
   "execution_count": 52,
   "id": "5cd0273f-bdca-4226-864b-cb69650557fd",
   "metadata": {},
   "outputs": [
    {
     "data": {
      "text/plain": [
       "'soyisim Güneş isim Eda'"
      ]
     },
     "execution_count": 52,
     "metadata": {},
     "output_type": "execute_result"
    }
   ],
   "source": [
    "isim_soyisim_ayirma(\"Eda Güneş\")"
   ]
  },
  {
   "cell_type": "code",
   "execution_count": 60,
   "id": "8b7683ec-a85f-4e24-969f-55ecb6b726d7",
   "metadata": {},
   "outputs": [
    {
     "data": {
      "text/plain": [
       "'Elif - Sena'"
      ]
     },
     "execution_count": 60,
     "metadata": {},
     "output_type": "execute_result"
    }
   ],
   "source": [
    "\" - \".join([\"Elif\", \"Sena\"])"
   ]
  },
  {
   "cell_type": "code",
   "execution_count": 66,
   "id": "b63d3479-373f-4a0e-b81b-03789577da7b",
   "metadata": {},
   "outputs": [],
   "source": [
    "# Fonksiyon birden fazla parametre alacaksa *args kullanılabilir.\n",
    "\n",
    "def isim_soyisim_birlestir(isim, soyisim):\n",
    "    return \" - \".join([isim, soyisim])"
   ]
  },
  {
   "cell_type": "code",
   "execution_count": 74,
   "id": "6c5e407d-a4f4-4104-8e58-168324b4e114",
   "metadata": {},
   "outputs": [
    {
     "data": {
      "text/plain": [
       "'Zeynep - Karan'"
      ]
     },
     "execution_count": 74,
     "metadata": {},
     "output_type": "execute_result"
    }
   ],
   "source": [
    "isim_soyisim_birlestir(\"Zeynep\", \"Karan\")\n",
    "\n",
    "# Burada üç karakter girersek error veriyor. *args kullanarak bundan kurtulabiliriz."
   ]
  },
  {
   "cell_type": "code",
   "execution_count": 80,
   "id": "7fcea39b-8eef-40e7-a0f9-85c3dcaab174",
   "metadata": {},
   "outputs": [],
   "source": [
    "def isim_soyisim_birlestir(*args):\n",
    "    return \" - \".join(args)"
   ]
  },
  {
   "cell_type": "code",
   "execution_count": 72,
   "id": "012a2c66-94e8-46ae-a375-f2b45bfdd46e",
   "metadata": {},
   "outputs": [
    {
     "data": {
      "text/plain": [
       "'Zeynep - Cetin - Karan'"
      ]
     },
     "execution_count": 72,
     "metadata": {},
     "output_type": "execute_result"
    }
   ],
   "source": [
    "isim_soyisim_birlestir(\"Zeynep\", \"Cetin\", \"Karan\")"
   ]
  },
  {
   "cell_type": "code",
   "execution_count": 244,
   "id": "c137340c-d697-471b-9e13-c920dca0c9c3",
   "metadata": {},
   "outputs": [
    {
     "name": "stdout",
     "output_type": "stream",
     "text": [
      "Zeynep\n",
      "Sara\n",
      "Cetin\n",
      "Karan\n"
     ]
    },
    {
     "data": {
      "text/plain": [
       "'Zeynep  Sara  Cetin  Karan'"
      ]
     },
     "execution_count": 244,
     "metadata": {},
     "output_type": "execute_result"
    }
   ],
   "source": [
    "def isim_soyisim_birlestir(*args):\n",
    "    for item in args:\n",
    "        print(item) \n",
    "    return \"  \".join(args)         # *args listeye referans verir.\n",
    "\n",
    "isim_soyisim_birlestir(\"Zeynep\", \"Sara\", \"Cetin\", \"Karan\")"
   ]
  },
  {
   "cell_type": "code",
   "execution_count": null,
   "id": "33edc57d-db51-4649-94b9-b2a23f4149a4",
   "metadata": {},
   "outputs": [],
   "source": [
    " **kwargs\n",
    "# Anahtar-değer çiftlerini almak için **kwargs kullanılır."
   ]
  },
  {
   "cell_type": "markdown",
   "id": "6372e6ff-a5f0-4bc2-87d7-9af28a61f300",
   "metadata": {},
   "source": [
    " map, filter ve lambda Expressions"
   ]
  },
  {
   "cell_type": "code",
   "execution_count": 246,
   "id": "70d83295-ed22-4001-ab02-42b4e1c90c7d",
   "metadata": {},
   "outputs": [
    {
     "data": {
      "text/plain": [
       "49"
      ]
     },
     "execution_count": 246,
     "metadata": {},
     "output_type": "execute_result"
    }
   ],
   "source": [
    "def karesini_al(x):\n",
    "    return x**2\n",
    "karesini_al(7)"
   ]
  },
  {
   "cell_type": "code",
   "execution_count": 163,
   "id": "1904b3e3-5b9c-4321-8b2a-4f07001db159",
   "metadata": {},
   "outputs": [
    {
     "name": "stdout",
     "output_type": "stream",
     "text": [
      "[1, 2, 3, 4, 5]\n",
      "[1, 4, 9, 16, 25]\n"
     ]
    }
   ],
   "source": [
    "sayilar = [*range(1,6)]\n",
    "print(sayilar)\n",
    "for index in range(len(sayilar)):\n",
    "    sayilar[index] = karesini_al(sayilar[index])\n",
    "print(sayilar)"
   ]
  },
  {
   "cell_type": "code",
   "execution_count": 167,
   "id": "cdfa732a-2f97-4372-8097-0797af756e6e",
   "metadata": {},
   "outputs": [
    {
     "data": {
      "text/plain": [
       "[1, 4, 9, 16, 25]"
      ]
     },
     "execution_count": 167,
     "metadata": {},
     "output_type": "execute_result"
    }
   ],
   "source": [
    "sayilar = [*range(1,6)]\n",
    "[*map(karesini_al, sayilar)] # list'e çevirmezsek yazdırmaz."
   ]
  },
  {
   "cell_type": "code",
   "execution_count": 247,
   "id": "05f0337e-567a-4cfb-87c6-bbd8effc5ef8",
   "metadata": {},
   "outputs": [],
   "source": [
    "def cift_sayilari_filtrele(x):\n",
    "    if x%2 == 0:\n",
    "        return x\n",
    "    else:\n",
    "        print(\"{} çift değildir.\".format(x)) # *return None* da diyebilirdik"
   ]
  },
  {
   "cell_type": "code",
   "execution_count": 251,
   "id": "d485dbe3-7862-4426-b4da-478449968ecf",
   "metadata": {},
   "outputs": [
    {
     "name": "stdout",
     "output_type": "stream",
     "text": [
      "5 çift değildir.\n"
     ]
    }
   ],
   "source": [
    "cift_sayilari_filtrele(5)"
   ]
  },
  {
   "cell_type": "code",
   "execution_count": 16,
   "id": "49ce7f75-b221-4bf0-a4be-e8be3e4d6a60",
   "metadata": {},
   "outputs": [
    {
     "data": {
      "text/plain": [
       "20"
      ]
     },
     "execution_count": 16,
     "metadata": {},
     "output_type": "execute_result"
    }
   ],
   "source": [
    "def cift_sayilari_filtrele(x):\n",
    "    return x if x%2==0 else None\n",
    "cift_sayilari_filtrele(20)"
   ]
  },
  {
   "cell_type": "code",
   "execution_count": 262,
   "id": "b2969949-064a-4833-b5b0-a86773351dce",
   "metadata": {},
   "outputs": [],
   "source": [
    "cift_sayilari_filtrele(7) # None"
   ]
  },
  {
   "cell_type": "code",
   "execution_count": 12,
   "id": "cdf83052-a150-450e-ba33-1cdb1d0b489d",
   "metadata": {},
   "outputs": [
    {
     "data": {
      "text/plain": [
       "[2, 4]"
      ]
     },
     "execution_count": 12,
     "metadata": {},
     "output_type": "execute_result"
    }
   ],
   "source": [
    "sayilar = [*range(1,6)]\n",
    "[*filter(cift_sayilari_filtrele,sayilar)]"
   ]
  },
  {
   "cell_type": "code",
   "execution_count": 14,
   "id": "a889433b-2bda-4d34-b67d-340e5dcd8ce8",
   "metadata": {},
   "outputs": [
    {
     "data": {
      "text/plain": [
       "[1, 4, 9, 16, 25]"
      ]
     },
     "execution_count": 14,
     "metadata": {},
     "output_type": "execute_result"
    }
   ],
   "source": [
    "sayilar = [*range(1,6)]\n",
    "[*map(lambda x: x**2, sayilar)]"
   ]
  },
  {
   "cell_type": "code",
   "execution_count": 20,
   "id": "f0a30790-5c14-4502-a94d-03e946951515",
   "metadata": {},
   "outputs": [
    {
     "data": {
      "text/plain": [
       "[2, 4]"
      ]
     },
     "execution_count": 20,
     "metadata": {},
     "output_type": "execute_result"
    }
   ],
   "source": [
    "sayilar = [*range(1,6)]\n",
    "[*filter(lambda x: x if x%2==0 else None, sayilar)]"
   ]
  },
  {
   "cell_type": "markdown",
   "id": "35cf0beb-e654-4321-8904-09119d044de6",
   "metadata": {
    "jp-MarkdownHeadingCollapsed": true
   },
   "source": [
    "## lambda:"
   ]
  },
  {
   "cell_type": "raw",
   "id": "aaf1b0d4-a92a-4da0-8a5e-2607528a2096",
   "metadata": {},
   "source": [
    "Lambda fonksiyonları, Python'da anonim (isimsiz) ve tek satırlık fonksiyonlar oluşturmak için kullanılan bir yapıdır. Bu fonksiyonlar genellikle kısa, geçici işlemler için kullanılır ve kodu daha okunabilir hale getirir.\n",
    "\n",
    "Anonimdir, lambda fonksiyonlarının adı yoktur. Yalnızca bir kez kullanılacak bir fonksiyon gerektiğinde gereksiz isimlendirmeyi önler.\n",
    "Tek satırlı işlemler için tasarlanmıştır, Karmaşık işlemler yerine kısa ve basit işlemler yapar.\n",
    "Kısa süreli kullanımlar için uygundur, genelde başka bir fonksiyonun içinde veya hızlı bir işlem yapmak için kullanılır."
   ]
  },
  {
   "cell_type": "code",
   "execution_count": 5,
   "id": "96ead62f-9381-45fa-96b6-4f8a6f095474",
   "metadata": {},
   "outputs": [
    {
     "name": "stdout",
     "output_type": "stream",
     "text": [
      "16\n"
     ]
    }
   ],
   "source": [
    "kare = lambda x: x ** 2\n",
    "print(kare(4))  "
   ]
  },
  {
   "cell_type": "code",
   "execution_count": 25,
   "id": "d67c9c15-4b30-4732-b372-da72421a3cd7",
   "metadata": {},
   "outputs": [
    {
     "name": "stdout",
     "output_type": "stream",
     "text": [
      "15\n"
     ]
    }
   ],
   "source": [
    "buyuk_sayi = lambda x, y: x if x > y else y\n",
    "print(buyuk_sayi(10, 15))                                # iki parametreden büyük olanı  yazdıracaktır."
   ]
  },
  {
   "cell_type": "code",
   "execution_count": 27,
   "id": "e33513ee-062e-487f-b13b-b5d22463fda1",
   "metadata": {},
   "outputs": [
    {
     "name": "stdout",
     "output_type": "stream",
     "text": [
      "[1, 4, 9, 16]\n"
     ]
    }
   ],
   "source": [
    "# map Fonksiyonu: Bir fonksiyonu bir liste veya başka bir iterasyon üzerinde uygular.\n",
    "\n",
    "sayilar = [1, 2, 3, 4]\n",
    "kareler = map(lambda x: x ** 2, sayilar)                 # sayilar listesindeki her bir elemana lambda işlemini uygular.\n",
    "print(list(kareler))  "
   ]
  },
  {
   "cell_type": "code",
   "execution_count": 29,
   "id": "430a080c-8f1f-41bb-8418-b368c6629092",
   "metadata": {},
   "outputs": [
    {
     "name": "stdout",
     "output_type": "stream",
     "text": [
      "[2, 4]\n"
     ]
    }
   ],
   "source": [
    "# filter Fonksiyonu: Belirli bir koşulu sağlayan öğeleri seçer.\n",
    "\n",
    "sayilar = [1, 2, 3, 4, 5]\n",
    "cift_sayilar = filter(lambda x: x % 2 == 0, sayilar)    # sayilar listesindeki elemanlardan 2 ile kalansız bölenleri filtreler.\n",
    "print(list(cift_sayilar))  "
   ]
  },
  {
   "cell_type": "code",
   "execution_count": 31,
   "id": "7e41ec98-aa20-46a4-b46c-382c32da2ac9",
   "metadata": {},
   "outputs": [
    {
     "name": "stdout",
     "output_type": "stream",
     "text": [
      "10\n"
     ]
    }
   ],
   "source": [
    "# reduce Fonksiyonu: Listeyi tek bir değer haline indirger (örn. toplama).\n",
    "\n",
    "from functools import reduce      # reduce'u tanımlamak için kullanılıyor. \n",
    "#İlk iki elemana tanımlanan işlemi uyguluyor, sonra sıradaki her bir eleman için aynı işlemi üzerine ekleyerek devam ediyor.\n",
    "\n",
    "sayilar = [1, 2, 3, 4]\n",
    "toplam = reduce(lambda x, y: x + y, sayilar)           # sayilar listesindeki 0 ve 1'i topla x olsun 2 y olsun....\n",
    "print(toplam)  "
   ]
  },
  {
   "cell_type": "code",
   "execution_count": 33,
   "id": "73a592ad-d95a-4605-b631-804908de59d8",
   "metadata": {},
   "outputs": [
    {
     "name": "stdout",
     "output_type": "stream",
     "text": [
      "[1, 2, 5, 7, 9]\n"
     ]
    }
   ],
   "source": [
    "# Lambda, listeleri belirli bir anahtara göre sıralamak için sort ve sorted ile kullanılır.(sorting)\n",
    "\n",
    "sayilar = [5, 2, 9, 1, 7]\n",
    "sirali = sorted(sayilar, key=lambda x: x)              # sayilar listesindeki bütün elemanları sıralayacaktır.\n",
    "print(sirali) "
   ]
  },
  {
   "cell_type": "code",
   "execution_count": 39,
   "id": "977a8117-6690-42fd-bbdb-cc0891bd9422",
   "metadata": {},
   "outputs": [
    {
     "name": "stdout",
     "output_type": "stream",
     "text": [
      "[('Ayşe', 90), ('Ali', 85), ('Mehmet', 75)]\n"
     ]
    }
   ],
   "source": [
    "# dictinoary veya tuple içeren listeleri sıralamak için kullanılır.\n",
    "\n",
    "ogrenciler = [(\"Ali\", 85), (\"Ayşe\", 90), (\"Mehmet\", 75)]\n",
    "sirali = sorted(ogrenciler, key=lambda x: x[1], reverse=True)    # ogrenciler listesindeki her tuple'ın 1'e karşılık gelen elemanına göre sıralama yaptı.\n",
    "print(sirali)  "
   ]
  },
  {
   "cell_type": "code",
   "execution_count": 41,
   "id": "b948a58a-52f2-4aaf-a0c8-972952c77438",
   "metadata": {},
   "outputs": [
    {
     "name": "stdout",
     "output_type": "stream",
     "text": [
      "20\n"
     ]
    }
   ],
   "source": [
    "# Lambda ile kısa ve öz koşullu ifadeler yazılabilir.\n",
    "\n",
    "buyuk_mu = lambda x, y: x if x > y else y             # iki parametreden büyük olanı yazdırır.\n",
    "print(buyuk_mu(10, 20))  "
   ]
  },
  {
   "cell_type": "code",
   "execution_count": 49,
   "id": "250af939-fd50-4acf-b8c8-994ab9d2d5ae",
   "metadata": {},
   "outputs": [
    {
     "name": "stdout",
     "output_type": "stream",
     "text": [
      "30\n"
     ]
    }
   ],
   "source": [
    "# Bir fonksiyonun içinde başka bir geçici fonksiyon tanımlamak için de lambda kullanılır.\n",
    "\n",
    "def carpma_kat_sayisi(kat):\n",
    "    return lambda x: x * kat\n",
    "\n",
    "iki_kat = carpma_kat_sayisi(2)                       # iki_kat değişkenini, carpma_kat_sayisi fonksiyonunda döndürür. \n",
    "print(iki_kat(15))                                   # iki ayrı değişken için iki ayrı fonksiyon tanımlanmış gibi."
   ]
  },
  {
   "cell_type": "code",
   "execution_count": 53,
   "id": "c7624258-5920-49c2-8bcf-2ae0616e2113",
   "metadata": {},
   "outputs": [
    {
     "name": "stdout",
     "output_type": "stream",
     "text": [
      "['ai', 'python', 'lambda', 'function']\n"
     ]
    }
   ],
   "source": [
    "# Lambda, kullanıcı tarafından belirlenen bir kriter ile sıralama yapılması gerektiğinde kullanılabilir\n",
    "\n",
    "kelimeler = [\"python\", \"ai\", \"lambda\", \"function\"]\n",
    "sirali = sorted(kelimeler, key=lambda x: len(x))      # kelimeler listesinin elemanlarını uzunluklarına göre sıralar.\n",
    "print(sirali) "
   ]
  },
  {
   "cell_type": "markdown",
   "id": "3f604f55-7d78-4327-8e66-3693ab8f8435",
   "metadata": {
    "jp-MarkdownHeadingCollapsed": true
   },
   "source": [
    "## input:"
   ]
  },
  {
   "cell_type": "code",
   "execution_count": 22,
   "id": "1600c642-0044-441e-a33c-310a55f5a339",
   "metadata": {},
   "outputs": [
    {
     "name": "stdin",
     "output_type": "stream",
     "text": [
      "Bir sayı giriniz: 17\n"
     ]
    },
    {
     "data": {
      "text/plain": [
       "'17'"
      ]
     },
     "execution_count": 22,
     "metadata": {},
     "output_type": "execute_result"
    }
   ],
   "source": [
    "input(\"Bir sayı giriniz:\")"
   ]
  },
  {
   "cell_type": "code",
   "execution_count": 26,
   "id": "f1e8b6cd-4850-4547-a338-3a1e1a022f6f",
   "metadata": {},
   "outputs": [
    {
     "name": "stdin",
     "output_type": "stream",
     "text": [
      "Bir sayı giriniz: 12\n"
     ]
    },
    {
     "name": "stdout",
     "output_type": "stream",
     "text": [
      "12\n"
     ]
    }
   ],
   "source": [
    "girdi = int(input(\"Bir sayı giriniz:\"))\n",
    "print(girdi)"
   ]
  },
  {
   "cell_type": "code",
   "execution_count": 87,
   "id": "c697089b-7adc-4bae-815d-fc8e74fbe059",
   "metadata": {},
   "outputs": [],
   "source": [
    "def uygulama():\n",
    "    girdi = int(input(\"Bir sayı giriniz:\"))\n",
    "    if girdi%2==0:\n",
    "        return \"{} sayısı bir çift sayıdır.\".format(girdi)\n",
    "    elif not girdi%2==1:\n",
    "        return \"{} sayısı bir tek sayıdır.\".format(girdi)\n",
    "   # else:\n",
    "   #     return \"{} sayısı tek ya da çift sayı değildir.\".format(girdi)"
   ]
  },
  {
   "cell_type": "code",
   "execution_count": 89,
   "id": "3833f913-02a4-494d-9107-54677d54f440",
   "metadata": {},
   "outputs": [
    {
     "name": "stdin",
     "output_type": "stream",
     "text": [
      "Bir sayı giriniz: 2\n"
     ]
    },
    {
     "data": {
      "text/plain": [
       "'2 sayısı bir çift sayıdır.'"
      ]
     },
     "execution_count": 89,
     "metadata": {},
     "output_type": "execute_result"
    }
   ],
   "source": [
    "uygulama()"
   ]
  },
  {
   "cell_type": "code",
   "execution_count": 5,
   "id": "bffb3585-d4ef-4550-82da-7b892d912b93",
   "metadata": {},
   "outputs": [],
   "source": [
    "def sayi_girdisi_kontrol():\n",
    "    girdi = input(\"Bir sayi giriniz: \")\n",
    "    if girdi.isdigit():      # girdi sayı tipinde mi onu kontrol eder?\n",
    "       print(\"Doğru giriş yaptınız.\")\n",
    "    else:\n",
    "        print(\"Bu bir sayı değildir!\")"
   ]
  },
  {
   "cell_type": "code",
   "execution_count": 7,
   "id": "d6903b8b-1573-40c3-a176-b25ff223a580",
   "metadata": {},
   "outputs": [
    {
     "name": "stdin",
     "output_type": "stream",
     "text": [
      "Bir sayi giriniz:  5\n"
     ]
    },
    {
     "name": "stdout",
     "output_type": "stream",
     "text": [
      "Doğru giriş yaptınız.\n"
     ]
    }
   ],
   "source": [
    "sayi_girdisi_kontrol()"
   ]
  },
  {
   "cell_type": "code",
   "execution_count": 9,
   "id": "58843662-70ce-454e-b98d-5302a0e4600e",
   "metadata": {},
   "outputs": [
    {
     "name": "stdin",
     "output_type": "stream",
     "text": [
      "Bir sayi giriniz:  s\n"
     ]
    },
    {
     "name": "stdout",
     "output_type": "stream",
     "text": [
      "Bu bir sayı değildir!\n"
     ]
    }
   ],
   "source": [
    "sayi_girdisi_kontrol()"
   ]
  },
  {
   "cell_type": "code",
   "execution_count": 22,
   "id": "8402b8d3-63eb-4bec-aad9-ee0ab9d41745",
   "metadata": {},
   "outputs": [
    {
     "name": "stdin",
     "output_type": "stream",
     "text": [
      "Bir sayi giriniz:  ı\n"
     ]
    },
    {
     "name": "stdout",
     "output_type": "stream",
     "text": [
      "Yanlış giriş yaptınız! Tekrar deneyiniz.\n"
     ]
    },
    {
     "name": "stdin",
     "output_type": "stream",
     "text": [
      "Bir sayi giriniz:  ğ\n"
     ]
    },
    {
     "name": "stdout",
     "output_type": "stream",
     "text": [
      "Yanlış giriş yaptınız! Tekrar deneyiniz.\n"
     ]
    },
    {
     "name": "stdin",
     "output_type": "stream",
     "text": [
      "Bir sayi giriniz:  m\n"
     ]
    },
    {
     "name": "stdout",
     "output_type": "stream",
     "text": [
      "Yanlış giriş yaptınız! Tekrar deneyiniz.\n"
     ]
    },
    {
     "name": "stdin",
     "output_type": "stream",
     "text": [
      "Bir sayi giriniz:  5\n"
     ]
    },
    {
     "name": "stdout",
     "output_type": "stream",
     "text": [
      "Doğru giriş yaptınız.\n"
     ]
    }
   ],
   "source": [
    "def sayi_girdisi_kontrol_dongu():\n",
    "    girdi = input(\"Bir sayi giriniz: \")\n",
    "    while not girdi.isdigit():     # girdi int mi onu kontrol eder. False döndükçe yineleyecek.\n",
    "        print(\"Yanlış giriş yaptınız! Tekrar deneyiniz.\")\n",
    "        girdi = input(\"Bir sayi giriniz: \")\n",
    "    else:\n",
    "        print(\"Doğru giriş yaptınız.\")\n",
    "\n",
    "sayi_girdisi_kontrol_dongu()"
   ]
  },
  {
   "cell_type": "code",
   "execution_count": 138,
   "id": "70a63a8c-7159-4939-8ffa-a8ab15a45174",
   "metadata": {},
   "outputs": [
    {
     "name": "stdin",
     "output_type": "stream",
     "text": [
      "E-posta adresini giriniz:  .\n",
      "Lütfen geçerli bir e-posta adresi giriniz! 5\n",
      "E-posta adresini giriniz:  @.\n"
     ]
    },
    {
     "name": "stdout",
     "output_type": "stream",
     "text": [
      "Başarıyla giriş yaptınız.\n"
     ]
    }
   ],
   "source": [
    "def eposta_kontrol():\n",
    "    while True:\n",
    "        posta = input(\"E-posta adresini giriniz: \")\n",
    "        if \"@\" in posta and \".\" in posta:\n",
    "            print(\"Başarıyla giriş yaptınız.\")\n",
    "            break                      # Başarılı giriş yapıncaya kadar döngüyü sürdür, başarılı giriş yapınca döngüyü kır. \n",
    "            \n",
    "        else:\n",
    "            input(\"Lütfen geçerli bir e-posta adresi giriniz!\")\n",
    "\n",
    "eposta_kontrol()"
   ]
  },
  {
   "cell_type": "markdown",
   "id": "d6658f83-981b-4f94-af6a-0f1116099980",
   "metadata": {
    "jp-MarkdownHeadingCollapsed": true
   },
   "source": [
    "## try, except and finally"
   ]
  },
  {
   "cell_type": "code",
   "execution_count": 23,
   "id": "c9acc133-78bc-4609-8f24-f79506750fcc",
   "metadata": {},
   "outputs": [
    {
     "data": {
      "text/plain": [
       "7"
      ]
     },
     "execution_count": 23,
     "metadata": {},
     "output_type": "execute_result"
    }
   ],
   "source": [
    "round(9.5) # Hangi int'e yakınsa onu verir.\n",
    "round(7.4) "
   ]
  },
  {
   "cell_type": "code",
   "execution_count": 19,
   "id": "bfe7225a-6432-46a2-bfa3-9ec5c1563480",
   "metadata": {},
   "outputs": [
    {
     "name": "stdin",
     "output_type": "stream",
     "text": [
      "Bir ondalık sayı giriniz:  5.7\n"
     ]
    },
    {
     "name": "stdout",
     "output_type": "stream",
     "text": [
      "Yuvarlama isleminin sonucu: 6\n"
     ]
    }
   ],
   "source": [
    "def tam_sayiya_cevir():\n",
    "    girdi = input(\"Bir ondalık sayı giriniz: \")\n",
    "    print(\"Yuvarlama isleminin sonucu: {}\".format(round(float(girdi))))\n",
    "\n",
    "tam_sayiya_cevir()"
   ]
  },
  {
   "cell_type": "code",
   "execution_count": 36,
   "id": "b5aa1125-aaf8-4108-aea2-26d759828ab0",
   "metadata": {},
   "outputs": [
    {
     "name": "stdin",
     "output_type": "stream",
     "text": [
      "Bir ondalık sayı giriniz:  L\n"
     ]
    },
    {
     "name": "stdout",
     "output_type": "stream",
     "text": [
      "L ondalık sayıya cevrilemiyor.\n"
     ]
    }
   ],
   "source": [
    "def tam_sayiya_cevir():\n",
    "    girdi = input(\"Bir ondalık sayı giriniz: \")\n",
    "    try: \n",
    "        girdi = float(girdi)\n",
    "        print(\"Yuvarlama isleminin sonucu: {}\".format(round(float(girdi))))\n",
    "    except:\n",
    "        print(\"{} ondalık sayıya cevrilemiyor.\".format(girdi)) # try ile şartı denedi, gerçekleşmediği için except'teki sonucu verdi.\n",
    "    \n",
    "tam_sayiya_cevir()            # Hatayı kod vermiyor, biz yazdırıyoruz gibi bir şey. # Böylece kod çalışmaya devam eder."
   ]
  },
  {
   "cell_type": "code",
   "execution_count": 40,
   "id": "47fd131a-fec3-4ef4-820c-90b0822b3441",
   "metadata": {},
   "outputs": [
    {
     "name": "stdin",
     "output_type": "stream",
     "text": [
      "Bir ondalık sayı giriniz:  4.8\n"
     ]
    },
    {
     "name": "stdout",
     "output_type": "stream",
     "text": [
      "Yuvarlama isleminin sonucu: 5\n"
     ]
    }
   ],
   "source": [
    "def tam_sayiya_cevir():\n",
    "    girdi = input(\"Bir ondalık sayı giriniz: \")\n",
    "    try: \n",
    "        girdi = float(girdi)\n",
    "    except:\n",
    "        print(\"{} ondalık sayıya cevrilemiyor.\".format(girdi)) \n",
    "    else:\n",
    "         print(\"Yuvarlama isleminin sonucu: {}\".format(round(float(girdi)))) # try çalışırsa vereceği komutu else olarak yazdırdık.\n",
    "tam_sayiya_cevir()           "
   ]
  },
  {
   "cell_type": "code",
   "execution_count": 46,
   "id": "81b4fecf-4afc-4ff5-8283-01069d70f283",
   "metadata": {},
   "outputs": [
    {
     "name": "stdin",
     "output_type": "stream",
     "text": [
      "Bir ondalık sayı giriniz:  4\n"
     ]
    },
    {
     "name": "stdout",
     "output_type": "stream",
     "text": [
      "Yuvarlama isleminin sonucu: 4\n",
      "Tam sayıya çevirme işlemi basarili!\n"
     ]
    }
   ],
   "source": [
    "def tam_sayiya_cevir():\n",
    "    girdi = input(\"Bir ondalık sayı giriniz: \")\n",
    "    status = \" \"\n",
    "\n",
    "    try: \n",
    "        girdi = float(girdi)\n",
    "        print(\"Yuvarlama isleminin sonucu: {}\".format(round(float(girdi))))\n",
    "        status = \"basarili\"\n",
    "    except:\n",
    "        print(\"{} ondalık sayıya cevrilemiyor.\".format(girdi)) \n",
    "        status = \"basarısız\"\n",
    "    finally:\n",
    "        print(\"Tam sayıya çevirme işlemi {}!\".format(status))\n",
    "\n",
    "            \n",
    "tam_sayiya_cevir()           "
   ]
  },
  {
   "cell_type": "code",
   "execution_count": 63,
   "id": "9caa0e7a-e54e-4de5-b0f3-c46b48d25752",
   "metadata": {},
   "outputs": [
    {
     "name": "stdin",
     "output_type": "stream",
     "text": [
      "Bir ondalık sayı giriniz:  p\n"
     ]
    },
    {
     "name": "stdout",
     "output_type": "stream",
     "text": [
      "p ondalık sayıya cevrilemiyor.\n"
     ]
    },
    {
     "name": "stdin",
     "output_type": "stream",
     "text": [
      "Bir ondalık sayı giriniz:  8.5\n"
     ]
    },
    {
     "name": "stdout",
     "output_type": "stream",
     "text": [
      "Yuvarlama isleminin sonucu: 8\n"
     ]
    }
   ],
   "source": [
    "def tam_sayiya_cevir_dongu():\n",
    "    while True:\n",
    "        girdi = input(\"Bir ondalık sayı giriniz: \")\n",
    "        try: \n",
    "            girdi = float(girdi)\n",
    "            print(\"Yuvarlama isleminin sonucu: {}\".format(round(float(girdi))))\n",
    "            break\n",
    "        except:\n",
    "            print(\"{} ondalık sayıya cevrilemiyor.\".format(girdi))\n",
    "            pass       # kullanmayınca da aynı işlevle çalışıyor. \n",
    "tam_sayiya_cevir_dongu()   "
   ]
  },
  {
   "cell_type": "markdown",
   "id": "a17d4812-4b66-4de4-ad9a-e987e8cc9fa3",
   "metadata": {
    "jp-MarkdownHeadingCollapsed": true
   },
   "source": [
    "# Exception \n",
    "\n",
    "https://docs.python.org/3.13/tutorial/errors.html"
   ]
  },
  {
   "cell_type": "code",
   "execution_count": 68,
   "id": "23c223f0-b6e2-41a0-bf15-24a07aac1e52",
   "metadata": {},
   "outputs": [
    {
     "ename": "TypeError",
     "evalue": "unsupported operand type(s) for +: 'int' and 'str'",
     "output_type": "error",
     "traceback": [
      "\u001b[1;31m---------------------------------------------------------------------------\u001b[0m",
      "\u001b[1;31mTypeError\u001b[0m                                 Traceback (most recent call last)",
      "Cell \u001b[1;32mIn[68], line 1\u001b[0m\n\u001b[1;32m----> 1\u001b[0m \u001b[38;5;241m5\u001b[39m \u001b[38;5;241m+\u001b[39m \u001b[38;5;124m\"\u001b[39m\u001b[38;5;124ma\u001b[39m\u001b[38;5;124m\"\u001b[39m\n",
      "\u001b[1;31mTypeError\u001b[0m: unsupported operand type(s) for +: 'int' and 'str'"
     ]
    }
   ],
   "source": [
    "5 + \"a\""
   ]
  },
  {
   "cell_type": "code",
   "execution_count": 79,
   "id": "89d0e477-2528-48a6-9b20-dd0ba4e6ee87",
   "metadata": {},
   "outputs": [
    {
     "name": "stdout",
     "output_type": "stream",
     "text": [
      "str ve int tipinde verilerle aritmetik işlem yapamazsınız!!\n"
     ]
    }
   ],
   "source": [
    "try:\n",
    "    5 + 'a'\n",
    "except TypeError:\n",
    "    print(\"str ve int tipinde verilerle aritmetik işlem yapamazsınız!!\") \n",
    "# Hata vermek yerine mesaj verdi."
   ]
  },
  {
   "cell_type": "code",
   "execution_count": 89,
   "id": "1f181ed2-6aa6-4abc-ab2a-7064274d2220",
   "metadata": {},
   "outputs": [
    {
     "name": "stdout",
     "output_type": "stream",
     "text": [
      "Kod düzgün çalışmıyor.\n"
     ]
    }
   ],
   "source": [
    "try:\n",
    "    5 + 'a'\n",
    "except IndexError:  #TypeError verdiğinde çalışırdı. bu kod (NameError)hatası verecektir. \n",
    "    print(\"str ve int tipinde verilerle aritmetik işlem yapamazsınız!!\") \n",
    "except:\n",
    "    print(\"Kod düzgün çalışmıyor.\")  # Kodun NameError vermeden çalışmasını sağlar."
   ]
  },
  {
   "cell_type": "code",
   "execution_count": 70,
   "id": "0d2cfb19-0d78-4559-bbc0-e68d8e8f65f6",
   "metadata": {},
   "outputs": [
    {
     "ename": "IndexError",
     "evalue": "list index out of range",
     "output_type": "error",
     "traceback": [
      "\u001b[1;31m---------------------------------------------------------------------------\u001b[0m",
      "\u001b[1;31mIndexError\u001b[0m                                Traceback (most recent call last)",
      "Cell \u001b[1;32mIn[70], line 2\u001b[0m\n\u001b[0;32m      1\u001b[0m liste \u001b[38;5;241m=\u001b[39m []\n\u001b[1;32m----> 2\u001b[0m liste[\u001b[38;5;241m4\u001b[39m]\n",
      "\u001b[1;31mIndexError\u001b[0m: list index out of range"
     ]
    }
   ],
   "source": [
    "liste = []\n",
    "liste[4]"
   ]
  },
  {
   "cell_type": "code",
   "execution_count": 93,
   "id": "aa893eec-ddc0-4141-b24e-58a951995672",
   "metadata": {},
   "outputs": [
    {
     "name": "stdout",
     "output_type": "stream",
     "text": [
      "Indexlemeye çalıştığınız eleman listenin dışında\n"
     ]
    }
   ],
   "source": [
    "liste = []\n",
    "try :\n",
    "    liste[-1]\n",
    "except IndexError:  # önceki komutlar IndexError verirse bu satırı çalıştıracaktır.\n",
    "    print('Indexlemeye çalıştığınız eleman listenin dışında')\n",
    "except:\n",
    "    print(\"Kod düzgün çalışmıyor.\")"
   ]
  },
  {
   "cell_type": "code",
   "execution_count": 99,
   "id": "b9c560c0-62f4-4e97-b4b0-9e2513773ebb",
   "metadata": {},
   "outputs": [
    {
     "name": "stdout",
     "output_type": "stream",
     "text": [
      "Aranan key mevcut değil.\n"
     ]
    }
   ],
   "source": [
    "vatandas = {\n",
    "    'AD' :  'Oguz',\n",
    "    'TC_NO' : 123123\n",
    "}\n",
    "try:\n",
    "    vatandas['PASS_NO']\n",
    "except IndexError:\n",
    "    print('Indexlemeye çalıştığınız eleman listenin dışında')\n",
    "except KeyError:          # try satırı KeyError vereceğinden kod bu satırı çalıştırır.\n",
    "    print(\"Aranan key mevcut değil.\") \n",
    "except:\n",
    "    print(\"Kod düzgün çalışmıyor.\")  "
   ]
  },
  {
   "cell_type": "markdown",
   "id": "cfad9081-87de-4d76-b12e-cf9c3c6f7c71",
   "metadata": {
    "jp-MarkdownHeadingCollapsed": true
   },
   "source": [
    "# Practices"
   ]
  },
  {
   "cell_type": "markdown",
   "id": "27773a24-0656-4c76-8f24-cbe074ba3513",
   "metadata": {},
   "source": [
    "Stok Durumunu Görüntüle:\n",
    "Tüm ürünleri (adı, miktarı ve fiyatı) listele.\n",
    "Yeni Ürün Ekle:\n",
    "Kullanıcıdan ürün adı, miktar ve fiyat bilgilerini alıp listeye ekle.\n",
    "Mevcut Ürünü Güncelle:\n",
    "Kullanıcı bir ürünün adını girerek miktarını ve/veya fiyatını güncelleyebilsin.\n",
    "Ürünü Kaldır:\n",
    "Kullanıcı bir ürünün adını girerek onu stoktan silebilsin.\n",
    "Çıkış:\n",
    "Program sonlanacak."
   ]
  },
  {
   "cell_type": "code",
   "execution_count": 44,
   "id": "f842cf0e-5112-4001-aecc-399d1aa08229",
   "metadata": {},
   "outputs": [],
   "source": [
    "stok = [\n",
    "    {\"ad\": \"Elma\", \"miktar\": 50, \"fiyat\": 2.5},\n",
    "    {\"ad\": \"Armut\", \"miktar\": 30, \"fiyat\": 3.0}\n",
    "]\n"
   ]
  },
  {
   "cell_type": "code",
   "execution_count": 23,
   "id": "f02eaa8e-28c9-4a77-bd72-8294d132a369",
   "metadata": {},
   "outputs": [
    {
     "name": "stdin",
     "output_type": "stream",
     "text": [
      "Zar atmak için 'e' tuşlayın, çıkmak için 'q':  e\n"
     ]
    },
    {
     "name": "stdout",
     "output_type": "stream",
     "text": [
      "Zar sonucu: 3\n"
     ]
    },
    {
     "name": "stdin",
     "output_type": "stream",
     "text": [
      "Zar atmak için 'e' tuşlayın, çıkmak için 'q':  e\n"
     ]
    },
    {
     "name": "stdout",
     "output_type": "stream",
     "text": [
      "Zar sonucu: 5\n"
     ]
    },
    {
     "name": "stdin",
     "output_type": "stream",
     "text": [
      "Zar atmak için 'e' tuşlayın, çıkmak için 'q':  q\n"
     ]
    },
    {
     "name": "stdout",
     "output_type": "stream",
     "text": [
      "Oyundan çıkılıyor. Hoşça kal!\n"
     ]
    }
   ],
   "source": [
    "# Rastgele zar atma oyunu:\n",
    "\n",
    "import random  # Rastgele sayı üretmek için gerekli kütüphane\n",
    "\n",
    "def zar_at():\n",
    "    return random.randint(1, 6)  # 1 ile 6 arasında rastgele bir sayı döndür\n",
    "\n",
    "def oyun():\n",
    "    while True:         # sorgu doğruyken:\n",
    "        secim = input(\"Zar atmak için 'e' tuşlayın, çıkmak için 'q': \").lower()\n",
    "        \n",
    "        if secim == 'e':\n",
    "            sonuc = zar_at()\n",
    "            print(f\"Zar sonucu: {sonuc}\")\n",
    "        elif secim == 'q':\n",
    "            print(\"Oyundan çıkılıyor. Hoşça kal!\")\n",
    "            break    # Son satırda istenen girildiğinde döngüden çık.\n",
    "        else:\n",
    "            print(\"Geçersiz giriş. Lütfen 'e' veya 'q' tuşlayın.\")\n",
    "\n",
    "oyun()"
   ]
  },
  {
   "cell_type": "code",
   "execution_count": 15,
   "id": "68d63aec-53d6-4e99-a947-eb4afc62363b",
   "metadata": {},
   "outputs": [
    {
     "name": "stdout",
     "output_type": "stream",
     "text": [
      "1. öğrencinin adı Belis, soyadı Eren\n",
      "2. öğrencinin adı Arda, soyadı Doruk\n",
      "3. öğrencinin adı Seren, soyadı Dağdere\n",
      "4. öğrencinin adı Göktuğ, soyadı Akalın\n",
      "5. öğrencinin adı Murat, soyadı Bozalp\n"
     ]
    }
   ],
   "source": [
    "anasınıfı = [\"Belis Eren\", \"Arda Doruk\", \"Seren Dağdere\", \"Göktuğ Akalın\", \"Murat Bozalp\"]\n",
    "for öğrenci in anasınıfı:\n",
    "    öğrenci_no = 0\n",
    "for öğrenci in anasınıfı:\n",
    "    öğrenci_no += 1\n",
    "    ad, soyad = öğrenci.split()[0], öğrenci.split()[1]\n",
    "    print (\"{0}. öğrencinin adı {1}, soyadı {2}\".format(öğrenci_no, ad, soyad))"
   ]
  },
  {
   "cell_type": "code",
   "execution_count": 45,
   "id": "198c938d-89aa-4e5a-923f-8b80d17fdf81",
   "metadata": {},
   "outputs": [
    {
     "name": "stdout",
     "output_type": "stream",
     "text": [
      "   başkanın adı Seren, soyadı Dağdere\n",
      "1. öğrencinin adı Belis, soyadı Eren\n",
      "2. öğrencinin adı Arda, soyadı Doruk\n",
      "3. öğrencinin adı Göktuğ, soyadı Akalın\n",
      "4. öğrencinin adı Murat, soyadı Bozalp\n"
     ]
    }
   ],
   "source": [
    "anasınıfı = [\"Belis Eren\", \"Arda Doruk\", \"Seren Dağdere\", \"Göktuğ Akalın\", \"Murat Bozalp\"]\n",
    "\n",
    "başkan = \"Seren Dağdere\"\n",
    "öğrenci_no = 0\n",
    "\n",
    "# Başkan listede varsa, onu listenin başına al\n",
    "if başkan in anasınıfı:\n",
    "    anasınıfı.remove(başkan)  # Başkan mevcut yerinden çıkarılır\n",
    "    anasınıfı.insert(0, başkan)  # Listenin başına eklenir\n",
    "\n",
    "for öğrenci in anasınıfı:\n",
    "    ad, soyad = öğrenci.split()    # Ad ve soyad ayır\n",
    "    if öğrenci == başkan:          # Başkan mı kontrol et   \n",
    "       print(f\"   başkanın adı {ad}, soyadı {soyad}\")\n",
    "    else:\n",
    "       öğrenci_no += 1            # Öğrenci numarasını artır\n",
    "       print(f\"{öğrenci_no}. öğrencinin adı {ad}, soyadı {soyad}\")"
   ]
  },
  {
   "cell_type": "code",
   "execution_count": 47,
   "id": "a411aaef-3e77-4c7d-89bc-0ee5d9719532",
   "metadata": {},
   "outputs": [
    {
     "data": {
      "text/plain": [
       "20922789888000"
      ]
     },
     "execution_count": 47,
     "metadata": {},
     "output_type": "execute_result"
    }
   ],
   "source": [
    "# Fonksiyon kullanarak faktöriyel tanımlama:\n",
    "\n",
    "def faktoriyel(n):\n",
    "    if n == 0 or n == 1:\n",
    "        return 1\n",
    "    else:\n",
    "        return n * faktoriyel(n - 1)\n",
    "\n",
    "faktoriyel(16)"
   ]
  },
  {
   "cell_type": "code",
   "execution_count": 49,
   "id": "d6668ec7-e5c4-4f44-8181-26a7a3e4b0da",
   "metadata": {},
   "outputs": [
    {
     "name": "stdin",
     "output_type": "stream",
     "text": [
      "Mağaza adını giriniz:  Hermes\n",
      "Gelir miktarını giriniz:  75000\n"
     ]
    },
    {
     "name": "stdout",
     "output_type": "stream",
     "text": [
      "Tebrikler Hermes Mağazası, ödül kazandınız.\n"
     ]
    }
   ],
   "source": [
    "# Mağazaların istenen gelir performanslarının incelenmesi:\n",
    "\n",
    "sinir = 50000\n",
    "magaza_adi = input(\"Mağaza adını giriniz: \")\n",
    "gelir = int(input(\"Gelir miktarını giriniz: \"))\n",
    "\n",
    "if gelir > sinir:\n",
    "    print(f\"Tebrikler {magaza_adi} Mağazası, ödül kazandınız.\")\n",
    "elif gelir < sinir:\n",
    "    print(f\"Maalesef, hedefi tutturamadınız {magaza_adi} Mağazası.\")\n",
    "else:\n",
    "    print(f\"Tebrikler {magaza_adi} Mağazası, hedefi tutturdunuz.\")"
   ]
  },
  {
   "cell_type": "code",
   "execution_count": 89,
   "id": "73ff9616-241d-4758-a04c-f9cf4cfb5620",
   "metadata": {},
   "outputs": [
    {
     "name": "stdout",
     "output_type": "stream",
     "text": [
      "1800 liralık maaş 2160 liraya yükseldi.\n",
      "1200 liralık maaş 1440 liraya yükseldi.\n",
      "1750 liralık maaş 2100 liraya yükseldi.\n",
      "5000 liralık maaş 6000 liraya yükseldi.\n",
      "4700 liralık maaş 5640 liraya yükseldi.\n",
      "3100 liralık maaş 3720 liraya yükseldi.\n",
      "2460 liralık maaş 2952 liraya yükseldi.\n",
      "2000 liralık maaş 2400 liraya yükseldi.\n"
     ]
    }
   ],
   "source": [
    "# Bir şirkette çalışanlara %20 zam yapılacaktır. Çalışanların yeni maaşlarını fonksiyon ve döngüleri kullanarak hesaplayalım:\n",
    "\n",
    "maaslar = [1800, 1200, 1750, 5000, 4700, 3100, 2460, 2000]\n",
    "\n",
    "def yeni_maas(x):\n",
    "    return x*1/5 + x\n",
    "for x in maaslar:\n",
    "    print(f\"{x} liralık maaş {int(yeni_maas(x))} liraya yükseldi.\")    "
   ]
  },
  {
   "cell_type": "code",
   "execution_count": 13,
   "id": "16934454-b6c9-46cb-90f6-78a2f8393dc1",
   "metadata": {},
   "outputs": [
    {
     "name": "stdin",
     "output_type": "stream",
     "text": [
      "Maaşınızı girin:  57631\n"
     ]
    },
    {
     "name": "stdout",
     "output_type": "stream",
     "text": [
      "Güncel Maaşınız: 69157.2\n"
     ]
    }
   ],
   "source": [
    "# Maaşa yapılacak %20'lik zamla güncel maaşı hesaplama:\n",
    "\n",
    "x = int(input(\"Maaşınızı girin: \"))\n",
    "def yeni_maas(x):\n",
    "    return x*1/5 + x\n",
    "print(f\"Güncel Maaşınız: {yeni_maas(x)}\")"
   ]
  },
  {
   "cell_type": "code",
   "execution_count": 7,
   "id": "d10d8048-9ddf-4704-b397-6347a94c9038",
   "metadata": {},
   "outputs": [
    {
     "data": {
      "text/plain": [
       "49"
      ]
     },
     "execution_count": 7,
     "metadata": {},
     "output_type": "execute_result"
    }
   ],
   "source": [
    "# Fonksiyon kullanarak bir sayının kuvvetini alma:\n",
    "\n",
    "def ustel_sayi_v1(a, b):\n",
    "    return a**b\n",
    "    \n",
    "ustel_sayi_v1(7,2)   "
   ]
  },
  {
   "cell_type": "code",
   "execution_count": 51,
   "id": "bcb5b776-4861-4a84-92a9-de7f4aaa8f41",
   "metadata": {},
   "outputs": [
    {
     "data": {
      "text/plain": [
       "625"
      ]
     },
     "execution_count": 51,
     "metadata": {},
     "output_type": "execute_result"
    }
   ],
   "source": [
    "# Fonksiyon ve for döngüsü kullanarak üslü sayıları tanımlama:\n",
    "\n",
    "def ustel_sayi_v2(a,b):\n",
    "    sonuc = 1\n",
    "    for i in range(1,b+1):\n",
    "        sonuc = sonuc * a\n",
    "    return sonuc\n",
    "\n",
    "ustel_sayi_v2(5,4)   "
   ]
  },
  {
   "cell_type": "code",
   "execution_count": 53,
   "id": "403b1af6-9370-448f-afe6-66d7aca70a4f",
   "metadata": {},
   "outputs": [
    {
     "data": {
      "text/plain": [
       "[4, 5]"
      ]
     },
     "execution_count": 53,
     "metadata": {},
     "output_type": "execute_result"
    }
   ],
   "source": [
    "# [1,5,2,3,4] listesinin en büyük iki elemanını listeleyecek fonksiyonu oluşturma:\n",
    "\n",
    "def listedeki_en_buyuk_iki_sayi(liste):\n",
    "    liste.sort()\n",
    "    return liste[-2:]\n",
    "\n",
    "listedeki_en_buyuk_iki_sayi([1,5,2,3,4])"
   ]
  },
  {
   "cell_type": "code",
   "execution_count": 33,
   "id": "e3fb6bf2-aaba-45c1-8b37-d6ffaafc9b78",
   "metadata": {},
   "outputs": [
    {
     "name": "stdout",
     "output_type": "stream",
     "text": [
      "['abc', 'a']\n"
     ]
    }
   ],
   "source": [
    "# Verilen listeden str olan elemanları çekme:\n",
    "\n",
    "def str_filtrele(liste):\n",
    "    strings = filter(lambda x: type(x)==str, liste)\n",
    "    print(list(strings))\n",
    " \n",
    "str_filtrele([1,2,3,5,'abc','a',True])"
   ]
  },
  {
   "cell_type": "code",
   "execution_count": 61,
   "id": "c7ef75d3-02c8-4253-8475-4a218a26eb55",
   "metadata": {},
   "outputs": [
    {
     "data": {
      "text/plain": [
       "['abc', 'a']"
      ]
     },
     "execution_count": 61,
     "metadata": {},
     "output_type": "execute_result"
    }
   ],
   "source": [
    "def str_filtrele1(liste):\n",
    "    return [*(filter(lambda x: type(x)==str, liste))]\n",
    "                                                           # strings listesini değişken olarak atamadan da direkt işlem yapabiliriz.\n",
    "str_filtrele1([1,2,3,5,'abc','a',True])"
   ]
  },
  {
   "cell_type": "code",
   "execution_count": 35,
   "id": "2e9ba129-fd83-44e4-afcf-29a1532b61fe",
   "metadata": {},
   "outputs": [
    {
     "name": "stdout",
     "output_type": "stream",
     "text": [
      "[1.0, 90.0, 15.0]\n"
     ]
    }
   ],
   "source": [
    "# Verilen eski miktardaki paraların güncel miktarını sorgulama:\n",
    "\n",
    "def paradan_alti_sifir_at(liste):\n",
    "    yeni_sayi = map(lambda x: x/1000000, liste)\n",
    "    print(list(yeni_sayi))\n",
    "\n",
    "paradan_alti_sifir_at([1000000, 90000000, 15000000])"
   ]
  },
  {
   "cell_type": "code",
   "execution_count": 51,
   "id": "26b1d6ee-4520-4f9e-af38-e9c546e1297d",
   "metadata": {},
   "outputs": [
    {
     "data": {
      "text/plain": [
       "[1, 90, 15]"
      ]
     },
     "execution_count": 51,
     "metadata": {},
     "output_type": "execute_result"
    }
   ],
   "source": [
    "def paradan_alti_sifir_at(liste):\n",
    "    return [*map(lambda x: int(x/1000000), liste)]\n",
    "\n",
    "paradan_alti_sifir_at([1000000, 90000000, 15000000])"
   ]
  },
  {
   "cell_type": "code",
   "execution_count": 79,
   "id": "1439ce67-3f77-44d5-b40c-8efa1674659a",
   "metadata": {},
   "outputs": [
    {
     "name": "stdin",
     "output_type": "stream",
     "text": [
      "Saati yazınız:  00\n",
      "Dakikayi yazınız:  00\n"
     ]
    },
    {
     "name": "stdout",
     "output_type": "stream",
     "text": [
      "Saat 00:00\n"
     ]
    }
   ],
   "source": [
    "# Kullanıcının verdiği girdilerle saati yazma:\n",
    "\n",
    "def zaman_verisi_al():\n",
    "    while True:                                # Sonsuz döngü başlatılır, böylece kullanıcıdan geçerli bir saat ve dakika girene kadar giriş istenir.\n",
    "        saat = int(input(\"Saati yazınız: \"))\n",
    "        if saat>=24 or saat<0:\n",
    "            print(\"Hatalı giriş! lütfen 0 ile 23 arasında bir değer giriniz\")\n",
    "            continue                          # continue komutu ile if sorgusu sağlandıkça döngü başa döner ve kullanıcıdan yeniden saat istenir.\n",
    "        dakika = int(input(\"Dakikayi yazınız: \"))    #Saat doğru girildikten sonra, kullanıcıdan dakika değeri istenir ve tam sayı olarak alınır.\n",
    "        if dakika<0 or dakika>=60:\n",
    "            print(\"Hatalı giriş! lütfen 0 ile 59 arasında bir değer giriniz\")\n",
    "            continue                         # Başa dönüp saati soracak.\n",
    "        print(f\"Saat {saat:02}:{dakika:02}\") # Saati ve dakikayı her zaman iki haneli olarak gösterir.\n",
    "        break\n",
    "\n",
    "zaman_verisi_al()"
   ]
  },
  {
   "cell_type": "code",
   "execution_count": 87,
   "id": "9542b9f2-299a-4883-935f-b2be63c533da",
   "metadata": {},
   "outputs": [
    {
     "name": "stdin",
     "output_type": "stream",
     "text": [
      "Saati yazınız (0-23):  45\n"
     ]
    },
    {
     "name": "stdout",
     "output_type": "stream",
     "text": [
      "Geçersiz giriş, lütfen 0 ile 23 arasında bir değer giriniz.\n"
     ]
    },
    {
     "name": "stdin",
     "output_type": "stream",
     "text": [
      "Saati yazınız (0-23):  21\n",
      "Dakikayı yazınız (0-59):  75\n"
     ]
    },
    {
     "name": "stdout",
     "output_type": "stream",
     "text": [
      "Geçersiz giriş, lütfen 0 ile 59 arasında bir değer giriniz.\n"
     ]
    },
    {
     "name": "stdin",
     "output_type": "stream",
     "text": [
      "Dakikayı yazınız (0-59):  21\n"
     ]
    },
    {
     "name": "stdout",
     "output_type": "stream",
     "text": [
      "Saat 21:21\n"
     ]
    }
   ],
   "source": [
    "# ChatGpt'nin istediğim cevabı.(yanlış giriş olduğunda başa değil yanlış satıra giden.)\n",
    "\n",
    "def zaman_verisi_al():\n",
    "    while True:\n",
    "        while True:                                      # Saat girişini al ve kontrol et\n",
    "            saat = int(input(\"Saati yazınız (0-23): \"))\n",
    "            if 0 <= saat < 24:                          # Saat geçerli ise döngüden çık\n",
    "                break\n",
    "            print(\"Geçersiz giriş, lütfen 0 ile 23 arasında bir değer giriniz.\")\n",
    "        \n",
    "        while True:                                     # Dakika girişini al ve kontrol et\n",
    "            dakika = int(input(\"Dakikayı yazınız (0-59): \"))\n",
    "            if 0 <= dakika < 60:                        # Dakika geçerli ise döngüden çık\n",
    "                break\n",
    "            print(\"Geçersiz giriş, lütfen 0 ile 59 arasında bir değer giriniz.\")\n",
    "        \n",
    "        print(f\"Saat {saat:02}:{dakika:02}\")            # Saat ve dakika geçerliyse sonucu yazdır ve döngüyü bitir\n",
    "        break\n",
    "zaman_verisi_al()"
   ]
  },
  {
   "cell_type": "code",
   "execution_count": 83,
   "id": "6728d96f-880a-49a0-a19e-91b2b505f803",
   "metadata": {},
   "outputs": [
    {
     "name": "stdin",
     "output_type": "stream",
     "text": [
      "Saat giriniz: 21\n",
      "Dakika giriniz: 21\n"
     ]
    },
    {
     "data": {
      "text/plain": [
       "'Giris yapilan zaman 21:21'"
      ]
     },
     "execution_count": 83,
     "metadata": {},
     "output_type": "execute_result"
    }
   ],
   "source": [
    "# Mesut Hoca'nın cevabı:\n",
    "\n",
    "def zaman_verisi_al():\n",
    "    \"\"\"\n",
    "    parametre: None\n",
    "    tip:       None\n",
    "    örnek:     None\n",
    "    \n",
    "    r-return:  Saati ekrana döndür\n",
    "    r-tip:     String\n",
    "    r-örnek:   saat: 23,       dakika: 59\n",
    "    \"\"\"\n",
    "    \n",
    "    saat = input(\"Saat giriniz:\")\n",
    "    if saat.isdigit():                            # Grilen cevabın int olup olmadığını kontrol etmiş.\n",
    "        saat = int(saat)\n",
    "        if((saat >= 0) and (saat < 24)):\n",
    "            dakika = input('Dakika giriniz:')\n",
    "            if dakika.isdigit():\n",
    "                dakika = int(dakika)\n",
    "                if ((dakika >= 0) and (dakika <60)):\n",
    "                    return 'Giris yapilan zaman {}:{}'.format(saat, dakika)    # f-string kullanılabilir.\n",
    "                else:\n",
    "                    return 'Girilen dakika araligi yanlis'\n",
    "            else:\n",
    "                return 'Girilen dakika yanlis veri tipinde'\n",
    "        else:\n",
    "            return 'Girilen saat araligi yanlis'\n",
    "    else:\n",
    "        return 'Girilen saat yanlis veri tipinde'\n",
    "zaman_verisi_al()                                           # While kullanmadığı için yanlış giriş düzeltilemiyor."
   ]
  },
  {
   "cell_type": "raw",
   "id": "fff264e2-7d2e-4048-8902-c5908f4eb488",
   "metadata": {},
   "source": [
    "Alıştırma 1: Liste işlemleri                                                         # 15.01.2025\n",
    "Bir liste oluştur (örneğin, numbers = [5, 3, 8, 6, 2]).\n",
    "Listenin:\n",
    "Uzunluğunu bul.\n",
    "En büyük ve en küçük elemanını yazdır.\n",
    "Elemanlarını sıralı hale getir.\n",
    "İçine yeni bir sayı ekle ve tekrar yazdır."
   ]
  },
  {
   "cell_type": "code",
   "execution_count": 138,
   "id": "ec7fb5a3-16c4-4bf8-8a49-1415a4e4075b",
   "metadata": {},
   "outputs": [
    {
     "name": "stdout",
     "output_type": "stream",
     "text": [
      "17\n",
      "2\n",
      "875\n",
      "[2, 3, 4, 5, 7, 7, 47, 57, 57, 62, 64, 89, 96, 125, 523, 752, 875]\n",
      "[0, 7, 5, 89, 47, 64, 57, 2, 7, 3, 57, 62, 875, 96, 523, 125, 752, 4, 1]\n"
     ]
    }
   ],
   "source": [
    "liste = [7, 5, 89, 47, 64, 57, 2, 7, 3, 57, 62, 875, 96, 523, 125, 752, 4]\n",
    "\n",
    "print(len(liste))\n",
    "print(min(liste))\n",
    "print(max(liste))\n",
    "print(sorted(liste))\n",
    "liste.append(1)\n",
    "liste.insert(0,0)\n",
    "print(liste)"
   ]
  },
  {
   "cell_type": "raw",
   "id": "d5114b87-7bde-4509-ac61-79fbbbc9c8d5",
   "metadata": {},
   "source": [
    "Alıştırma 2: String işlemleri\n",
    "Kullanıcıdan bir metin girmesini iste.\n",
    "Bu metnin uzunluğunu, ilk harfini ve tamamını büyük harfe çevirip yazdır."
   ]
  },
  {
   "cell_type": "code",
   "execution_count": 144,
   "id": "64b99104-4cbc-4cd4-85b7-624b1e64d55b",
   "metadata": {},
   "outputs": [
    {
     "name": "stdin",
     "output_type": "stream",
     "text": [
      "Metin giriniz:  Bu metnin uzunluğunu, ilk harfini ve tamamını büyük harfe çevirip yazdır.\n"
     ]
    },
    {
     "name": "stdout",
     "output_type": "stream",
     "text": [
      "73\n",
      "BU METNIN UZUNLUĞUNU, ILK HARFINI VE TAMAMINI BÜYÜK HARFE ÇEVIRIP YAZDIR.\n"
     ]
    }
   ],
   "source": [
    "metin =  input(\"Metin giriniz: \")\n",
    "\n",
    "print(len(metin))\n",
    "print(metin.upper())"
   ]
  },
  {
   "cell_type": "code",
   "execution_count": 26,
   "id": "863a124e-01ee-45b6-bfd8-823ec5981c5f",
   "metadata": {},
   "outputs": [
    {
     "name": "stdout",
     "output_type": "stream",
     "text": [
      "0\n",
      "2\n",
      "4\n",
      "6\n",
      "8\n",
      "10\n"
     ]
    }
   ],
   "source": [
    "# Alıştırma 3: Sayı listesiyle döngü\n",
    "# 1’den 10’a kadar olan sayıları yazdıran bir for döngüsü oluştur.\n",
    "# Aynı döngü içinde sadece çift sayıları ekrana yazdır.\n",
    "\n",
    "for sayi in range(11):\n",
    "    if sayi%2==0:\n",
    "       print(sayi)"
   ]
  },
  {
   "cell_type": "code",
   "execution_count": 205,
   "id": "a6cda1cd-8b20-480c-a4ac-dd8a85184265",
   "metadata": {},
   "outputs": [
    {
     "name": "stdin",
     "output_type": "stream",
     "text": [
      "Bir sayi giriniz:  5\n",
      "Bir sayi ekleyiniz:  7\n"
     ]
    },
    {
     "name": "stdout",
     "output_type": "stream",
     "text": [
      "Toplam deger: 12\n"
     ]
    },
    {
     "name": "stdin",
     "output_type": "stream",
     "text": [
      "Bir sayi ekleyiniz:  6\n"
     ]
    },
    {
     "name": "stdout",
     "output_type": "stream",
     "text": [
      "Toplam deger: 18\n"
     ]
    },
    {
     "name": "stdin",
     "output_type": "stream",
     "text": [
      "Bir sayi ekleyiniz:  561\n"
     ]
    },
    {
     "name": "stdout",
     "output_type": "stream",
     "text": [
      "Toplam deger: 579\n"
     ]
    },
    {
     "name": "stdin",
     "output_type": "stream",
     "text": [
      "Bir sayi ekleyiniz:  0\n"
     ]
    },
    {
     "name": "stdout",
     "output_type": "stream",
     "text": [
      "son deger: 579\n"
     ]
    }
   ],
   "source": [
    "# Alıştırma 4: Kullanıcı girişleriyle döngü\n",
    "# Kullanıcıdan sürekli bir sayı girmesini iste.\n",
    "# Kullanıcı \"0\" girene kadar girdiği tüm sayıları toplamak için bir while döngüsü oluştur.\n",
    "\n",
    "ilk_sayi = int(input(\"Bir sayi giriniz: \"))\n",
    "toplam = ilk_sayi\n",
    "while True: \n",
    "    sayi = int(input(\"Bir sayi ekleyiniz: \"))\n",
    "    if sayi !=0:\n",
    "        toplam = toplam + sayi\n",
    "        print(f\"Toplam deger: {toplam}\")\n",
    "        continue\n",
    "    elif sayi ==0:\n",
    "        print(f\"son deger: {toplam}\")\n",
    "        break"
   ]
  },
  {
   "cell_type": "code",
   "execution_count": 1,
   "id": "52b2840a-13ce-46c8-84c8-cae920e06f26",
   "metadata": {},
   "outputs": [
    {
     "name": "stdout",
     "output_type": "stream",
     "text": [
      "1 x 1 = 1\n",
      "1 x 2 = 2\n",
      "1 x 3 = 3\n",
      "1 x 4 = 4\n",
      "1 x 5 = 5\n",
      "1 x 6 = 6\n",
      "1 x 7 = 7\n",
      "1 x 8 = 8\n",
      "1 x 9 = 9\n",
      "1 x 10 = 10\n",
      "2 x 1 = 2\n",
      "2 x 2 = 4\n",
      "2 x 3 = 6\n",
      "2 x 4 = 8\n",
      "2 x 5 = 10\n",
      "2 x 6 = 12\n",
      "2 x 7 = 14\n",
      "2 x 8 = 16\n",
      "2 x 9 = 18\n",
      "2 x 10 = 20\n",
      "3 x 1 = 3\n",
      "3 x 2 = 6\n",
      "3 x 3 = 9\n",
      "3 x 4 = 12\n",
      "3 x 5 = 15\n",
      "3 x 6 = 18\n",
      "3 x 7 = 21\n",
      "3 x 8 = 24\n",
      "3 x 9 = 27\n",
      "3 x 10 = 30\n",
      "4 x 1 = 4\n",
      "4 x 2 = 8\n",
      "4 x 3 = 12\n",
      "4 x 4 = 16\n",
      "4 x 5 = 20\n",
      "4 x 6 = 24\n",
      "4 x 7 = 28\n",
      "4 x 8 = 32\n",
      "4 x 9 = 36\n",
      "4 x 10 = 40\n",
      "5 x 1 = 5\n",
      "5 x 2 = 10\n",
      "5 x 3 = 15\n",
      "5 x 4 = 20\n",
      "5 x 5 = 25\n",
      "5 x 6 = 30\n",
      "5 x 7 = 35\n",
      "5 x 8 = 40\n",
      "5 x 9 = 45\n",
      "5 x 10 = 50\n",
      "6 x 1 = 6\n",
      "6 x 2 = 12\n",
      "6 x 3 = 18\n",
      "6 x 4 = 24\n",
      "6 x 5 = 30\n",
      "6 x 6 = 36\n",
      "6 x 7 = 42\n",
      "6 x 8 = 48\n",
      "6 x 9 = 54\n",
      "6 x 10 = 60\n",
      "7 x 1 = 7\n",
      "7 x 2 = 14\n",
      "7 x 3 = 21\n",
      "7 x 4 = 28\n",
      "7 x 5 = 35\n",
      "7 x 6 = 42\n",
      "7 x 7 = 49\n",
      "7 x 8 = 56\n",
      "7 x 9 = 63\n",
      "7 x 10 = 70\n",
      "8 x 1 = 8\n",
      "8 x 2 = 16\n",
      "8 x 3 = 24\n",
      "8 x 4 = 32\n",
      "8 x 5 = 40\n",
      "8 x 6 = 48\n",
      "8 x 7 = 56\n",
      "8 x 8 = 64\n",
      "8 x 9 = 72\n",
      "8 x 10 = 80\n",
      "9 x 1 = 9\n",
      "9 x 2 = 18\n",
      "9 x 3 = 27\n",
      "9 x 4 = 36\n",
      "9 x 5 = 45\n",
      "9 x 6 = 54\n",
      "9 x 7 = 63\n",
      "9 x 8 = 72\n",
      "9 x 9 = 81\n",
      "9 x 10 = 90\n",
      "10 x 1 = 10\n",
      "10 x 2 = 20\n",
      "10 x 3 = 30\n",
      "10 x 4 = 40\n",
      "10 x 5 = 50\n",
      "10 x 6 = 60\n",
      "10 x 7 = 70\n",
      "10 x 8 = 80\n",
      "10 x 9 = 90\n",
      "10 x 10 = 100\n"
     ]
    }
   ],
   "source": [
    "# Alıştırma 5: Çarpım tablosu\n",
    "# 1’den 10’a kadar olan sayıların çarpım tablosunu ekrana yazdır (örneğin: 2 x 3 = 6).\n",
    "\n",
    "carpan1 = 1\n",
    "carpan2 = 1\n",
    "\n",
    "while carpan1<=10:                                  # 1'den 10'a kadar olan sayılar için dış döngü\n",
    "    while carpan2<=10:                              # Her çarpan1 için 1'den 10'a kadar olan çarpan2'yi çarp\n",
    "        carpım = carpan1 * carpan2 \n",
    "        print(f\"{carpan1} x {carpan2} = {carpım}\")\n",
    "        carpan2 += 1                               # İkinci çarpanı bir artır\n",
    "    carpan1 += 1                                   # iç döngü bitip bir üst döngüye yükseldiğinde dönmesi için İlk çarpanı bir artır\n",
    "    carpan2 = 1                                    # İç döngüyü tekrar tekrar çalıştırmak için ikinci çarpanı sıfırla"
   ]
  },
  {
   "cell_type": "code",
   "execution_count": 24,
   "id": "be26b275-34b5-45b2-a71d-27df559f6289",
   "metadata": {},
   "outputs": [
    {
     "name": "stdin",
     "output_type": "stream",
     "text": [
      "Bir tam sayı giriniz (cıkış içi e'ye basın):  4\n"
     ]
    },
    {
     "name": "stdout",
     "output_type": "stream",
     "text": [
      "4 sayısı pozitif bir tamsayıdır.\n"
     ]
    },
    {
     "name": "stdin",
     "output_type": "stream",
     "text": [
      "Bir tam sayı giriniz (cıkış içi e'ye basın):  -8\n"
     ]
    },
    {
     "name": "stdout",
     "output_type": "stream",
     "text": [
      "-8 sayısı negatif bir tamsayıdır.\n"
     ]
    },
    {
     "name": "stdin",
     "output_type": "stream",
     "text": [
      "Bir tam sayı giriniz (cıkış içi e'ye basın):  0\n"
     ]
    },
    {
     "name": "stdout",
     "output_type": "stream",
     "text": [
      "sıfır\n"
     ]
    }
   ],
   "source": [
    "# Alıştırma 1: Sayı kontrolü\n",
    "# Kullanıcıdan bir sayı iste.\n",
    "# Bu sayının pozitif mi, negatif mi yoksa sıfır mı olduğunu belirleyen bir kod yaz.\n",
    "\n",
    "while True:\n",
    "    sayi = input(\"Bir tam sayı giriniz (cıkış içi e'ye basın): \")\n",
    "    if int(sayi) < 0:\n",
    "        print(f\"{sayi} sayısı negatif bir tamsayıdır.\")\n",
    "        \n",
    "    elif int(sayi) > 0:\n",
    "        print(f\"{sayi} sayısı pozitif bir tamsayıdır.\")\n",
    "    elif int(sayi)==0:\n",
    "        print(\"sıfır\")\n",
    "        break"
   ]
  },
  {
   "cell_type": "code",
   "execution_count": 24,
   "id": "8b437fa9-2081-423b-88f3-b5df69b9931e",
   "metadata": {},
   "outputs": [
    {
     "name": "stdout",
     "output_type": "stream",
     "text": [
      "7! = 5040\n"
     ]
    }
   ],
   "source": [
    "# Faktöriyel hesaplama.\n",
    "# Bir sayı alıp faktöriyelini hesaplayan bir fonksiyon yaz.\n",
    "\n",
    "def faktoriyel_hesaplama(x):\n",
    "    sayi=1\n",
    "    sonuc=1\n",
    "    while x >= sayi:\n",
    "        sonuc = sayi * sonuc\n",
    "        sayi += 1\n",
    "    else:\n",
    "        print(f\"{x}! = {sonuc}\")\n",
    "\n",
    "faktoriyel_hesaplama(7)"
   ]
  },
  {
   "cell_type": "raw",
   "id": "c2b480ea-d843-4f6b-b3be-d311e420b27e",
   "metadata": {},
   "source": [
    "18.01.2025\n",
    "Giriş Kontrolü:\n",
    "Kullanıcıdan menüden bir işlem seçmesini iste ve geçerli bir seçim yapana kadar tekrar sor.\n",
    "İşlem Seçimi ve Hesaplama:\n",
    "Kullanıcı bir işlem seçtiğinde, o işleme uygun olarak iki sayı girmesini iste.\n",
    "Seçilen işleme göre sonucu hesaplayarak ekrana yazdır.\n",
    "Tekrar Etme:\n",
    "İşlem tamamlandığında kullanıcıya tekrar menüye dönüp başka bir işlem yapmak isteyip istemediğini sor. Eğer istemiyorsa programdan çık.\n",
    "Hata Yönetimi:\n",
    "Bölme işlemi sırasında, kullanıcı sıfıra bölmeye çalışırsa uyarı ver ve tekrar giriş iste.\n",
    "Geçersiz seçim veya sayı girişlerinde kullanıcıya anlamlı mesajlar göster.\n",
    "Ek Özellikler (İsteğe Bağlı):\n",
    "İşlemleri bir döngü içinde sürekli yapmasını sağla ve kullanıcı \"7\"yi seçtiğinde programı sonlandır.\n",
    "Kullanıcının girdiği işlemleri bir listeye kaydet ve programın sonunda bu işlemleri özetle göster (örneğin: \"2 + 3 = 5\")."
   ]
  },
  {
   "cell_type": "code",
   "execution_count": 169,
   "id": "feda2e0c-f14c-4f06-ba60-8e404d28232c",
   "metadata": {},
   "outputs": [
    {
     "name": "stdout",
     "output_type": "stream",
     "text": [
      "  Menü\n",
      "Yapmak istediginiz islemi seciniz.\n",
      "1. Toplama\n",
      "2. Çıkarma\n",
      "3. Çarpma \n",
      "4. Bölme \n",
      "5. Üs Alma  \n",
      "6. Mod Alma  \n",
      "7. Çıkış \n"
     ]
    },
    {
     "name": "stdin",
     "output_type": "stream",
     "text": [
      " (Yapmak istediğiniz işlemin numarasını giriniz: ) 2\n",
      "ilk sayıyı giriniz:  45\n",
      "ikinci sayıyı giriniz:  6\n"
     ]
    },
    {
     "name": "stdout",
     "output_type": "stream",
     "text": [
      " 45.0 - 6.0 isleminin sonucu: 39.0\n",
      "  Menü\n",
      "Yapmak istediginiz islemi seciniz.\n",
      "1. Toplama\n",
      "2. Çıkarma\n",
      "3. Çarpma \n",
      "4. Bölme \n",
      "5. Üs Alma  \n",
      "6. Mod Alma  \n",
      "7. Çıkış \n"
     ]
    },
    {
     "name": "stdin",
     "output_type": "stream",
     "text": [
      " (Yapmak istediğiniz işlemin numarasını giriniz: ) 7\n"
     ]
    },
    {
     "name": "stdout",
     "output_type": "stream",
     "text": [
      "Çıkış Yaptınız.\n"
     ]
    }
   ],
   "source": [
    "def islem():\n",
    "    while True:\n",
    "        print(\"  Menü\\nYapmak istediginiz islemi seciniz.\\n1. Toplama\\n2. Çıkarma\\n3. Çarpma \\n4. Bölme \\n5. Üs Alma  \\n6. Mod Alma  \\n7. Çıkış \") \n",
    "        try:\n",
    "            giris = int(input(\" (Yapmak istediğiniz işlemin numarasını giriniz: )\"))\n",
    "            if giris in range(1,7):\n",
    "                a = float(input(\"ilk sayıyı giriniz: \"))\n",
    "                b = float(input(\"ikinci sayıyı giriniz: \"))\n",
    "                if giris==1:       # Toplama işlemi yapar. \n",
    "                    print(f\" {a} + {b} isleminin sonucu: {a+b}\")\n",
    "                elif giris==2:     # Çıkarma işlemi yapar.\n",
    "                    print(f\" {a} - {b} isleminin sonucu: {a-b}\")\n",
    "                elif giris==3:     # Çarpma işlemi yapar.\n",
    "                    print(f\" {a} x {b} isleminin sonucu: {a*b}\")\n",
    "                elif giris==4:     # Bölme işlemi yapar.\n",
    "                    if b == 0:\n",
    "                        print(\"Tanımsız giriş! (sayılar sıfıra bölünemez.)\")\n",
    "                    else:\n",
    "                        print(f\" {a} / {b} isleminin sonucu: {a/b}\")                        \n",
    "                elif giris==5:     # Üs alma işlemi yapar.\n",
    "                    print(f\" {a} ^ {b} isleminin sonucu: {a**b}\")\n",
    "                elif giris==6:     # Mod alma işlemi yapar.\n",
    "                    print(f\" {a} mod {b} isleminin sonucu: {a%b}\")  # a sayısının b sayısına bölümünden elde edilen kalanı verir.\n",
    "            elif giris==7:     # Çıkış yapar.\n",
    "                print(\"Çıkış Yaptınız.\")\n",
    "                break\n",
    "            else:\n",
    "                print(\" Geçersiz giriş. Lütfen menüden 1 ile 7 arasında bir işlem seçiniz.\") # 1-7 hariç bir değer girildiğinde\n",
    "        except ValueError:\n",
    "            print(\" Geçersiz giriş. Lütfen menüde belirtilen tam sayılardan birini seçiniz.\")  \n",
    "            # integer haricinde giriş yapıldığında hata vermeden devam etmesini sağlar.\n",
    "islem()"
   ]
  },
  {
   "cell_type": "code",
   "execution_count": null,
   "id": "c0c6b742-4051-45ae-a22b-eaf97a5806dc",
   "metadata": {},
   "outputs": [],
   "source": [
    "# Bir Fibonacci dizisi üreten Python fonksiyonunu yazınız.\n",
    "\n",
    "\n"
   ]
  },
  {
   "cell_type": "markdown",
   "id": "b631472e-a481-48cf-9ea0-bbab8bd0cf36",
   "metadata": {
    "jp-MarkdownHeadingCollapsed": true
   },
   "source": [
    "# CLASS"
   ]
  },
  {
   "cell_type": "raw",
   "id": "5eb11eef-cdbe-4f96-a9bc-68413029bd33",
   "metadata": {},
   "source": [
    "Python'da bir class, nesne tabanlı programlamanın (OOP) temel taşıdır. Bir sınıf, bir nesnenin şablonunu veya planını oluşturur. Sınıflar, özellikleri (veriler) ve bu özellikler üzerinde çalışan davranışları (metotlar) bir arada tutar.\n",
    "\n",
    "Bir class (sınıf), nesne tabanlı programlamada bir şablon veya plan görevi görür. Bu şablondan nesneler (instance) oluşturularak özellikler (attributes) ve davranışlar (methods) tanımlanır.\n",
    "\n",
    "Amaçları;\n",
    "Nesne Tabanlı Programlama: Gerçek dünyadaki nesneleri yazılımda modellemek için kullanılır.\n",
    "Kodun Yeniden Kullanılabilirliği: Tekrar eden işlemleri sınıflar ve metotlarla daha düzenli bir şekilde çözebilirsiniz.\n",
    "Karmaşık Sistemlerin Modellenmesi: Büyük ve karmaşık sistemleri daha küçük parçalara ayırarak yönetilebilir hale getirir."
   ]
  },
  {
   "cell_type": "raw",
   "id": "149d7c48-fd56-46f0-8d81-d9a8748f54f0",
   "metadata": {},
   "source": [
    "Sınıf Özellikleri(Attributes):\n",
    "- Sınıf içinde tanımlanan değişkenlerdir.\n",
    "- Tüm nesneler tarafından paylaşılır.\n",
    "\n",
    "Nesne Özellikleri(Objects):\n",
    "- Sadece belirli bir nesneye ait olan özelliklerdir.\n",
    "- Genelde __init__ (yapıcı metot) ile tanımlanır.\n",
    "\n",
    "Metotlar(Methods):\n",
    "- Sınıfın içinde tanımlanan ve nesneler tarafından çağrılabilen fonksiyonlardır.\n",
    "- Nesne Metotları: Genelde self parametresi kullanır.\n",
    "- Sınıf Metotları: Tüm sınıfı ilgilendirir. @classmethod ile tanımlanır.\n",
    "- Statik Metotlar: Sınıfın özelliklerine ya da nesnesine erişmeden çalışan metotlardır. @staticmethod ile tanımlanır.\n",
    "\n",
    "Kalıtım(Inheritance):\n",
    "-Bir sınıfın özelliklerini ve metotlarını başka bir sınıfa miras vermesidir.\n",
    "\n",
    "Çok Biçimlilik(Polimorfizm):\n",
    "- Aynı isimdeki metotların, farklı sınıflarda farklı davranışlar göstermesidir."
   ]
  },
  {
   "cell_type": "raw",
   "id": "085980fd-5388-4285-b8cb-aff0d8d8737e",
   "metadata": {},
   "source": [
    "class <Class Name>():        ### class isimleri, genelin aksine büyük harfle başlar.(zorunlu değil.)\n",
    "    \n",
    "    <class attr>             ### class attribute'lar, oluşturulan örneğe özgüdür.\n",
    "\n",
    "     def_init_(self, <attr>):           ### init, instantiation yani örnekleme.\n",
    "        self.<instance attr> = attr     ### instance attribute'lar, olusturulan örneğe özgüdür.\n",
    "        ...\n",
    "\n",
    "     def <method>(self, <params>):      ### methodlar class'a özgü fonksiyonlardır.\n",
    "         ...\n",
    "        return ..."
   ]
  },
  {
   "cell_type": "markdown",
   "id": "f49754a4-5493-4450-9304-347dc87f5e38",
   "metadata": {
    "jp-MarkdownHeadingCollapsed": true
   },
   "source": [
    "## class Olusturma, Attribute'lar ve Method'lar"
   ]
  },
  {
   "cell_type": "code",
   "execution_count": 1,
   "id": "ec458b7c-2646-4064-9fff-52ded53ed9d9",
   "metadata": {},
   "outputs": [],
   "source": [
    "class Ucus():\n",
    "    havayolu = \"THY\""
   ]
  },
  {
   "cell_type": "code",
   "execution_count": 3,
   "id": "e1546e22-109a-403e-afd5-5654170e9117",
   "metadata": {},
   "outputs": [
    {
     "data": {
      "text/plain": [
       "'THY'"
      ]
     },
     "execution_count": 3,
     "metadata": {},
     "output_type": "execute_result"
    }
   ],
   "source": [
    "ucus1 = Ucus()\n",
    "ucus1.havayolu"
   ]
  },
  {
   "cell_type": "code",
   "execution_count": 3,
   "id": "57c565b0-90f2-4213-976e-5717fb36bd88",
   "metadata": {},
   "outputs": [],
   "source": [
    "class Ucus():\n",
    "    havayolu = \"THY\"\n",
    "    \n",
    "    def __init__(self, kod, kalkis, varis, sure, kapasite, yolcu):\n",
    "        self.kod = kod\n",
    "        self.kalkis = kalkis\n",
    "        self.varis = varis\n",
    "        self.sure = sure\n",
    "        self.kapasite = kapasite\n",
    "        self.yolcu = yolcu"
   ]
  },
  {
   "cell_type": "code",
   "execution_count": 5,
   "id": "b0305538-fb3d-4556-ab7f-1243822bf450",
   "metadata": {},
   "outputs": [
    {
     "ename": "TypeError",
     "evalue": "Ucus.__init__() missing 6 required positional arguments: 'kod', 'kalkis', 'varis', 'sure', 'kapasite', and 'yolcu'",
     "output_type": "error",
     "traceback": [
      "\u001b[1;31m---------------------------------------------------------------------------\u001b[0m",
      "\u001b[1;31mTypeError\u001b[0m                                 Traceback (most recent call last)",
      "Cell \u001b[1;32mIn[5], line 1\u001b[0m\n\u001b[1;32m----> 1\u001b[0m ucus2 \u001b[38;5;241m=\u001b[39m Ucus()\n",
      "\u001b[1;31mTypeError\u001b[0m: Ucus.__init__() missing 6 required positional arguments: 'kod', 'kalkis', 'varis', 'sure', 'kapasite', and 'yolcu'"
     ]
    }
   ],
   "source": [
    "ucus2 = Ucus() # argüman atanmadığı için çalışmaz."
   ]
  },
  {
   "cell_type": "code",
   "execution_count": null,
   "id": "c25ac306-4a6f-4c8c-a5fb-8054076d2ca2",
   "metadata": {},
   "outputs": [],
   "source": [
    "class Ucus():\n",
    "    havayolu = \"THY\"    # class'a özgü attribute\n",
    "    \n",
    "    def __init__(self, kod, kalkis, varis, sure, kapasite, yolcu):\n",
    "        self.kod = kod\n",
    "        self.kalkis = kalkis     # objeye özgü attribute'lar\n",
    "        self.varis = varis\n",
    "        self.sure = sure\n",
    "        self.kapasite = kapasite\n",
    "        self.yolcu = yolcu"
   ]
  },
  {
   "cell_type": "code",
   "execution_count": 11,
   "id": "7db07b6d-bcf9-45ef-90bf-2a5f889f1224",
   "metadata": {},
   "outputs": [],
   "source": [
    "ucus2 = Ucus(\"TK123\", \"IST\", \"ANK\", 60, 300, 50)"
   ]
  },
  {
   "cell_type": "code",
   "execution_count": 13,
   "id": "5556c12a-f4c1-4511-901b-4c572b00cf1b",
   "metadata": {},
   "outputs": [
    {
     "data": {
      "text/plain": [
       "'TK123'"
      ]
     },
     "execution_count": 13,
     "metadata": {},
     "output_type": "execute_result"
    }
   ],
   "source": [
    "ucus2.kod"
   ]
  },
  {
   "cell_type": "code",
   "execution_count": 15,
   "id": "0d051f73-9274-4bcc-a903-448ef95abad2",
   "metadata": {},
   "outputs": [
    {
     "data": {
      "text/plain": [
       "'THY'"
      ]
     },
     "execution_count": 15,
     "metadata": {},
     "output_type": "execute_result"
    }
   ],
   "source": [
    "ucus2.havayolu"
   ]
  },
  {
   "cell_type": "code",
   "execution_count": 17,
   "id": "e4703cfd-2867-4bb5-84e5-166346b95a17",
   "metadata": {},
   "outputs": [],
   "source": [
    "ucus3 = Ucus(\"TK223\", \"BOD\", \"ANT\", 40, 250, 50)"
   ]
  },
  {
   "cell_type": "code",
   "execution_count": 19,
   "id": "9a91156f-d7e2-4d68-beec-ca9055d3b60d",
   "metadata": {},
   "outputs": [
    {
     "data": {
      "text/plain": [
       "'THY'"
      ]
     },
     "execution_count": 19,
     "metadata": {},
     "output_type": "execute_result"
    }
   ],
   "source": [
    "ucus3.havayolu"
   ]
  },
  {
   "cell_type": "code",
   "execution_count": 21,
   "id": "20415183-05db-44fb-abd3-a164176eeb8c",
   "metadata": {},
   "outputs": [
    {
     "data": {
      "text/plain": [
       "'TK223'"
      ]
     },
     "execution_count": 21,
     "metadata": {},
     "output_type": "execute_result"
    }
   ],
   "source": [
    "ucus3.kod"
   ]
  },
  {
   "cell_type": "code",
   "execution_count": 171,
   "id": "64b9a670-2843-49df-bb31-58cd0f7b5da0",
   "metadata": {},
   "outputs": [],
   "source": [
    "class Ucus():\n",
    "    havayolu = \"THY\"\n",
    "    \n",
    "    def __init__(self, kod, kalkis, varis, sure, kapasite, yolcu):\n",
    "        self.kod = kod\n",
    "        self.kalkis = kalkis\n",
    "        self.varis = varis\n",
    "        self.sure = sure\n",
    "        self.kapasite = kapasite\n",
    "        self.yolcu = yolcu\n",
    "   \n",
    "    def anons_yap(self):\n",
    "        return f\"{self.kod} sayılı {self.kalkis}-{self.varis} ucusumuz {self.sure} dakika sürecektir.\"\n",
    "\n",
    "    def kalan_koltuk_sayisi(self, bilet_adedi=0):\n",
    "        return self.kapasite - (self.yolcu + bilet_adedi)\n",
    "        \n",
    "    def bilet_satis(self, bilet_adedi):\n",
    "        if self.yolcu + bilet_adedi <= self.kapasite:\n",
    "            self.yolcu += bilet_adedi\n",
    "            kalan_koltuk = self.kalan_koltuk_sayisi()\n",
    "            print(f\"{bilet_adedi} adet bilet satilmistir. Kalan koltuk sayisi {kalan_koltuk}\")\n",
    "        else:\n",
    "            kalan_koltuk = self.kalan_koltuk_sayisi()\n",
    "            print(f\"Kalan koltuk sayısı: {self.kalan_koltuk_sayisi() }. Yeterli koltuk yok. Işleme devam edemezsiniz.\")\n",
    "\n",
    "    \n",
    "    def bilet_iptal(self, bilet_iptal=1):\n",
    "         if self.yolcu >= bilet_iptal:\n",
    "             self.yolcu -= bilet_iptal\n",
    "             kalan_koltuk = self.kapasite - (self.yolcu - bilet_iptal)\n",
    "             print(f\"{bilet_iptal} adet bilet iptal edilmistir. Kalan koltuk sayisi {kalan_koltuk}\")\n",
    "         else:\n",
    "             print(\"Iptal edilmek istenen adet kadar bilet satısı yapılmamıstır.\")"
   ]
  },
  {
   "cell_type": "code",
   "execution_count": 173,
   "id": "f720c530-cdf9-4c6b-a5a1-bb88dc2fc34e",
   "metadata": {},
   "outputs": [],
   "source": [
    "ucus3 = Ucus(\"TK223\", \"BOD\", \"ANT\", 40, 250, 200)"
   ]
  },
  {
   "cell_type": "code",
   "execution_count": 1040,
   "id": "6df8bcab-aa81-4f2d-ad4d-2186b4137b7f",
   "metadata": {},
   "outputs": [
    {
     "name": "stdout",
     "output_type": "stream",
     "text": [
      "5 adet bilet satilmistir. Kalan koltuk sayisi 45\n",
      "Kalan koltuk sayısı: 45. Yeterli koltuk yok. Işleme devam edemezsiniz.\n",
      "10 adet bilet satilmistir. Kalan koltuk sayisi 35\n"
     ]
    }
   ],
   "source": [
    "ucus3.kalan_koltuk_sayisi()\n",
    "ucus3.bilet_satis(5)\n",
    "ucus3.bilet_satis(50)\n",
    "ucus3.bilet_satis(10) "
   ]
  },
  {
   "cell_type": "code",
   "execution_count": 1042,
   "id": "3572e04a-d17c-4d40-a6b0-0175cac240dc",
   "metadata": {},
   "outputs": [
    {
     "name": "stdout",
     "output_type": "stream",
     "text": [
      "15 adet bilet iptal edilmistir. Kalan koltuk sayisi 65\n",
      "5 adet bilet iptal edilmistir. Kalan koltuk sayisi 60\n"
     ]
    }
   ],
   "source": [
    "ucus3.bilet_iptal(15)\n",
    "ucus3.bilet_iptal(5)"
   ]
  },
  {
   "cell_type": "markdown",
   "id": "b8688cd2-dc47-47f8-b739-065e11681799",
   "metadata": {
    "jp-MarkdownHeadingCollapsed": true
   },
   "source": [
    "## Dunder Method'lar (Double Under Score)"
   ]
  },
  {
   "cell_type": "code",
   "execution_count": 175,
   "id": "ffcc30b9-487c-486c-b4d2-9192276497ce",
   "metadata": {},
   "outputs": [],
   "source": [
    "ucus3 = Ucus(\"TK223\", \"BOD\", \"ANT\", 40, 250, 200)"
   ]
  },
  {
   "cell_type": "code",
   "execution_count": 179,
   "id": "39b960b9-172d-491f-9079-05fe818ca21d",
   "metadata": {},
   "outputs": [
    {
     "data": {
      "text/plain": [
       "['kod',\n",
       " 'kalkis',\n",
       " 'varis',\n",
       " 'sure',\n",
       " 'kapasite',\n",
       " 'yolcu',\n",
       " '__module__',\n",
       " 'havayolu',\n",
       " '__init__',\n",
       " 'anons_yap',\n",
       " 'kalan_koltuk_sayisi',\n",
       " 'bilet_satis',\n",
       " 'bilet_iptal',\n",
       " '__dict__',\n",
       " '__weakref__',\n",
       " '__doc__',\n",
       " '__new__',\n",
       " '__repr__',\n",
       " '__hash__',\n",
       " '__str__',\n",
       " '__getattribute__',\n",
       " '__setattr__',\n",
       " '__delattr__',\n",
       " '__lt__',\n",
       " '__le__',\n",
       " '__eq__',\n",
       " '__ne__',\n",
       " '__gt__',\n",
       " '__ge__',\n",
       " '__reduce_ex__',\n",
       " '__reduce__',\n",
       " '__getstate__',\n",
       " '__subclasshook__',\n",
       " '__init_subclass__',\n",
       " '__format__',\n",
       " '__sizeof__',\n",
       " '__dir__',\n",
       " '__class__']"
      ]
     },
     "execution_count": 179,
     "metadata": {},
     "output_type": "execute_result"
    }
   ],
   "source": [
    "ucus3.__dir__()  # method'ları gösterir."
   ]
  },
  {
   "cell_type": "code",
   "execution_count": 187,
   "id": "fad1a36d-c889-4da7-a485-a5c5e919c863",
   "metadata": {},
   "outputs": [
    {
     "data": {
      "text/plain": [
       "<__main__.Ucus at 0x262302c9400>"
      ]
     },
     "execution_count": 187,
     "metadata": {},
     "output_type": "execute_result"
    }
   ],
   "source": [
    "# Normalde değişken atanınca değişkenin ismini yazdığımızda değişkenin sonucunu döndürür.\n",
    "# representation: Nesnenin teknik bir temsilini sağlar.\n",
    "# __repr__ (temsili), nesnenin kendisi doğrudan yazıldığında çağrılır.\n",
    "ucus3 "
   ]
  },
  {
   "cell_type": "raw",
   "id": "532babc7-e03b-4ca8-ae82-709249572123",
   "metadata": {},
   "source": [
    "__repr__ ve __str__ Kullanılmadığında: __repr__ ve __str__ otomatik olarak devralınır ve varsayılan olarak nesnenin bellek adresini gösterir."
   ]
  },
  {
   "cell_type": "code",
   "execution_count": 201,
   "id": "6458cae3-1b30-46e7-9cc9-c571d3e2e231",
   "metadata": {},
   "outputs": [],
   "source": [
    "class Ucus():\n",
    "    havayolu = \"THY\"\n",
    "    \n",
    "    def __init__(self, kod, kalkis, varis, sure, kapasite, yolcu):\n",
    "        self.kod = kod\n",
    "        self.kalkis = kalkis\n",
    "        self.varis = varis\n",
    "        self.sure = sure\n",
    "        self.kapasite = kapasite\n",
    "        self.yolcu = yolcu\n",
    "\n",
    "    def __repr__(self):\n",
    "        return f\"{self.kod} self sayılı ucus, sistemde olusturulmustur.\" \n",
    "\n",
    "    def anons_yap(self):\n",
    "        return f\"{self.kod} sayılı {self.kalkis}-{self.varis} ucusumuz {self.sure} dakika sürecektir.\"\n",
    "\n",
    "    def kalan_koltuk_sayisi(self, bilet_adedi=0):\n",
    "        return self.kapasite - (self.yolcu + bilet_adedi)\n",
    "        \n",
    "    def bilet_satis(self, bilet_adedi):\n",
    "        if self.yolcu + bilet_adedi <= self.kapasite:\n",
    "            self.yolcu += bilet_adedi\n",
    "            kalan_koltuk = self.kalan_koltuk_sayisi()\n",
    "            print(f\"{bilet_adedi} adet bilet satilmistir. Kalan koltuk sayisi {kalan_koltuk}\")\n",
    "        else:\n",
    "            kalan_koltuk = self.kalan_koltuk_sayisi()\n",
    "            print(f\"Kalan koltuk sayısı: {self.kalan_koltuk_sayisi() }. Yeterli koltuk yok. Işleme devam edemezsiniz.\")\n",
    "\n",
    "    \n",
    "    def bilet_iptal(self, bilet_iptal=1):\n",
    "         if self.yolcu >= bilet_iptal:\n",
    "             self.yolcu -= bilet_iptal\n",
    "             kalan_koltuk = self.kapasite - (self.yolcu - bilet_iptal)\n",
    "             print(f\"{bilet_iptal} adet bilet iptal edilmistir. Kalan koltuk sayisi {kalan_koltuk}\")\n",
    "         else:\n",
    "             print(\"Iptal edilmek istenen adet kadar bilet satısı yapılmamıstır.\")"
   ]
  },
  {
   "cell_type": "code",
   "execution_count": 203,
   "id": "81f19b6b-b52f-4135-8110-0b1b51bab1c0",
   "metadata": {},
   "outputs": [],
   "source": [
    "ucus3 = Ucus(\"TK223\", \"BOD\", \"ANT\", 40, 250, 200)"
   ]
  },
  {
   "cell_type": "code",
   "execution_count": 205,
   "id": "69f36d6b-14b9-45a4-8d3d-ed79f2a184c8",
   "metadata": {},
   "outputs": [
    {
     "data": {
      "text/plain": [
       "TK223 self sayılı ucus, sistemde olusturulmustur."
      ]
     },
     "execution_count": 205,
     "metadata": {},
     "output_type": "execute_result"
    }
   ],
   "source": [
    "ucus3"
   ]
  },
  {
   "cell_type": "code",
   "execution_count": 209,
   "id": "cee53d34-9a1a-471a-a8a2-104d11bb9b94",
   "metadata": {},
   "outputs": [
    {
     "data": {
      "text/plain": [
       "['kod',\n",
       " 'kalkis',\n",
       " 'varis',\n",
       " 'sure',\n",
       " 'kapasite',\n",
       " 'yolcu',\n",
       " '__module__',\n",
       " 'havayolu',\n",
       " '__init__',\n",
       " '__repr__',\n",
       " 'anons_yap',\n",
       " 'kalan_koltuk_sayisi',\n",
       " 'bilet_satis',\n",
       " 'bilet_iptal',\n",
       " '__dict__',\n",
       " '__weakref__',\n",
       " '__doc__',\n",
       " '__new__',\n",
       " '__hash__',\n",
       " '__str__',\n",
       " '__getattribute__',\n",
       " '__setattr__',\n",
       " '__delattr__',\n",
       " '__lt__',\n",
       " '__le__',\n",
       " '__eq__',\n",
       " '__ne__',\n",
       " '__gt__',\n",
       " '__ge__',\n",
       " '__reduce_ex__',\n",
       " '__reduce__',\n",
       " '__getstate__',\n",
       " '__subclasshook__',\n",
       " '__init_subclass__',\n",
       " '__format__',\n",
       " '__sizeof__',\n",
       " '__dir__',\n",
       " '__class__']"
      ]
     },
     "execution_count": 209,
     "metadata": {},
     "output_type": "execute_result"
    }
   ],
   "source": [
    "ucus3.__dir__()"
   ]
  },
  {
   "cell_type": "markdown",
   "id": "7059334f-5fc8-4ecb-90f3-8f66389e9f56",
   "metadata": {
    "jp-MarkdownHeadingCollapsed": true
   },
   "source": [
    "## Inheritance (Kalitim)"
   ]
  },
  {
   "cell_type": "code",
   "execution_count": 222,
   "id": "801a614c-907d-4b55-bb66-c0fc57e6d57c",
   "metadata": {},
   "outputs": [],
   "source": [
    "class Seyahat():\n",
    "\n",
    "    def __init__(self, kalkis, varis):  # yapıcı metod(constructor method)\n",
    "        self.kalkis = kalkis\n",
    "        self.varis = varis\n",
    "        \n",
    "    def anons(self): \n",
    "        return f\"{self.kalkis}-{self.varis} seyahatine hosgeldiniz.\"\n",
    "\n",
    "class Otobus(Seyahat):\n",
    "\n",
    "    def __init__(self, mola_duraklari):\n",
    "        Seyahat.__init__(self, \"IST\", \"ANK\")\n",
    "        self.mola_duraklari = mola_duraklari      "
   ]
  },
  {
   "cell_type": "code",
   "execution_count": 216,
   "id": "ee7e4c0f-cfa6-4379-9f68-ddec999534e1",
   "metadata": {},
   "outputs": [
    {
     "data": {
      "text/plain": [
       "'ANT-BOD seyahatine hosgeldiniz.'"
      ]
     },
     "execution_count": 216,
     "metadata": {},
     "output_type": "execute_result"
    }
   ],
   "source": [
    "seyahat1 = Seyahat(\"ANT\", \"BOD\")\n",
    "seyahat1.anons()"
   ]
  },
  {
   "cell_type": "code",
   "execution_count": 218,
   "id": "2e0823ed-a995-4d53-965a-b90e674905e4",
   "metadata": {},
   "outputs": [],
   "source": [
    "oto1 = Otobus([\"FET\", \"ALAN\"])"
   ]
  },
  {
   "cell_type": "code",
   "execution_count": 220,
   "id": "4d46bc2c-5186-449e-98ac-e95f9fba8ad2",
   "metadata": {},
   "outputs": [
    {
     "data": {
      "text/plain": [
       "['FET', 'ALAN']"
      ]
     },
     "execution_count": 220,
     "metadata": {},
     "output_type": "execute_result"
    }
   ],
   "source": [
    "oto1.mola_duraklari"
   ]
  },
  {
   "cell_type": "markdown",
   "id": "96a2e6d3-44fd-4db2-8c51-c21988a94e53",
   "metadata": {
    "jp-MarkdownHeadingCollapsed": true
   },
   "source": [
    "# MODULES"
   ]
  },
  {
   "cell_type": "raw",
   "id": "28078498-ecee-40a8-8b4c-563c0204a52d",
   "metadata": {},
   "source": [
    "Modül Nedir?\n",
    "Modül, Python'da yazılmış bir kod dosyasıdır ve genellikle .py uzantısına sahiptir.\n",
    "Kütüphane veya paket gibi de düşünülebilir, çünkü içinde fonksiyonlar, sabitler, sınıflar ve değişkenler barındırır.\n",
    "Modüller, kod tekrarını önlemek, daha düzenli bir yapı oluşturmak ve yazılımı parçalayarak yönetimi kolaylaştırmak için kullanılır.\n",
    "Python, hem yerleşik modüller (örneğin math, random) hem de özel modüller (kendi yazdığınız .py dosyaları) ile çalışabilir.\n",
    "\n",
    "*Modül Çeşitleri*\n",
    "\n",
    "* Yerleşik Modüller (Built-in Modules):\n",
    "Python ile birlikte gelir.\n",
    "Örnekler: math, random, os, sys, time, datetime.\n",
    "\n",
    "*Harici Modüller (Third-Party Modules):\n",
    "Python topluluğu tarafından geliştirilmiştir ve genellikle pip komutuyla yüklenir.\n",
    "Örnekler: numpy, pandas, matplotlib.\n",
    "\n",
    "*Kendi Yazdığınız Modüller:\n",
    "Bir .py dosyasında fonksiyonlar, sınıflar veya değişkenler tanımlayarak kendi modülünüzü oluşturabilirsiniz."
   ]
  },
  {
   "cell_type": "code",
   "execution_count": null,
   "id": "a8f832da-e0d9-4f8b-b4f7-6755bffc21eb",
   "metadata": {},
   "outputs": [],
   "source": [
    "##  Modül Kullanımı  ##\n",
    "\n",
    "# Python’da bir modülü kullanmak için import anahtar kelimesini kullanırız.\n",
    "import modül_ismi\n",
    "\n",
    "# Modülün yalnızca belirli bir kısmını kullanmak için:\n",
    "from modül_ismi import belirli_bir_özellik\n",
    "\n",
    "# Kısaltma kullanarak:\n",
    "import modül_ismi as kısayol"
   ]
  },
  {
   "cell_type": "code",
   "execution_count": 3,
   "id": "a1d068f1-a11c-44d4-88b8-51ce6443c2ba",
   "metadata": {},
   "outputs": [
    {
     "name": "stdout",
     "output_type": "stream",
     "text": [
      "4.0\n",
      "3.141592653589793\n",
      "8.0\n"
     ]
    }
   ],
   "source": [
    "#  1. Yerleşik Modül Örneği (Math Modülü)\n",
    "#  Math Modülü, matematiksel işlemleri kolaylaştırır.\n",
    "\n",
    "import math\n",
    "\n",
    "# Karekök hesaplama\n",
    "print(math.sqrt(16))  # Çıktı: 4.0\n",
    "\n",
    "# Pi sayısı\n",
    "print(math.pi)  # Çıktı: 3.141592653589793\n",
    "\n",
    "# Üs alma\n",
    "print(math.pow(2, 3))  # Çıktı: 8.0"
   ]
  },
  {
   "cell_type": "code",
   "execution_count": 7,
   "id": "0a93c631-efb5-4d6f-9ba5-ebb366e2e731",
   "metadata": {},
   "outputs": [
    {
     "name": "stdout",
     "output_type": "stream",
     "text": [
      "3.0\n"
     ]
    }
   ],
   "source": [
    "#  2. Harici Modül Örneği (NumPy)\n",
    "#  NumPy, bilimsel hesaplamalar için kullanılan bir kütüphanedir. Kurulumu için:\n",
    "# pip install numpy\n",
    "\n",
    "import numpy as np\n",
    "\n",
    "# NumPy array oluşturma\n",
    "arr = np.array([1, 2, 3, 4, 5])\n",
    "print(arr.mean())  # Çıktı: 3.0"
   ]
  },
  {
   "cell_type": "code",
   "execution_count": 11,
   "id": "575b3eec-e01b-452f-a775-ab30aa53fff7",
   "metadata": {},
   "outputs": [],
   "source": [
    "# 3. Özel Modül Oluşturma\n",
    "# Bir dosya oluşturup içine modül tanımlayalım.\n",
    "\n",
    "# Dosya adı: araclar.py\n",
    "\n",
    "def selamla(isim):\n",
    "    return f\"Merhaba, {isim}!\"\n",
    "\n",
    "def toplama(a, b):\n",
    "    return a + b"
   ]
  },
  {
   "cell_type": "markdown",
   "id": "83281a59-664f-4266-8135-f6710e58d9be",
   "metadata": {
    "jp-MarkdownHeadingCollapsed": true
   },
   "source": [
    "## Magic Commands"
   ]
  },
  {
   "cell_type": "code",
   "execution_count": 20,
   "id": "8b6d38ed-8e01-4b30-a0d5-a143046c8828",
   "metadata": {},
   "outputs": [
    {
     "name": "stdout",
     "output_type": "stream",
     "text": [
      " Volume in drive C has no label.\n",
      " Volume Serial Number is D806-5653\n",
      "\n",
      " Directory of C:\\Users\\msi\n",
      "\n",
      "19.01.2025  13:18    <DIR>          .\n",
      "06.12.2024  16:07    <DIR>          ..\n",
      "22.11.2024  15:23    <DIR>          .anaconda\n",
      "19.01.2025  13:19    <DIR>          .conda\n",
      "22.11.2024  15:20               146 .condarc\n",
      "22.11.2024  15:19    <DIR>          .continuum\n",
      "20.11.2024  20:32    <DIR>          .idlerc\n",
      "18.01.2025  07:03    <DIR>          .ipynb_checkpoints\n",
      "22.11.2024  15:25    <DIR>          .ipython\n",
      "23.11.2024  17:37    <DIR>          .jupyter\n",
      "30.12.2024  16:34    <DIR>          .matplotlib\n",
      "22.08.2024  13:20    <DIR>          .ms-ad\n",
      "13.01.2025  14:07    <DIR>          .spyder-py3\n",
      "18.01.2025  07:03    <DIR>          anaconda_projects\n",
      "12.01.2025  08:01    <DIR>          anaconda3\n",
      "06.12.2024  16:17    <DIR>          Contacts\n",
      "11.01.2025  19:13    <DIR>          Cv\n",
      "17.01.2025  08:31    <DIR>          Desktop\n",
      "31.12.2024  17:21    <DIR>          Documents\n",
      "13.01.2025  13:53    <DIR>          Downloads\n",
      "06.12.2024  16:17    <DIR>          Favorites\n",
      "17.08.2024  15:59    <DIR>          Intel\n",
      "07.01.2025  14:30    <DIR>          Jedi\n",
      "06.12.2024  16:17    <DIR>          Links\n",
      "06.12.2024  16:17    <DIR>          Music\n",
      "11.01.2025  19:09    <DIR>          OneDrive\n",
      "11.01.2025  19:15    <DIR>          Pictures\n",
      "24.11.2024  22:27    <DIR>          Python_Egitim-master\n",
      "24.11.2024  22:27    <DIR>          Python_Egitim-master-Copy1\n",
      "19.01.2025  13:18           190.403 PYTHON_notebook.ipynb\n",
      "12.01.2025  11:14            21.082 Python_with_chatGPT.ipynb\n",
      "06.12.2024  16:17    <DIR>          Saved Games\n",
      "06.12.2024  16:17    <DIR>          Searches\n",
      "06.12.2024  16:17    <DIR>          Videos\n",
      "               3 File(s)        211.631 bytes\n",
      "              31 Dir(s)  118.421.213.184 bytes free\n"
     ]
    }
   ],
   "source": [
    "%ls\n",
    "# İçine girdiğimiz klasördeki dosyaları basıyor."
   ]
  },
  {
   "cell_type": "code",
   "execution_count": 24,
   "id": "b574face-4b4c-4ce1-bf31-aa1c3cc0600c",
   "metadata": {},
   "outputs": [
    {
     "data": {
      "text/plain": [
       "'C:\\\\Users\\\\msi'"
      ]
     },
     "execution_count": 24,
     "metadata": {},
     "output_type": "execute_result"
    }
   ],
   "source": [
    "%pwd\n",
    "# Şuanki klasörü gösteriyor. (Bilgisayardaki yeri)"
   ]
  },
  {
   "cell_type": "markdown",
   "id": "e29ce266-4dee-4773-b06d-ebfcea9192f8",
   "metadata": {
    "jp-MarkdownHeadingCollapsed": true
   },
   "source": [
    "## OS module"
   ]
  },
  {
   "cell_type": "code",
   "execution_count": 27,
   "id": "69ffb208-5716-4407-ac3f-29a07bd873be",
   "metadata": {},
   "outputs": [],
   "source": [
    "# Dışarıdan kütüphane yüklemek için import komutu kullanılır.\n",
    "import os"
   ]
  },
  {
   "cell_type": "code",
   "execution_count": 29,
   "id": "ce778516-4b46-49a4-9c4c-4fa5836a3e25",
   "metadata": {},
   "outputs": [
    {
     "data": {
      "text/plain": [
       "'C:\\\\Users\\\\msi'"
      ]
     },
     "execution_count": 29,
     "metadata": {},
     "output_type": "execute_result"
    }
   ],
   "source": [
    "# os. tab'e basarak kütüphanedeki komutları görüntüleyebilirsin.\n",
    "\n",
    "os.getcwd() # Şuan çalıştığım klasörün adresi"
   ]
  },
  {
   "cell_type": "code",
   "execution_count": 33,
   "id": "b2b7d811-ad58-4e6e-b713-1137900492e0",
   "metadata": {},
   "outputs": [
    {
     "data": {
      "text/plain": [
       "['.anaconda',\n",
       " '.conda',\n",
       " '.condarc',\n",
       " '.continuum',\n",
       " '.idlerc',\n",
       " '.ipynb_checkpoints',\n",
       " '.ipython',\n",
       " '.jupyter',\n",
       " '.matplotlib',\n",
       " '.ms-ad',\n",
       " '.spyder-py3',\n",
       " 'anaconda3',\n",
       " 'anaconda_projects',\n",
       " 'AppData',\n",
       " 'Application Data',\n",
       " 'Belgelerim',\n",
       " 'Contacts',\n",
       " 'Cookies',\n",
       " 'Cv',\n",
       " 'Desktop',\n",
       " 'Documents',\n",
       " 'Downloads',\n",
       " 'Favorites',\n",
       " 'Intel',\n",
       " 'Jedi',\n",
       " 'Links',\n",
       " 'Local Settings',\n",
       " 'Music',\n",
       " 'NetHood',\n",
       " 'NTUSER.DAT',\n",
       " 'ntuser.dat.LOG1',\n",
       " 'ntuser.dat.LOG2',\n",
       " 'NTUSER.DAT{d7bbd7f6-b3d2-11ef-9b08-b44974563664}.TM.blf',\n",
       " 'NTUSER.DAT{d7bbd7f6-b3d2-11ef-9b08-b44974563664}.TMContainer00000000000000000001.regtrans-ms',\n",
       " 'NTUSER.DAT{d7bbd7f6-b3d2-11ef-9b08-b44974563664}.TMContainer00000000000000000002.regtrans-ms',\n",
       " 'ntuser.ini',\n",
       " 'OneDrive',\n",
       " 'Pictures',\n",
       " 'PrintHood',\n",
       " 'Python_Egitim-master',\n",
       " 'Python_Egitim-master-Copy1',\n",
       " 'PYTHON_notebook.ipynb',\n",
       " 'Python_with_chatGPT.ipynb',\n",
       " 'Recent',\n",
       " 'Saved Games',\n",
       " 'Searches',\n",
       " 'SendTo',\n",
       " 'Start Menu',\n",
       " 'Templates',\n",
       " 'Videos']"
      ]
     },
     "execution_count": 33,
     "metadata": {},
     "output_type": "execute_result"
    }
   ],
   "source": [
    "os.listdir()\n",
    "# Mevcut klasörün altındaki dosya ve klasörleri basar."
   ]
  },
  {
   "cell_type": "code",
   "execution_count": 37,
   "id": "f0532f95-f39a-4e61-b652-7229d8d06dab",
   "metadata": {},
   "outputs": [
    {
     "data": {
      "text/plain": [
       "['All Users',\n",
       " 'Default',\n",
       " 'Default User',\n",
       " 'desktop.ini',\n",
       " 'msi',\n",
       " 'Public',\n",
       " 'songl']"
      ]
     },
     "execution_count": 37,
     "metadata": {},
     "output_type": "execute_result"
    }
   ],
   "source": [
    "os.listdir('C:\\\\Users')"
   ]
  },
  {
   "cell_type": "code",
   "execution_count": 41,
   "id": "eccd536a-00c9-44d2-b023-f32a836d12ba",
   "metadata": {},
   "outputs": [],
   "source": [
    "# change-director\n",
    "os.chdir('C:\\\\Users')"
   ]
  },
  {
   "cell_type": "code",
   "execution_count": 43,
   "id": "4d33ca0e-4727-4727-ac59-80b5d2fc3c41",
   "metadata": {},
   "outputs": [
    {
     "data": {
      "text/plain": [
       "['All Users',\n",
       " 'Default',\n",
       " 'Default User',\n",
       " 'desktop.ini',\n",
       " 'msi',\n",
       " 'Public',\n",
       " 'songl']"
      ]
     },
     "execution_count": 43,
     "metadata": {},
     "output_type": "execute_result"
    }
   ],
   "source": [
    "os.listdir()"
   ]
  },
  {
   "cell_type": "code",
   "execution_count": null,
   "id": "2c442fd4-c0ce-4637-88cd-ff29ebb332c0",
   "metadata": {},
   "outputs": [],
   "source": []
  }
 ],
 "metadata": {
  "kernelspec": {
   "display_name": "Python 3 (ipykernel)",
   "language": "python",
   "name": "python3"
  },
  "language_info": {
   "codemirror_mode": {
    "name": "ipython",
    "version": 3
   },
   "file_extension": ".py",
   "mimetype": "text/x-python",
   "name": "python",
   "nbconvert_exporter": "python",
   "pygments_lexer": "ipython3",
   "version": "3.12.7"
  }
 },
 "nbformat": 4,
 "nbformat_minor": 5
}
