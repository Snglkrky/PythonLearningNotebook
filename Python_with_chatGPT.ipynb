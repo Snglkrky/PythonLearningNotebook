{
 "cells": [
  {
   "cell_type": "markdown",
   "id": "873120a7-bdfa-4841-9528-8bfba67fe1c7",
   "metadata": {
    "jp-MarkdownHeadingCollapsed": true
   },
   "source": [
    "# Variables"
   ]
  },
  {
   "cell_type": "raw",
   "id": "a36367e6-0681-49b1-a354-e1c3f2d2452c",
   "metadata": {},
   "source": [
    "Değişkenler, verileri saklamak için kullanılır. Python'da değişken tanımlarken veri tipi belirtmenize gerek yoktur; Python bunu otomatik olarak algılar.\n",
    "\n",
    "Örnekler:\n",
    "x = 10             # Bir tam sayı (integer)\n",
    "y = 3.14           # Ondalıklı sayı (float)\n",
    "isim = \"Ahmet\"     # Metin (string)\n",
    "dogru_mu = True    # Mantıksal değer (boolean)\n",
    "\n",
    "  Kurallar:\n",
    "* Değişken isimleri harf veya alt çizgi (_) ile başlamalıdır.\n",
    "* Sayılar değişken isminin ortasında veya sonunda olabilir, ancak başta olamaz.\n",
    "* Büyük/küçük harf duyarlıdır (örneğin, yas ve Yas farklı değişkenlerdir).\n",
    "* Özel karakterler (örneğin, @, %, $) içeremez.\n",
    "* Atanmış isimler (print, input gibi) kullanılamaz."
   ]
  },
  {
   "cell_type": "markdown",
   "id": "05b3f639-f2c6-4bdc-97ad-c6b90a00e5db",
   "metadata": {
    "jp-MarkdownHeadingCollapsed": true
   },
   "source": [
    "# Data Types"
   ]
  },
  {
   "cell_type": "raw",
   "id": "91a2b0bd-8bba-425a-8256-33316bb87a43",
   "metadata": {},
   "source": [
    "Python'daki temel veri tipleri şunlardır:\n",
    "\n",
    "Veri Tipi  \tAçıklama\t                                     Örnek\n",
    "------------------------------------------------------------------------------------\n",
    "int\t        Tam sayılar\t                                     x = 42\n",
    "float\t    Ondalıklı sayılar\t                             pi = 3.14\n",
    "str\t        Metin (karakter dizisi)\t                         ad = \"Python\"\n",
    "bool\t    Mantıksal değerler (True veya False)\t         dogru_mu = True\n",
    "list\t    Liste (birden fazla öğe saklayabilir)\t         liste = [1, 2, 3]\n",
    "tuple\t    Değiştirilemez liste\t                         demet = (1, 2, 3)\n",
    "dict\t    Sözlük (key-value / anahtar-değer çiftleri)\t     sozluk = {\"ad\": \"Ali\"}\n",
    "set\t        Küme(benzersiz öğeler koleksiyonu)\t             kume = {1, 2, 3}"
   ]
  },
  {
   "cell_type": "code",
   "execution_count": 10,
   "id": "ead7b109-b432-4f43-94be-71aab916a059",
   "metadata": {},
   "outputs": [
    {
     "name": "stdout",
     "output_type": "stream",
     "text": [
      "<class 'int'>\n",
      "<class 'float'>\n"
     ]
    }
   ],
   "source": [
    "# Python'da bir değişkenin tipini öğrenmek için type() fonksiyonu kullanılır:\n",
    "\n",
    "x = 10\n",
    "print(type(x))  \n",
    "\n",
    "y = 3.14\n",
    "print(type(y))  \n"
   ]
  },
  {
   "cell_type": "code",
   "execution_count": 14,
   "id": "7132bf6c-8218-4240-80af-dd10f73c6a8a",
   "metadata": {},
   "outputs": [
    {
     "name": "stdout",
     "output_type": "stream",
     "text": [
      "<class 'str'>\n",
      "<class 'int'>\n"
     ]
    }
   ],
   "source": [
    "# Tip Dönüşümü Örnekleri:\n",
    "\n",
    "# Sayıdan metne dönüşüm\n",
    "sayi = 123\n",
    "metin = str(sayi)\n",
    "print(metin)\n",
    "print(type(metin)) \n",
    "\n",
    "\n",
    "# Metinden sayıya dönüşüm\n",
    "metin = \"456\"\n",
    "sayi = int(metin)\n",
    "print(type(sayi))  "
   ]
  },
  {
   "cell_type": "code",
   "execution_count": 1,
   "id": "b81ebcd5-6415-43d5-bcf9-1a7fa8fcc45f",
   "metadata": {},
   "outputs": [
    {
     "name": "stdin",
     "output_type": "stream",
     "text": [
      "Adınızı girin:  00\n",
      "Yaşınızı girin:  22\n"
     ]
    },
    {
     "name": "stdout",
     "output_type": "stream",
     "text": [
      "Merhaba, 00!\n",
      "Yaşınız: 22\n"
     ]
    }
   ],
   "source": [
    "# Bir kullanıcının adını ve yaşını alıp ekrana yazdıran basit bir kod yazalım:\n",
    "\n",
    "ad = input(\"Adınızı girin: \")               # Kullanıcıdan metin alır\n",
    "yas = int(input(\"Yaşınızı girin: \"))        # Kullanıcıdan tam sayı alır\n",
    "\n",
    "print(\"Merhaba, \" + ad + \"!\")               # Metin birleştirme\n",
    "print(\"Yaşınız:\", yas)                      # Virgül ile yazdırma"
   ]
  },
  {
   "cell_type": "markdown",
   "id": "56ff5215-48c8-40a8-b342-b5cc06bd9a11",
   "metadata": {
    "jp-MarkdownHeadingCollapsed": true
   },
   "source": [
    "# İnput"
   ]
  },
  {
   "cell_type": "raw",
   "id": "a24e6f48-7cbb-4833-af04-5c26e3f8b479",
   "metadata": {},
   "source": [
    " Nasıl Çalışır?\n",
    "\n",
    "input(): Kullanıcının klavyeden girdi yapmasını bekler.\n",
    "Parantez içindeki metin: Kullanıcıya gösterilen bir bilgilendirme mesajıdır.\n",
    "Kullanıcı girdisi: Her zaman bir string (metin) olarak alınır.\n",
    "* input() her zaman string türünde veri döndürür.\n",
    "* Sayısal işlemler için int() ve float() gibi dönüşümler yapılmalıdır.\n",
    "* Çoklu girişlerde split() kullanılabilir.\n",
    "* Hata kontrolüyle veri doğrulaması yapılabilir."
   ]
  },
  {
   "cell_type": "code",
   "execution_count": 6,
   "id": "e3e1fe7c-b1a4-40fd-bece-e9ab51b04663",
   "metadata": {},
   "outputs": [
    {
     "name": "stdin",
     "output_type": "stream",
     "text": [
      "Adınızı giriniz: Songül\n"
     ]
    },
    {
     "name": "stdout",
     "output_type": "stream",
     "text": [
      "Merhaba Songül:)\n"
     ]
    }
   ],
   "source": [
    "ad = input(\"Adınızı giriniz:\")\n",
    "print(\"Merhaba \" + ad + \":)\")"
   ]
  },
  {
   "cell_type": "code",
   "execution_count": 10,
   "id": "c3d93298-fdf7-4b3b-829c-f8c96bc41996",
   "metadata": {},
   "outputs": [
    {
     "name": "stdin",
     "output_type": "stream",
     "text": [
      "Adınız:  Songül\n",
      "Soyadınız:  Karakaya\n",
      "Yaşınız:  22\n",
      "Mesleğiniz:  Data Scientist\n"
     ]
    },
    {
     "name": "stdout",
     "output_type": "stream",
     "text": [
      "Name:    Songül\n",
      "Surname: Karakaya\n",
      "Age:     22\n",
      "job:     Data Scientist\n"
     ]
    }
   ],
   "source": [
    "ad = input(\"Adınız: \")\n",
    "soyad = input(\"Soyadınız: \")\n",
    "yas = input(\"Yaşınız: \")\n",
    "meslek = input(\"Mesleğiniz: \")\n",
    "\n",
    "print(\"Name:    \"+ad)\n",
    "print(\"Surname: \"+soyad)\n",
    "print(\"Age:     \"+yas)\n",
    "print(\"job:     \"+meslek)"
   ]
  },
  {
   "cell_type": "code",
   "execution_count": 85,
   "id": "8b3746f3-0746-4171-b3ee-25612f611f4e",
   "metadata": {},
   "outputs": [
    {
     "name": "stdin",
     "output_type": "stream",
     "text": [
      "Sayıyı giriniz:  2486573\n"
     ]
    },
    {
     "name": "stdout",
     "output_type": "stream",
     "text": [
      "7  basamaklı sayı\n"
     ]
    }
   ],
   "source": [
    "sayi = int(input(\"Sayıyı giriniz: \"))\n",
    "\n",
    "print(len(str(sayi)), \" basamaklı sayı\")"
   ]
  },
  {
   "cell_type": "code",
   "execution_count": 32,
   "id": "9d5591d7-65a3-4d7b-b28c-42dba2d9f221",
   "metadata": {},
   "outputs": [
    {
     "name": "stdin",
     "output_type": "stream",
     "text": [
      "Yaşınızı girin:  14\n"
     ]
    },
    {
     "name": "stdout",
     "output_type": "stream",
     "text": [
      "Reşit olmaya 4 yıl\n"
     ]
    }
   ],
   "source": [
    "# Sayısal değer alma: input() ile alınan veri string türünde olduğu için, sayısal işlemler yapmak için dönüştürme gerekir.\n",
    "\n",
    "yas = int(input(\"Yaşınızı girin: \"))\n",
    "\n",
    "if yas < 18:\n",
    "    print(\"Reşit olmaya \" + str(18-yas) + \" yıl\")\n",
    "else:\n",
    "    print(\"Reşitsiniz\")"
   ]
  },
  {
   "cell_type": "code",
   "execution_count": 36,
   "id": "c8649048-263a-472f-9c30-d7dcac6815a1",
   "metadata": {},
   "outputs": [
    {
     "name": "stdin",
     "output_type": "stream",
     "text": [
      "Yaşınızı girin:  22\n"
     ]
    },
    {
     "name": "stdout",
     "output_type": "stream",
     "text": [
      "Reşitsiniz\n"
     ]
    }
   ],
   "source": [
    "yas = int(input(\"Yaşınızı girin: \"))\n",
    "\n",
    "if yas < 18:\n",
    "    print(\"Reşit olmaya \", 18-yas,  \" yıl\")\n",
    "else:\n",
    "    print(\"Reşitsiniz\")"
   ]
  },
  {
   "cell_type": "code",
   "execution_count": 62,
   "id": "953c0173-e2ea-4290-a6a7-455fa58cb4e4",
   "metadata": {},
   "outputs": [
    {
     "name": "stdin",
     "output_type": "stream",
     "text": [
      "Adınız yaşınız mesleğiniz (virgülle ayırın):    Songül, Karakaya, Data Scientist\n"
     ]
    },
    {
     "name": "stdout",
     "output_type": "stream",
     "text": [
      "isim   :   Songül\n",
      "Soyisim:   Karakaya\n",
      "Meslek :   Data Scientist\n"
     ]
    }
   ],
   "source": [
    "ad, yas, meslek = input(\"Adınız yaşınız mesleğiniz (virgülle ayırın):  \").split(\",\")\n",
    "print(\"isim   : \", ad)\n",
    "print(\"Soyisim: \", yas)\n",
    "print(\"Meslek : \", meslek)"
   ]
  },
  {
   "cell_type": "markdown",
   "id": "85a8c040-b13b-4c77-b53b-4a9cc7983a40",
   "metadata": {
    "jp-MarkdownHeadingCollapsed": true
   },
   "source": [
    "# Conditional Commands"
   ]
  },
  {
   "cell_type": "raw",
   "id": "38286d5e-f8dc-4a56-a24e-3e7767b38d5a",
   "metadata": {
    "jp-MarkdownHeadingCollapsed": true
   },
   "source": [
    ".. İf ...................................................................\n",
    "if : Bir koşulu kontrol eder.\n",
    ":  : Koşulun bittiğini belirtir.\n",
    "Girinti (Indentation): Koşul sağlanırsa, girintili satırlar çalıştırılır."
   ]
  },
  {
   "cell_type": "code",
   "execution_count": 68,
   "id": "abba2a1a-9d61-4387-9cbe-acff26ebcfa8",
   "metadata": {},
   "outputs": [
    {
     "name": "stdout",
     "output_type": "stream",
     "text": [
      "Sıfır.\n"
     ]
    }
   ],
   "source": [
    "sayi = 0\n",
    "\n",
    "if sayi > 0:\n",
    "    print(\"Pozitif.\")\n",
    "elif sayi < 0:  # Başka bir koşul\n",
    "    print(\"Negatif.\")\n",
    "else:  # Yukarıdaki hiçbir koşul sağlanmazsa\n",
    "    print(\"Sıfır.\")\n"
   ]
  },
  {
   "cell_type": "code",
   "execution_count": null,
   "id": "047870c4-d657-4093-bbea-eac392b9faab",
   "metadata": {},
   "outputs": [],
   "source": []
  },
  {
   "cell_type": "code",
   "execution_count": 119,
   "id": "938f5dec-a1a4-4a11-8615-b08507d3b9ce",
   "metadata": {},
   "outputs": [
    {
     "name": "stdin",
     "output_type": "stream",
     "text": [
      "1. kenar uzunluğu:  68\n",
      "2. kenar uzunluğu:  45\n",
      "3. kenar uzunluğu:  75\n"
     ]
    },
    {
     "name": "stdout",
     "output_type": "stream",
     "text": [
      "Çeşitkenar Üçgen\n"
     ]
    }
   ],
   "source": [
    "# Kenar uzunlukları girilen bir üçgenin eşkenar, ikizkenar veya çeşitkenar olduğunu belirleyen bir kod yazın.\n",
    "\n",
    "k_1 = int(input(\"1. kenar uzunluğu: \"))            # Mutlak değer: abs()\n",
    "k_2 = int(input(\"2. kenar uzunluğu: \"))\n",
    "k_3 = int(input(\"3. kenar uzunluğu: \"))\n",
    "\n",
    "if k_1 + k_2 <= k_3 or k_3 + k_2 <= k_1 or k_1 + k_3 <= k_2 or abs(k_1-k_2) >= k_3 or abs(k_1 - k_3) >= k_2 or abs(k_2 - k_3) >= k_1 : \n",
    "    print(\"Üçgen Çizilemez!\")\n",
    "elif k_1 == k_2 and k_2 == k_3:\n",
    "    print(\"Eşitkenar Üçgen\")\n",
    "elif k_1 == k_2 or k_1 == k_3 or k_3 == k_2:\n",
    "    print(\"İkizkenar Üçgen\")\n",
    "else: \n",
    "    print(\"Çeşitkenar Üçgen\")"
   ]
  },
  {
   "cell_type": "markdown",
   "id": "4b7600f4-1e95-4be9-94f3-06cd36cc095d",
   "metadata": {},
   "source": [
    "# Loops"
   ]
  },
  {
   "cell_type": "raw",
   "id": "3031d294-093c-4a74-91be-47bca6424670",
   "metadata": {},
   "source": [
    "Python'da döngüler, belirli işlemleri tekrar tekrar gerçekleştirmek için kullanılır. İki ana döngü türü vardır:\n",
    "\n",
    "for döngüsü - Belirli bir aralık veya koleksiyon üzerinde iterasyon yapar.\n",
    "while döngüsü - Bir koşul sağlandığı sürece çalışır"
   ]
  },
  {
   "cell_type": "markdown",
   "id": "7c1dbd55-dfe2-4b31-9800-ffa479117ed0",
   "metadata": {},
   "source": [
    "## For"
   ]
  },
  {
   "cell_type": "raw",
   "id": "a28b6bf1-3100-44c2-882f-44c5998ea4e6",
   "metadata": {},
   "source": [
    "Bir koleksiyon (liste, dizi, string, tuple vb.) veya aralık üzerinde dönmek için kullanılır.\n",
    "\n",
    "range(5): 0'dan 4'e kadar sayılar üretir.\n",
    "i: Her döngüde sıradaki değeri alır.\n",
    "Girinti (indentation): Döngü içinde çalıştırılacak kodları belirtir. (Aşağıdaki ilk kodda print komutu var girdide)"
   ]
  },
  {
   "cell_type": "code",
   "execution_count": 151,
   "id": "ff4820fe-765d-4981-ab2d-bf696ed7611d",
   "metadata": {},
   "outputs": [
    {
     "name": "stdout",
     "output_type": "stream",
     "text": [
      "96\n",
      "97\n",
      "98\n",
      "99\n",
      "100\n",
      "101\n",
      "102\n",
      "103\n"
     ]
    }
   ],
   "source": [
    "for x in range(96,104):\n",
    "    print(x)"
   ]
  },
  {
   "cell_type": "code",
   "execution_count": 155,
   "id": "66622af9-3f50-4f40-bf0e-15cc60f84daf",
   "metadata": {},
   "outputs": [
    {
     "name": "stdout",
     "output_type": "stream",
     "text": [
      "2\n",
      "4\n",
      "6\n",
      "8\n"
     ]
    }
   ],
   "source": [
    "for i in range(2, 10, 2):  # 2'den başla, 10'a kadar git(10 dahil değil), 2'şer art.\n",
    "    print(i)"
   ]
  },
  {
   "cell_type": "code",
   "execution_count": 159,
   "id": "5c4c13ef-2cbd-4165-a02a-3b4b007bbafc",
   "metadata": {},
   "outputs": [
    {
     "name": "stdout",
     "output_type": "stream",
     "text": [
      "Ocak\n",
      "Şubat\n",
      "Mart\n",
      "Nisan\n",
      "Mayıs\n",
      "Haziran\n",
      "Temmuz\n"
     ]
    }
   ],
   "source": [
    "aylar = [\"Ocak\",\"Şubat\", \"Mart\", \"Nisan\", \"Mayıs\", \"Haziran\", \"Temmuz\"]\n",
    "\n",
    "for ay in aylar:\n",
    "    print(ay)"
   ]
  },
  {
   "cell_type": "code",
   "execution_count": 163,
   "id": "0f5ea45f-02bd-413f-8f10-b58b827e5b68",
   "metadata": {},
   "outputs": [
    {
     "name": "stdout",
     "output_type": "stream",
     "text": [
      "S\n",
      "t\n",
      "r\n",
      "i\n",
      "n\n",
      "g\n"
     ]
    }
   ],
   "source": [
    "for harf in \"String\":\n",
    "    print(harf)"
   ]
  },
  {
   "cell_type": "markdown",
   "id": "619dcf1b-dc9b-4eaf-b3ca-96a2ee0bdaba",
   "metadata": {
    "jp-MarkdownHeadingCollapsed": true
   },
   "source": [
    "### İç İçe Döngüler"
   ]
  },
  {
   "cell_type": "code",
   "execution_count": null,
   "id": "eba6ae11-f776-435b-8b59-ae77fb6478cc",
   "metadata": {},
   "outputs": [],
   "source": []
  },
  {
   "cell_type": "markdown",
   "id": "1f8d6dc4-7282-44b3-97e6-787ce75df57d",
   "metadata": {},
   "source": [
    "## While"
   ]
  },
  {
   "cell_type": "raw",
   "id": "33ce07bc-7602-42a6-a622-6eb93c9a123c",
   "metadata": {},
   "source": [
    "Bir koşul doğru olduğu sürece çalışır.\n"
   ]
  },
  {
   "cell_type": "code",
   "execution_count": 169,
   "id": "fdbce78b-6773-42de-872b-f134f347bf1a",
   "metadata": {},
   "outputs": [
    {
     "name": "stdout",
     "output_type": "stream",
     "text": [
      "1\n",
      "2\n",
      "3\n",
      "4\n",
      "5\n"
     ]
    }
   ],
   "source": [
    "sayi = 1\n",
    "while sayi <= 5:\n",
    "    print(sayi)\n",
    "    sayi += 1  # sayi = sayi + 1"
   ]
  },
  {
   "cell_type": "markdown",
   "id": "6ca7fcf3-d0f6-416b-928e-ecdcee9b0c0e",
   "metadata": {
    "jp-MarkdownHeadingCollapsed": true
   },
   "source": [
    "# Functions"
   ]
  },
  {
   "cell_type": "raw",
   "id": "f7fd5355-ea84-4b93-967a-1c7c081212e3",
   "metadata": {},
   "source": [
    "Python'da fonksiyonlar, belirli bir işi gerçekleştiren kod bloklarıdır. Bir kere tanımlandığında, aynı işlemi birden fazla kez kullanabilirsiniz. Fonksiyonlar kodu daha düzenli, tekrar kullanılabilir ve okunabilir hale getirir."
   ]
  },
  {
   "cell_type": "code",
   "execution_count": 5,
   "id": "e81d5c5b-fb26-4778-896e-9bb5131d744d",
   "metadata": {},
   "outputs": [],
   "source": [
    "def fonksiyon_adi(parametre1, parametre2):\n",
    "    # İşlemler\n",
    "    return sonuc   "
   ]
  },
  {
   "cell_type": "raw",
   "id": "d1c54056-51b6-48a2-875c-e3d21d9b1ebf",
   "metadata": {},
   "source": [
    "def: Fonksiyon tanımlamak için kullanılır.\n",
    "fonksiyon_adi: Fonksiyonun ismi (kuralları değişken isimleriyle aynıdır).\n",
    "parametreler: Fonksiyona verilen girişlerdir (isteğe bağlıdır).\n",
    "return: Fonksiyonun çıktısını döndürür (isteğe bağlıdır)."
   ]
  },
  {
   "cell_type": "raw",
   "id": "e0ce802a-8ca6-4606-94eb-75baf144d1b2",
   "metadata": {},
   "source": [
    "Varsayılan Parametreler\n",
    "Fonksiyonlara varsayılan değerler tanımlanabilir. Eğer kullanıcı bir değer girmezse bu varsayılan değer kullanılır."
   ]
  },
  {
   "cell_type": "code",
   "execution_count": 1,
   "id": "e8901b0f-3790-4a45-9165-19588f560c76",
   "metadata": {},
   "outputs": [],
   "source": [
    "import random  # Rastgele sayı üretmek için gerekli kütüphane\n",
    "\n",
    "def zar_at():\n",
    "    return random.randint(1, 6)  # 1 ile 6 arasında rastgele bir sayı döndür\n",
    "\n",
    "def oyun():\n",
    "    while True:\n",
    "        secim = input(\"Zar atmak için 'e' tuşlayın, çıkmak için 'q': \").lower()\n",
    "        \n",
    "        if secim == 'e':\n",
    "            sonuc = zar_at()\n",
    "            print(f\"Zar sonucu: {sonuc}\")\n",
    "        elif secim == 'q':\n",
    "            print(\"Oyundan çıkılıyor. Hoşça kal!\")\n",
    "            break\n",
    "        else:\n",
    "            print(\"Geçersiz giriş. Lütfen 'e' veya 'q' tuşlayın.\")\n"
   ]
  },
  {
   "cell_type": "code",
   "execution_count": 3,
   "id": "2ecbd39d-4ac1-468e-9d26-97d3c778df77",
   "metadata": {},
   "outputs": [
    {
     "name": "stdin",
     "output_type": "stream",
     "text": [
      "Zar atmak için 'e' tuşlayın, çıkmak için 'q':  e\n"
     ]
    },
    {
     "name": "stdout",
     "output_type": "stream",
     "text": [
      "Zar sonucu: 5\n"
     ]
    },
    {
     "name": "stdin",
     "output_type": "stream",
     "text": [
      "Zar atmak için 'e' tuşlayın, çıkmak için 'q':  q\n"
     ]
    },
    {
     "name": "stdout",
     "output_type": "stream",
     "text": [
      "Oyundan çıkılıyor. Hoşça kal!\n"
     ]
    }
   ],
   "source": [
    "oyun()"
   ]
  },
  {
   "cell_type": "markdown",
   "id": "208b1aa6-7386-4814-bbc4-b95c4beb8528",
   "metadata": {
    "jp-MarkdownHeadingCollapsed": true
   },
   "source": [
    "## Parameters in Functions"
   ]
  },
  {
   "cell_type": "code",
   "execution_count": 6,
   "id": "d763f13f-8195-4e5c-bac2-86b653669c02",
   "metadata": {},
   "outputs": [
    {
     "name": "stdout",
     "output_type": "stream",
     "text": [
      "Gönderilen argümanlar: (1, 2, 3)\n",
      "6\n",
      "Gönderilen argümanlar: (4, 5, 6, 7, 8)\n",
      "30\n"
     ]
    }
   ],
   "source": [
    "# *args, fonksiyona birden fazla pozisyonel argüman göndermek için kullanılır.\n",
    "\n",
    "def toplama(*args):\n",
    "    print(f\"Gönderilen argümanlar: {args}\")\n",
    "    return sum(args)                 # args, bir tuple olduğu için üzerinde işlemler yapılabilir\n",
    "print(toplama(1, 2, 3))          \n",
    "print(toplama(4, 5, 6, 7, 8))    "
   ]
  },
  {
   "cell_type": "code",
   "execution_count": 8,
   "id": "e9540176-2025-4022-b7de-380885a33257",
   "metadata": {},
   "outputs": [
    {
     "name": "stdout",
     "output_type": "stream",
     "text": [
      "2 karesi: 4\n",
      "3 karesi: 9\n",
      "4 karesi: 16\n"
     ]
    }
   ],
   "source": [
    "def kare_hesapla(*args):\n",
    "    for sayi in args:\n",
    "        print(f\"{sayi} karesi: {sayi ** 2}\")\n",
    "\n",
    "kare_hesapla(2, 3, 4)"
   ]
  },
  {
   "cell_type": "code",
   "execution_count": 1,
   "id": "d3062dc2-05d9-4317-b094-6642a2c7ddb7",
   "metadata": {},
   "outputs": [
    {
     "name": "stdout",
     "output_type": "stream",
     "text": [
      "['ala', 'vela', 'asak']\n"
     ]
    }
   ],
   "source": [
    "A = []\n",
    "for i in [\"ali\",\"veli\",\"isik\"]:\n",
    "    A.append(i.replace(\"i\",\"a\"))\n",
    "print(A)"
   ]
  },
  {
   "cell_type": "code",
   "execution_count": 3,
   "id": "af719ac8-ec87-48c0-8e38-16fe94f31311",
   "metadata": {},
   "outputs": [
    {
     "data": {
      "text/plain": [
       "9"
      ]
     },
     "execution_count": 3,
     "metadata": {},
     "output_type": "execute_result"
    }
   ],
   "source": [
    "fun = lambda x: x**2\n",
    "fun(3)"
   ]
  },
  {
   "cell_type": "code",
   "execution_count": 5,
   "id": "13b7c953-5a6b-4da9-a5b7-69e273c85f0d",
   "metadata": {},
   "outputs": [
    {
     "data": {
      "text/plain": [
       "'a4a'"
      ]
     },
     "execution_count": 5,
     "metadata": {},
     "output_type": "execute_result"
    }
   ],
   "source": [
    "from functools import reduce\n",
    "reduce(lambda a,b: a+b, [\"a\",\"4\",\"a\"])"
   ]
  },
  {
   "cell_type": "code",
   "execution_count": 62,
   "id": "26e17e55-3aa6-43d3-925e-a26c62961dfe",
   "metadata": {},
   "outputs": [
    {
     "name": "stdout",
     "output_type": "stream",
     "text": [
      "0\n",
      "2\n",
      "4\n",
      "6\n",
      "8\n"
     ]
    }
   ],
   "source": [
    "# Çift sayıları filtreleyen Python fonksiyonu\n",
    "\n",
    "def ciftleri_ver(liste):\n",
    "    for sayi in liste:\n",
    "        if sayi%2==0:\n",
    "            print(sayi)\n",
    "\n",
    "listt = range(10)\n",
    "ciftleri_ver(listt)"
   ]
  },
  {
   "cell_type": "code",
   "execution_count": 76,
   "id": "2053a908-2378-4a9b-871a-89225e52e261",
   "metadata": {},
   "outputs": [
    {
     "data": {
      "text/plain": [
       "[0, 2, 4, 6, 8, 10]"
      ]
     },
     "execution_count": 76,
     "metadata": {},
     "output_type": "execute_result"
    }
   ],
   "source": [
    "listi = range(11)\n",
    "\n",
    "def ciftleri_cek(liste):\n",
    "    ciftler = filter(lambda x: x%2==0, liste)\n",
    "    return [*ciftler]\n",
    "          \n",
    "ciftleri_cek(listi)"
   ]
  },
  {
   "cell_type": "code",
   "execution_count": null,
   "id": "f8c56645-9611-41fd-a676-cb788243fc05",
   "metadata": {},
   "outputs": [],
   "source": []
  }
 ],
 "metadata": {
  "kernelspec": {
   "display_name": "Python [conda env:base] *",
   "language": "python",
   "name": "conda-base-py"
  },
  "language_info": {
   "codemirror_mode": {
    "name": "ipython",
    "version": 3
   },
   "file_extension": ".py",
   "mimetype": "text/x-python",
   "name": "python",
   "nbconvert_exporter": "python",
   "pygments_lexer": "ipython3",
   "version": "3.12.7"
  }
 },
 "nbformat": 4,
 "nbformat_minor": 5
}
