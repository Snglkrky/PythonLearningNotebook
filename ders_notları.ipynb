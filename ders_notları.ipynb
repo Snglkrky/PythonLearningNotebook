{
 "cells": [
  {
   "cell_type": "code",
   "execution_count": 8,
   "id": "eea39a64-93e9-4c10-82f3-aa2937ffaf50",
   "metadata": {},
   "outputs": [
    {
     "name": "stdout",
     "output_type": "stream",
     "text": [
      "[4, 5, 3, 15, 20]\n",
      "4\n"
     ]
    }
   ],
   "source": [
    "numbers = [4,5,3,15,20]\n",
    "print(numbers)\n",
    "print(numbers[0])"
   ]
  },
  {
   "cell_type": "code",
   "execution_count": 10,
   "id": "0d920c6f-22ab-4088-8f78-e703fc9c298b",
   "metadata": {},
   "outputs": [
    {
     "name": "stdout",
     "output_type": "stream",
     "text": [
      "4\n",
      "5\n",
      "3\n",
      "15\n",
      "20\n"
     ]
    }
   ],
   "source": [
    "for i in range(len(numbers)):\n",
    "    print(numbers[i])"
   ]
  },
  {
   "cell_type": "code",
   "execution_count": 12,
   "id": "b595db6b-1d40-4e99-80fc-770d1e9ad92e",
   "metadata": {},
   "outputs": [
    {
     "name": "stdout",
     "output_type": "stream",
     "text": [
      "4\n",
      "5\n",
      "3\n",
      "15\n",
      "20\n"
     ]
    }
   ],
   "source": [
    "for number in numbers:\n",
    "    print(number)"
   ]
  },
  {
   "cell_type": "code",
   "execution_count": 16,
   "id": "d4ec11fb-1f05-4bc1-b27a-2e996b0dfb53",
   "metadata": {},
   "outputs": [
    {
     "name": "stdout",
     "output_type": "stream",
     "text": [
      "[3, 4, 5, 15, 20]\n"
     ]
    }
   ],
   "source": [
    "numbers.sort()\n",
    "print(numbers)"
   ]
  },
  {
   "cell_type": "code",
   "execution_count": 18,
   "id": "69f51f01-1413-499d-acad-4ffa017db82a",
   "metadata": {},
   "outputs": [
    {
     "data": {
      "text/plain": [
       "5"
      ]
     },
     "execution_count": 18,
     "metadata": {},
     "output_type": "execute_result"
    }
   ],
   "source": [
    "len(numbers)"
   ]
  },
  {
   "cell_type": "code",
   "execution_count": 88,
   "id": "9a6ac3c1-5851-44e4-b67e-39504a315583",
   "metadata": {},
   "outputs": [],
   "source": [
    "# MEdian\n",
    "numbers = [4,5,3,15,20]\n",
    "def ortanca(numbers):\n",
    "    ns = numbers.sort()\n",
    "    if len(numbers)%2 == 0:\n",
    "        orta = len(numbers)/2 + 1\n",
    "        print(ns[int(orta)])\n",
    "    else:\n",
    "        ort = len(numbers)/2\n",
    "        print(ns[int(ort)])\n",
    "    "
   ]
  },
  {
   "cell_type": "code",
   "execution_count": 92,
   "id": "907c5aad-d2e4-4287-8c7a-68260ac80d29",
   "metadata": {},
   "outputs": [
    {
     "ename": "TypeError",
     "evalue": "'NoneType' object is not subscriptable",
     "output_type": "error",
     "traceback": [
      "\u001b[1;31m---------------------------------------------------------------------------\u001b[0m",
      "\u001b[1;31mTypeError\u001b[0m                                 Traceback (most recent call last)",
      "Cell \u001b[1;32mIn[92], line 1\u001b[0m\n\u001b[1;32m----> 1\u001b[0m ortanca(numbers)\n",
      "Cell \u001b[1;32mIn[88], line 10\u001b[0m, in \u001b[0;36mortanca\u001b[1;34m(numbers)\u001b[0m\n\u001b[0;32m      8\u001b[0m \u001b[38;5;28;01melse\u001b[39;00m:\n\u001b[0;32m      9\u001b[0m     ort \u001b[38;5;241m=\u001b[39m \u001b[38;5;28mlen\u001b[39m(numbers)\u001b[38;5;241m/\u001b[39m\u001b[38;5;241m2\u001b[39m\n\u001b[1;32m---> 10\u001b[0m     \u001b[38;5;28mprint\u001b[39m(ns[\u001b[38;5;28mint\u001b[39m(ort)])\n",
      "\u001b[1;31mTypeError\u001b[0m: 'NoneType' object is not subscriptable"
     ]
    }
   ],
   "source": [
    "ortanca(numbers)"
   ]
  },
  {
   "cell_type": "code",
   "execution_count": 58,
   "id": "c2c41cc3-2c2c-49c5-93aa-03e379827bba",
   "metadata": {},
   "outputs": [],
   "source": [
    "import statistics "
   ]
  },
  {
   "cell_type": "code",
   "execution_count": 48,
   "id": "96228d8b-73f8-413b-a030-b45fff1b8c75",
   "metadata": {},
   "outputs": [
    {
     "name": "stdout",
     "output_type": "stream",
     "text": [
      "9.4\n",
      "3\n",
      "20\n",
      "5\n",
      "7.63544366752843\n"
     ]
    }
   ],
   "source": [
    "numbers = [4,5,3,15,20]\n",
    "print(statistics.mean(numbers))\n",
    "print(min(numbers))\n",
    "print(max(numbers))\n",
    "print(statistics.median(numbers))\n",
    "print(statistics.stdev(numbers))"
   ]
  },
  {
   "cell_type": "code",
   "execution_count": null,
   "id": "86e57b7b-58e3-44fa-b1fe-5dd3e3752a9f",
   "metadata": {},
   "outputs": [],
   "source": [
    "import statistics as st"
   ]
  },
  {
   "cell_type": "code",
   "execution_count": 60,
   "id": "f37300f9-5154-42eb-948f-a28d81c4dc83",
   "metadata": {},
   "outputs": [
    {
     "name": "stdout",
     "output_type": "stream",
     "text": [
      "9.4\n",
      "3\n",
      "20\n",
      "5\n",
      "7.63544366752843\n"
     ]
    }
   ],
   "source": [
    "numbers = [4,5,3,15,20]\n",
    "print(st.mean(numbers))\n",
    "print(min(numbers))\n",
    "print(max(numbers))\n",
    "print(st.median(numbers))\n",
    "print(st.stdev(numbers))"
   ]
  },
  {
   "cell_type": "code",
   "execution_count": 96,
   "id": "90ad6cd7-62d1-4d22-81ad-990575c385cd",
   "metadata": {},
   "outputs": [],
   "source": [
    "from statistics import mean\n",
    "from statistics import median, median as md"
   ]
  },
  {
   "cell_type": "code",
   "execution_count": 98,
   "id": "03335f1a-5d99-4770-9674-b71c86adb2f0",
   "metadata": {},
   "outputs": [
    {
     "data": {
      "text/plain": [
       "9.4"
      ]
     },
     "execution_count": 98,
     "metadata": {},
     "output_type": "execute_result"
    }
   ],
   "source": [
    "mean(numbers)"
   ]
  },
  {
   "cell_type": "code",
   "execution_count": 100,
   "id": "b0cb19a5-dbf9-4826-8fef-e2e029676cac",
   "metadata": {},
   "outputs": [
    {
     "name": "stdout",
     "output_type": "stream",
     "text": [
      "9.4\n",
      "5\n"
     ]
    }
   ],
   "source": [
    "print(mean(numbers))\n",
    "print(md(numbers))"
   ]
  },
  {
   "cell_type": "code",
   "execution_count": 103,
   "id": "64d82782-f381-4b36-9c46-fa0fc4ac2a41",
   "metadata": {},
   "outputs": [],
   "source": [
    "data = {\n",
    "    \"ages\": [45,34,65,70,83],\n",
    "    \"heights\": [170,165,159,163,155],\n",
    "    \"weights\": [62,82,90,77,83]\n",
    "}"
   ]
  },
  {
   "cell_type": "code",
   "execution_count": 105,
   "id": "6e60b6f9-575c-4c10-b225-c71b93ab8028",
   "metadata": {},
   "outputs": [
    {
     "data": {
      "text/plain": [
       "{'ages': [45, 34, 65, 70, 83],\n",
       " 'heights': [170, 165, 159, 163, 155],\n",
       " 'weights': [62, 82, 90, 77, 83]}"
      ]
     },
     "execution_count": 105,
     "metadata": {},
     "output_type": "execute_result"
    }
   ],
   "source": [
    "data"
   ]
  },
  {
   "cell_type": "code",
   "execution_count": 107,
   "id": "0ca55f6c-119e-4be2-9dc2-7829db6884bd",
   "metadata": {},
   "outputs": [
    {
     "data": {
      "text/plain": [
       "[45, 34, 65, 70, 83]"
      ]
     },
     "execution_count": 107,
     "metadata": {},
     "output_type": "execute_result"
    }
   ],
   "source": [
    "data[\"ages\"]"
   ]
  },
  {
   "cell_type": "code",
   "execution_count": 109,
   "id": "e51acd70-fd6a-45b8-9b55-fe76d7ffa84e",
   "metadata": {},
   "outputs": [
    {
     "ename": "TypeError",
     "evalue": "unsupported operand type(s) for /: 'list' and 'int'",
     "output_type": "error",
     "traceback": [
      "\u001b[1;31m---------------------------------------------------------------------------\u001b[0m",
      "\u001b[1;31mTypeError\u001b[0m                                 Traceback (most recent call last)",
      "Cell \u001b[1;32mIn[109], line 1\u001b[0m\n\u001b[1;32m----> 1\u001b[0m bmi \u001b[38;5;241m=\u001b[39m data[\u001b[38;5;124m\"\u001b[39m\u001b[38;5;124mweights\u001b[39m\u001b[38;5;124m\"\u001b[39m]\u001b[38;5;241m/\u001b[39m(data[\u001b[38;5;124m\"\u001b[39m\u001b[38;5;124mheights\u001b[39m\u001b[38;5;124m\"\u001b[39m]\u001b[38;5;241m/\u001b[39m\u001b[38;5;241m100\u001b[39m)\u001b[38;5;241m*\u001b[39m\u001b[38;5;241m*\u001b[39m\u001b[38;5;241m2\u001b[39m\n",
      "\u001b[1;31mTypeError\u001b[0m: unsupported operand type(s) for /: 'list' and 'int'"
     ]
    }
   ],
   "source": [
    "fo\n",
    "bmi = data[\"weights\"]/(data[\"heights\"]/100)**2"
   ]
  },
  {
   "cell_type": "code",
   "execution_count": 115,
   "id": "642bbca8-196c-4f96-9c90-84bd11d3c484",
   "metadata": {},
   "outputs": [
    {
     "name": "stdout",
     "output_type": "stream",
     "text": [
      "[4, 5, 3, 15, 20]\n"
     ]
    }
   ],
   "source": [
    "numbers = [4,5,3,15,20]\n",
    "for number in numbers:\n",
    "    number = number + 2\n",
    "print(numbers)\n"
   ]
  },
  {
   "cell_type": "code",
   "execution_count": 121,
   "id": "971cfd65-de6e-42f5-adfb-dd78f3c18285",
   "metadata": {},
   "outputs": [
    {
     "ename": "IndexError",
     "evalue": "list index out of range",
     "output_type": "error",
     "traceback": [
      "\u001b[1;31m---------------------------------------------------------------------------\u001b[0m",
      "\u001b[1;31mIndexError\u001b[0m                                Traceback (most recent call last)",
      "Cell \u001b[1;32mIn[121], line 3\u001b[0m\n\u001b[0;32m      1\u001b[0m bmi \u001b[38;5;241m=\u001b[39m []\n\u001b[0;32m      2\u001b[0m \u001b[38;5;28;01mfor\u001b[39;00m i \u001b[38;5;129;01min\u001b[39;00m data[\u001b[38;5;124m\"\u001b[39m\u001b[38;5;124mages\u001b[39m\u001b[38;5;124m\"\u001b[39m]:\n\u001b[1;32m----> 3\u001b[0m     bmi\u001b[38;5;241m.\u001b[39mappend(data[\u001b[38;5;124m\"\u001b[39m\u001b[38;5;124mweights\u001b[39m\u001b[38;5;124m\"\u001b[39m][i]\u001b[38;5;241m/\u001b[39m(data[\u001b[38;5;124m\"\u001b[39m\u001b[38;5;124mheights\u001b[39m\u001b[38;5;124m\"\u001b[39m][i]\u001b[38;5;241m/\u001b[39m\u001b[38;5;241m100\u001b[39m)\u001b[38;5;241m*\u001b[39m\u001b[38;5;241m*\u001b[39m\u001b[38;5;241m2\u001b[39m)\n",
      "\u001b[1;31mIndexError\u001b[0m: list index out of range"
     ]
    }
   ],
   "source": [
    "bmi = []\n",
    "for i in data[\"ages\"]:\n",
    "    bmi.append(data[\"weights\"][i]/(data[\"heights\"][i]/100)**2)\n",
    "    "
   ]
  },
  {
   "cell_type": "code",
   "execution_count": null,
   "id": "f5ac73f2-949d-4ebe-9159-d50a453e76ab",
   "metadata": {},
   "outputs": [],
   "source": []
  }
 ],
 "metadata": {
  "kernelspec": {
   "display_name": "Python 3 (ipykernel)",
   "language": "python",
   "name": "python3"
  },
  "language_info": {
   "codemirror_mode": {
    "name": "ipython",
    "version": 3
   },
   "file_extension": ".py",
   "mimetype": "text/x-python",
   "name": "python",
   "nbconvert_exporter": "python",
   "pygments_lexer": "ipython3",
   "version": "3.12.7"
  }
 },
 "nbformat": 4,
 "nbformat_minor": 5
}
